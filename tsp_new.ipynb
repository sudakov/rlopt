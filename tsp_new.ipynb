{
 "cells": [
  {
   "cell_type": "markdown",
   "id": "670f2e41-ed86-4674-8039-1f0856760425",
   "metadata": {},
   "source": [
    "# Draft"
   ]
  },
  {
   "cell_type": "code",
   "execution_count": null,
   "id": "a1e2f2c1-4415-4bfd-889b-07d529f96934",
   "metadata": {},
   "outputs": [],
   "source": [
    "import gymnasium as gym\n",
    "import numpy as np\n",
    "from stable_baselines3 import PPO\n",
    "import datetime\n",
    "import tqdm"
   ]
  },
  {
   "cell_type": "code",
   "execution_count": null,
   "id": "1b2d36a6-c020-464d-a273-4eb8ac2e1c6e",
   "metadata": {},
   "outputs": [],
   "source": [
    "N = 5\n",
    "rand = np.random.RandomState(1)\n",
    "a = np.round(rand.normal(5, 1.5, size=(N, N)),2)\n",
    "a[np.eye(N)==1] = 0\n",
    "a = -(a / a.max())\n",
    "a"
   ]
  },
  {
   "cell_type": "code",
   "execution_count": null,
   "id": "5831eb67-7f03-411b-a950-7a0bc6be0555",
   "metadata": {},
   "outputs": [],
   "source": [
    "class MyEnv(gym.Env):\n",
    "    def __init__(self, env_config):\n",
    "        self.n = env_config['n']\n",
    "        self.a = env_config['a']\n",
    "        self.action_space = gym.spaces.Discrete(self.n)\n",
    "        self.observation_space = gym.spaces.Box(low=-2.0, \n",
    "                                                high=0.0, \n",
    "                                                shape=(self.n,self.n), dtype=np.float32)\n",
    "    def reset(self, seed=None, options=None):\n",
    "        self.obs = self.a.copy()\n",
    "        return self.obs, {}\n",
    "        \n",
    "    def step(self, action):\n",
    "        reward = self.obs[0, action]\n",
    "        self.obs[:, action] = -2.0\n",
    "        terminated = False\n",
    "        truncated = False\n",
    "        if np.all(self.obs[0]<=-2.0):\n",
    "            terminated = True\n",
    "        else:\n",
    "            # переставляем\n",
    "            pass\n",
    "        #print(f\"action = {action} reward = {reward} terminated = {terminated}\")\n",
    "        return self.obs, reward, terminated, truncated, {}"
   ]
  },
  {
   "cell_type": "code",
   "execution_count": null,
   "id": "3a5253cf-dcc0-4311-aa55-bd50b2a7bada",
   "metadata": {},
   "outputs": [],
   "source": [
    "env = MyEnv(env_config = {\"n\": N, \"a\": a} )"
   ]
  },
  {
   "cell_type": "code",
   "execution_count": null,
   "id": "596461e6-7a28-49b9-ac2c-c54e84f11f48",
   "metadata": {},
   "outputs": [],
   "source": [
    "print(datetime.datetime.now())\n",
    "model = PPO(\"MlpPolicy\", env, verbose=1)\n",
    "model.learn(total_timesteps=1024, progress_bar = True)\n",
    "print(datetime.datetime.now())"
   ]
  },
  {
   "cell_type": "code",
   "execution_count": null,
   "id": "a2e856cf-5971-4c5e-9dd5-01d03fcfbead",
   "metadata": {},
   "outputs": [],
   "source": [
    "obs, _ = env.reset()\n",
    "actions = []\n",
    "for i in range(100):\n",
    "    action, _states = model.predict(obs, deterministic=True)\n",
    "    obs, reward, terminated, truncated, info = env.step(action)\n",
    "    actions.append(int(action))\n",
    "    if terminated or truncated:\n",
    "        print(f\"{actions}\")\n",
    "        break\n",
    "env.close()"
   ]
  },
  {
   "cell_type": "code",
   "execution_count": null,
   "id": "f394a736-ed8f-4b59-9775-c1d63a3415c7",
   "metadata": {},
   "outputs": [],
   "source": []
  }
 ],
 "metadata": {
  "kernelspec": {
   "display_name": "Python 3 (ipykernel)",
   "language": "python",
   "name": "python3"
  },
  "language_info": {
   "codemirror_mode": {
    "name": "ipython",
    "version": 3
   },
   "file_extension": ".py",
   "mimetype": "text/x-python",
   "name": "python",
   "nbconvert_exporter": "python",
   "pygments_lexer": "ipython3",
   "version": "3.11.10"
  }
 },
 "nbformat": 4,
 "nbformat_minor": 5
}
