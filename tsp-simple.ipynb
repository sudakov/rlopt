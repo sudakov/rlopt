{
 "cells": [
  {
   "cell_type": "code",
   "execution_count": null,
   "id": "4aabcd98",
   "metadata": {},
   "outputs": [],
   "source": [
    "import numpy as np\n",
    "import gym\n",
    "from stable_baselines3 import PPO\n",
    "import math\n",
    "import itertools\n",
    "import datetime"
   ]
  },
  {
   "cell_type": "code",
   "execution_count": null,
   "id": "d6a06f55",
   "metadata": {},
   "outputs": [],
   "source": [
    "N = 5\n",
    "rand = np.random.RandomState(1)\n",
    "M = np.round(rand.normal(5, 1.5, size=(N, N)),2)\n",
    "M[np.eye(N)==1] = 0\n",
    "M"
   ]
  },
  {
   "cell_type": "code",
   "execution_count": null,
   "id": "c861f869",
   "metadata": {},
   "outputs": [],
   "source": [
    "math.factorial(N-1)"
   ]
  },
  {
   "cell_type": "code",
   "execution_count": null,
   "id": "f1a6a97d",
   "metadata": {
    "scrolled": true
   },
   "outputs": [],
   "source": [
    "x_min = []\n",
    "g_min = 100000000\n",
    "print(datetime.datetime.now())\n",
    "for i, x in enumerate(itertools.permutations(range(1,N), N-1)):\n",
    "    x = (0,) + x\n",
    "    g = np.sum(M[x[:-1], x[1:]])+M[x[-1], x[0]]\n",
    "    if g < g_min:\n",
    "        g_min = g\n",
    "        x_min = x\n",
    "    if i % 1000 == 0:\n",
    "        print(i, x_min, g_min)\n",
    "print(datetime.datetime.now())\n",
    "print('Optimal solution:')\n",
    "print(x_min, g_min)"
   ]
  },
  {
   "cell_type": "code",
   "execution_count": null,
   "id": "e4f584d6",
   "metadata": {},
   "outputs": [],
   "source": [
    "class MyEnv(gym.Env):\n",
    "    def __init__(self):\n",
    "        super().__init__()\n",
    "        self.n = N-1\n",
    "        self.action_space = gym.spaces.Discrete(self.n)\n",
    "        self.observation_space = gym.spaces.Dict({\n",
    "            'visited': gym.spaces.MultiBinary(self.n), \n",
    "            'last': gym.spaces.Discrete(N)})   \n",
    "        \n",
    "    def reset(self):\n",
    "        self.state = {'visited': np.zeros(self.n), 'last': 0}\n",
    "        visited = np.zeros(self.n)\n",
    "        return self.state\n",
    "\n",
    "    def step(self, action):\n",
    "        if self.state['visited'][action] == 1:\n",
    "            self.reward = -10\n",
    "        else:\n",
    "            self.state['visited'][action] = 1\n",
    "            self.reward = - M[self.state['last'], action + 1]\n",
    "            self.state['last'] = action + 1\n",
    "        if np.all(self.state['visited'] == 1): \n",
    "            self.reward += - M[action + 1, 0]    \n",
    "            self.done = True\n",
    "        else:\n",
    "            self.done = False\n",
    "            \n",
    "        return self.state, self.reward, self.done, {}"
   ]
  },
  {
   "cell_type": "code",
   "execution_count": null,
   "id": "15135a2c",
   "metadata": {},
   "outputs": [],
   "source": [
    "env = MyEnv()"
   ]
  },
  {
   "cell_type": "code",
   "execution_count": null,
   "id": "2988b667",
   "metadata": {},
   "outputs": [],
   "source": [
    "print(datetime.datetime.now())\n",
    "model = PPO(\"MultiInputPolicy\", env, verbose=1)\n",
    "model.learn(total_timesteps=20000)\n",
    "print(datetime.datetime.now())"
   ]
  },
  {
   "cell_type": "code",
   "execution_count": null,
   "id": "ca52efa1",
   "metadata": {},
   "outputs": [],
   "source": [
    "obs = env.reset()\n",
    "g = 0\n",
    "actions = [0]\n",
    "for i in range(100000):\n",
    "    action, _states = model.predict(obs, deterministic=True)\n",
    "    obs, reward, done, info = env.step(action)\n",
    "    g += M[actions[-1], action + 1]\n",
    "    actions.append(action + 1)\n",
    "    if done:\n",
    "        obs = env.reset()\n",
    "        g += M[actions[-1], 0]\n",
    "        print(f\"{actions}, g = {g}\")\n",
    "        break\n",
    "env.close()"
   ]
  },
  {
   "cell_type": "code",
   "execution_count": null,
   "id": "c55c058b",
   "metadata": {},
   "outputs": [],
   "source": []
  }
 ],
 "metadata": {
  "kernelspec": {
   "display_name": "Python 3 (ipykernel)",
   "language": "python",
   "name": "python3"
  },
  "language_info": {
   "codemirror_mode": {
    "name": "ipython",
    "version": 3
   },
   "file_extension": ".py",
   "mimetype": "text/x-python",
   "name": "python",
   "nbconvert_exporter": "python",
   "pygments_lexer": "ipython3",
   "version": "3.9.11"
  }
 },
 "nbformat": 4,
 "nbformat_minor": 5
}
