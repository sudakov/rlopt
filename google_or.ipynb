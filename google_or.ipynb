{
 "cells": [
  {
   "cell_type": "code",
   "execution_count": 51,
   "id": "78db2f99-3661-4129-abce-c0c41ba04d35",
   "metadata": {},
   "outputs": [],
   "source": [
    "from ortools.constraint_solver import pywrapcp\n",
    "from ortools.constraint_solver import routing_enums_pb2\n",
    "from ortools.sat.python import cp_model\n",
    "import numpy as np"
   ]
  },
  {
   "cell_type": "code",
   "execution_count": 39,
   "id": "4ed87413-5db2-4bfb-8daf-e562738a65ad",
   "metadata": {},
   "outputs": [],
   "source": [
    "X = np.load('X_20x20.npy')\n",
    "a = (X[0]* 10000.00).astype(int)"
   ]
  },
  {
   "cell_type": "code",
   "execution_count": 40,
   "id": "5f0defb9-d034-4427-b977-cff1660411cc",
   "metadata": {},
   "outputs": [],
   "source": [
    "data = {}\n",
    "data[\"distance_matrix\"] = a\n",
    "data[\"num_vehicles\"] = 1\n",
    "data[\"depot\"] = 0\n",
    "manager = pywrapcp.RoutingIndexManager(\n",
    "    len(data[\"distance_matrix\"]), data[\"num_vehicles\"], data[\"depot\"]\n",
    ")\n",
    "routing = pywrapcp.RoutingModel(manager)\n",
    "def distance_callback(from_index, to_index):\n",
    "    from_node = manager.IndexToNode(from_index)\n",
    "    to_node = manager.IndexToNode(to_index)\n",
    "    return data[\"distance_matrix\"][from_node][to_node]\n",
    "transit_callback_index = routing.RegisterTransitCallback(distance_callback)\n",
    "routing.SetArcCostEvaluatorOfAllVehicles(transit_callback_index)\n",
    "search_parameters = pywrapcp.DefaultRoutingSearchParameters()\n",
    "search_parameters.first_solution_strategy = (\n",
    "    routing_enums_pb2.FirstSolutionStrategy.PATH_CHEAPEST_ARC\n",
    ")"
   ]
  },
  {
   "cell_type": "code",
   "execution_count": 45,
   "id": "9bdbfc33-e8d5-462c-9256-e33c27c9a87c",
   "metadata": {},
   "outputs": [],
   "source": [
    "def get_solution(manager, routing, solution):\n",
    "    index = routing.Start(0)\n",
    "    route = []\n",
    "    while not routing.IsEnd(index):\n",
    "        route.append(manager.IndexToNode(index))\n",
    "        index = solution.Value(routing.NextVar(index))\n",
    "    return solution.ObjectiveValue(), route"
   ]
  },
  {
   "cell_type": "code",
   "execution_count": 49,
   "id": "75fa3fde-73c2-4e19-890f-8a563f8b9948",
   "metadata": {},
   "outputs": [
    {
     "name": "stdout",
     "output_type": "stream",
     "text": [
      "Solver status:  1\n"
     ]
    },
    {
     "data": {
      "text/plain": [
       "(2497357,\n",
       " [0, 5, 17, 19, 2, 13, 16, 18, 7, 11, 4, 6, 12, 3, 10, 14, 8, 9, 15, 1])"
      ]
     },
     "execution_count": 49,
     "metadata": {},
     "output_type": "execute_result"
    }
   ],
   "source": [
    "solution = routing.SolveWithParameters(search_parameters)\n",
    "print(\"Solver status: \", routing.status())\n",
    "get_solution(manager, routing, solution)"
   ]
  },
  {
   "cell_type": "code",
   "execution_count": 50,
   "id": "0a1c0979-2de7-42d1-9adc-93885c2b004b",
   "metadata": {},
   "outputs": [
    {
     "name": "stdout",
     "output_type": "stream",
     "text": [
      "5.69 ms ± 11.3 μs per loop (mean ± std. dev. of 7 runs, 100 loops each)\n"
     ]
    }
   ],
   "source": [
    "%timeit routing.SolveWithParameters(search_parameters)"
   ]
  },
  {
   "cell_type": "code",
   "execution_count": 56,
   "id": "052fb4c7-4f01-4632-88d8-2a70e412d47f",
   "metadata": {},
   "outputs": [
    {
     "name": "stdout",
     "output_type": "stream",
     "text": [
      "Route: 0 5 17 19 2 12 3 10 6 4 13 16 18 7 11 15 1 14 8 9 0\n",
      "distance: 244.5748\n"
     ]
    }
   ],
   "source": [
    "DISTANCE_MATRIX = a\n",
    "num_nodes = len(DISTANCE_MATRIX)\n",
    "all_nodes = range(num_nodes)\n",
    "\n",
    "# Model.\n",
    "model = cp_model.CpModel()\n",
    "\n",
    "obj_vars = []\n",
    "obj_coeffs = []\n",
    "\n",
    "# Create the circuit constraint.\n",
    "arcs = []\n",
    "arc_literals = {}\n",
    "for i in all_nodes:\n",
    "    for j in all_nodes:\n",
    "        if i == j:\n",
    "            continue\n",
    "\n",
    "        lit = model.new_bool_var(\"%i follows %i\" % (j, i))\n",
    "        arcs.append((i, j, lit))\n",
    "        arc_literals[i, j] = lit\n",
    "\n",
    "        obj_vars.append(lit)\n",
    "        obj_coeffs.append(DISTANCE_MATRIX[i][j])\n",
    "\n",
    "model.add_circuit(arcs)\n",
    "\n",
    "# Minimize weighted sum of arcs. Because this s\n",
    "model.minimize(sum(obj_vars[i] * obj_coeffs[i] for i in range(len(obj_vars))))\n",
    "\n",
    "# Solve and print out the solution.\n",
    "solver = cp_model.CpSolver()\n",
    "#solver.parameters.log_search_progress = True\n",
    "# To benefit from the linearization of the circuit constraint.\n",
    "solver.parameters.linearization_level = 2\n",
    "\n",
    "solver.solve(model)\n",
    "# print(solver.response_stats())\n",
    "\n",
    "current_node = 0\n",
    "str_route = \"%i\" % current_node\n",
    "route_is_finished = False\n",
    "route_distance = 0\n",
    "while not route_is_finished:\n",
    "    for i in all_nodes:\n",
    "        if i == current_node:\n",
    "            continue\n",
    "        if solver.boolean_value(arc_literals[current_node, i]):\n",
    "            str_route += \" %i\" % i\n",
    "            route_distance += DISTANCE_MATRIX[current_node][i]\n",
    "            current_node = i\n",
    "            if current_node == 0:\n",
    "                route_is_finished = True\n",
    "            break\n",
    "\n",
    "print(\"Route:\", str_route)\n",
    "print(\"distance:\", route_distance/10000)\n"
   ]
  },
  {
   "cell_type": "code",
   "execution_count": 57,
   "id": "80700150-d4ba-40ca-acce-ff65c0e5a71b",
   "metadata": {},
   "outputs": [
    {
     "name": "stdout",
     "output_type": "stream",
     "text": [
      "29.1 ms ± 12.2 ms per loop (mean ± std. dev. of 7 runs, 10 loops each)\n"
     ]
    }
   ],
   "source": [
    "%timeit solver.solve(model)"
   ]
  },
  {
   "cell_type": "code",
   "execution_count": null,
   "id": "88e0dbb0-80c1-477b-a3b9-82ff5ea4b1c4",
   "metadata": {},
   "outputs": [],
   "source": []
  }
 ],
 "metadata": {
  "kernelspec": {
   "display_name": "Python 3 (ipykernel)",
   "language": "python",
   "name": "python3"
  },
  "language_info": {
   "codemirror_mode": {
    "name": "ipython",
    "version": 3
   },
   "file_extension": ".py",
   "mimetype": "text/x-python",
   "name": "python",
   "nbconvert_exporter": "python",
   "pygments_lexer": "ipython3",
   "version": "3.12.9"
  }
 },
 "nbformat": 4,
 "nbformat_minor": 5
}
