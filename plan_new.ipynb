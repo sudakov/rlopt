{
 "cells": [
  {
   "cell_type": "markdown",
   "id": "670f2e41-ed86-4674-8039-1f0856760425",
   "metadata": {},
   "source": [
    "# Draft"
   ]
  },
  {
   "cell_type": "code",
   "execution_count": 36,
   "id": "a1e2f2c1-4415-4bfd-889b-07d529f96934",
   "metadata": {},
   "outputs": [],
   "source": [
    "import gymnasium as gym\n",
    "import numpy as np\n",
    "from stable_baselines3 import PPO\n",
    "import datetime\n",
    "import tqdm\n",
    "from stable_baselines3.common.monitor import Monitor\n",
    "from stable_baselines3.common.results_plotter import load_results, ts2xy\n",
    "from stable_baselines3.common.noise import NormalActionNoise\n",
    "from stable_baselines3.common.callbacks import BaseCallback\n",
    "import os\n",
    "import matplotlib.pyplot as plt"
   ]
  },
  {
   "cell_type": "code",
   "execution_count": 37,
   "id": "4b1ab284-d5fc-469b-9411-1bfd0ac515d4",
   "metadata": {},
   "outputs": [],
   "source": [
    "class SaveOnBestTrainingRewardCallback(BaseCallback):\n",
    "    \"\"\"\n",
    "    Callback for saving a model (the check is done every ``check_freq`` steps)\n",
    "    based on the training reward (in practice, we recommend using ``EvalCallback``).\n",
    "\n",
    "    :param check_freq: (int)\n",
    "    :param log_dir: (str) Path to the folder where the model will be saved.\n",
    "      It must contains the file created by the ``Monitor`` wrapper.\n",
    "    :param verbose: (int)\n",
    "    \"\"\"\n",
    "\n",
    "    def __init__(self, check_freq: int, log_dir: str, verbose=1):\n",
    "        super().__init__(verbose)\n",
    "        self.check_freq = check_freq\n",
    "        self.log_dir = log_dir\n",
    "        self.save_path = os.path.join(log_dir, \"best_model\")\n",
    "        self.best_mean_reward = -np.inf\n",
    "\n",
    "    def _init_callback(self) -> None:\n",
    "        # Create folder if needed\n",
    "        if self.save_path is not None:\n",
    "            os.makedirs(self.save_path, exist_ok=True)\n",
    "\n",
    "    def _on_step(self) -> bool:\n",
    "        if self.n_calls % self.check_freq == 0:\n",
    "\n",
    "            # Retrieve training reward\n",
    "            x, y = ts2xy(load_results(self.log_dir), \"timesteps\")\n",
    "            if len(x) > 0:\n",
    "                # Mean training reward over the last 100 episodes\n",
    "                mean_reward = np.mean(y[-100:])\n",
    "                if self.verbose > 0:\n",
    "                    print(f\"Число шагов: {self.num_timesteps}\")\n",
    "                    print(\n",
    "                        f\"Наилучшая средняя награда: {self.best_mean_reward:.2f} - Наилучшая средняя награда в эпизоде: {mean_reward:.2f}\"\n",
    "                    )\n",
    "\n",
    "                # New best model, you could save the agent here\n",
    "                if mean_reward > self.best_mean_reward:\n",
    "                    self.best_mean_reward = mean_reward\n",
    "                    # Example for saving best model\n",
    "                    if self.verbose > 0:\n",
    "                        print(f\"Сохраняем новую лучшую модель в папку {self.save_path}.zip\")\n",
    "                    self.model.save(self.save_path)\n",
    "\n",
    "        return True"
   ]
  },
  {
   "cell_type": "code",
   "execution_count": 38,
   "id": "1b2d36a6-c020-464d-a273-4eb8ac2e1c6e",
   "metadata": {},
   "outputs": [
    {
     "data": {
      "text/plain": [
       "(array([[7.44, 4.08],\n",
       "        [4.21, 3.39],\n",
       "        [6.3 , 1.55],\n",
       "        [7.62, 3.86],\n",
       "        [5.48, 4.63]]),\n",
       " array([21.735, 12.257]),\n",
       " array([12.92,  5.88,  9.36,  9.23, 12.27]))"
      ]
     },
     "execution_count": 38,
     "metadata": {},
     "output_type": "execute_result"
    }
   ],
   "source": [
    "N = 5 # Число проектов\n",
    "M = 2 # Число ресурсов\n",
    "rand = np.random.RandomState(1)\n",
    "a = np.round(rand.normal(5, 1.5, size=(N, M)),2) # Потребность проектов в ресурсах\n",
    "b = a.sum(axis = 0)*0.7 # Сколько ресурсов доступно\n",
    "c = np.round(rand.normal(10.0, 2.0, size=(N,)),2) # Приоритеты/полезность проектов\n",
    "a,b,c"
   ]
  },
  {
   "cell_type": "code",
   "execution_count": 39,
   "id": "5831eb67-7f03-411b-a950-7a0bc6be0555",
   "metadata": {},
   "outputs": [],
   "source": [
    "class MyEnv(gym.Env):\n",
    "    def __init__(self, env_config):\n",
    "        self.n = env_config['n']\n",
    "        self.m = env_config['m']\n",
    "        self.a = env_config['a']\n",
    "        self.b = env_config['b']\n",
    "        self.c = env_config['c']\n",
    "        self.action_space = gym.spaces.Discrete(self.n)\n",
    "        self.observation_space = gym.spaces.Dict(\n",
    "            {\"free\": gym.spaces.Box(low=0.0, high=b.max(), shape=(self.m,), dtype=np.float32),\n",
    "             \"use\": gym.spaces.MultiBinary(self.n)}\n",
    "        )\n",
    "    def reset(self, seed=None, options=None):\n",
    "        self.obs = {\"free\": self.b.copy(),  \"use\": np.zeros(self.n)}\n",
    "        return self.obs, {}\n",
    "        \n",
    "    def step(self, action):\n",
    "        if self.obs[\"use\"][action] == 1:\n",
    "            reward = -1\n",
    "        elif np.all(self.a[action] <= self.obs[\"free\"]):         \n",
    "            reward = self.c[action]\n",
    "            self.obs[\"use\"][action] = 1\n",
    "            self.obs[\"free\"] -= self.a[action]\n",
    "        else:\n",
    "            reward = -1 \n",
    "            \n",
    "        terminated = False\n",
    "        truncated = False\n",
    "\n",
    "        self.obs[\"use\"] = (self.a > self.obs[\"free\"]).any(axis=1) | np.array(self.obs[\"use\"], dtype = int)\n",
    "\n",
    "        if np.all(self.obs[\"use\"]):\n",
    "            terminated = True\n",
    "        \n",
    "  \n",
    "        #print(f\"action = {action} reward = {reward} terminated = {terminated}\")\n",
    "        return self.obs, reward, terminated, truncated, {}"
   ]
  },
  {
   "cell_type": "code",
   "execution_count": 40,
   "id": "3a5253cf-dcc0-4311-aa55-bd50b2a7bada",
   "metadata": {},
   "outputs": [],
   "source": [
    "env = MyEnv(env_config={\"n\": N, \"m\":M, \"a\": a, \"b\":b, \"c\":c} )"
   ]
  },
  {
   "cell_type": "code",
   "execution_count": 41,
   "id": "56b69ccf-4506-422d-baa1-261108fb316e",
   "metadata": {},
   "outputs": [],
   "source": [
    "# Create log dir\n",
    "log_dir = \"/tmp/gym/\"\n",
    "os.makedirs(log_dir, exist_ok=True)\n",
    "\n",
    "# Create and wrap the environment\n",
    "# Logs will be saved in log_dir/monitor.csv\n",
    "env = Monitor(env, log_dir)"
   ]
  },
  {
   "cell_type": "code",
   "execution_count": 42,
   "id": "596461e6-7a28-49b9-ac2c-c54e84f11f48",
   "metadata": {},
   "outputs": [
    {
     "data": {
      "application/vnd.jupyter.widget-view+json": {
       "model_id": "2f154e7e683e4aa38f1f9e6254bb431f",
       "version_major": 2,
       "version_minor": 0
      },
      "text/plain": [
       "Output()"
      ]
     },
     "metadata": {},
     "output_type": "display_data"
    },
    {
     "name": "stdout",
     "output_type": "stream",
     "text": [
      "2024-11-11 17:30:43.455349\n"
     ]
    },
    {
     "data": {
      "text/html": [
       "<pre style=\"white-space:pre;overflow-x:auto;line-height:normal;font-family:Menlo,'DejaVu Sans Mono',consolas,'Courier New',monospace\">Число шагов: 1000\n",
       "</pre>\n"
      ],
      "text/plain": [
       "Число шагов: 1000\n"
      ]
     },
     "metadata": {},
     "output_type": "display_data"
    },
    {
     "data": {
      "text/html": [
       "<pre style=\"white-space:pre;overflow-x:auto;line-height:normal;font-family:Menlo,'DejaVu Sans Mono',consolas,'Courier New',monospace\">Наилучшая средняя награда: -inf - Наилучшая средняя награда в эпизоде: 27.88\n",
       "</pre>\n"
      ],
      "text/plain": [
       "Наилучшая средняя награда: -inf - Наилучшая средняя награда в эпизоде: 27.88\n"
      ]
     },
     "metadata": {},
     "output_type": "display_data"
    },
    {
     "data": {
      "text/html": [
       "<pre style=\"white-space:pre;overflow-x:auto;line-height:normal;font-family:Menlo,'DejaVu Sans Mono',consolas,'Courier New',monospace\">Сохраняем новую лучшую модель в папку /tmp/gym/best_model.zip\n",
       "</pre>\n"
      ],
      "text/plain": [
       "Сохраняем новую лучшую модель в папку /tmp/gym/best_model.zip\n"
      ]
     },
     "metadata": {},
     "output_type": "display_data"
    },
    {
     "data": {
      "text/html": [
       "<pre style=\"white-space:pre;overflow-x:auto;line-height:normal;font-family:Menlo,'DejaVu Sans Mono',consolas,'Courier New',monospace\">Число шагов: 2000\n",
       "</pre>\n"
      ],
      "text/plain": [
       "Число шагов: 2000\n"
      ]
     },
     "metadata": {},
     "output_type": "display_data"
    },
    {
     "data": {
      "text/html": [
       "<pre style=\"white-space:pre;overflow-x:auto;line-height:normal;font-family:Menlo,'DejaVu Sans Mono',consolas,'Courier New',monospace\">Наилучшая средняя награда: 27.88 - Наилучшая средняя награда в эпизоде: 28.11\n",
       "</pre>\n"
      ],
      "text/plain": [
       "Наилучшая средняя награда: 27.88 - Наилучшая средняя награда в эпизоде: 28.11\n"
      ]
     },
     "metadata": {},
     "output_type": "display_data"
    },
    {
     "data": {
      "text/html": [
       "<pre style=\"white-space:pre;overflow-x:auto;line-height:normal;font-family:Menlo,'DejaVu Sans Mono',consolas,'Courier New',monospace\">Сохраняем новую лучшую модель в папку /tmp/gym/best_model.zip\n",
       "</pre>\n"
      ],
      "text/plain": [
       "Сохраняем новую лучшую модель в папку /tmp/gym/best_model.zip\n"
      ]
     },
     "metadata": {},
     "output_type": "display_data"
    },
    {
     "data": {
      "text/html": [
       "<pre style=\"white-space:pre;overflow-x:auto;line-height:normal;font-family:Menlo,'DejaVu Sans Mono',consolas,'Courier New',monospace\">Число шагов: 3000\n",
       "</pre>\n"
      ],
      "text/plain": [
       "Число шагов: 3000\n"
      ]
     },
     "metadata": {},
     "output_type": "display_data"
    },
    {
     "data": {
      "text/html": [
       "<pre style=\"white-space:pre;overflow-x:auto;line-height:normal;font-family:Menlo,'DejaVu Sans Mono',consolas,'Courier New',monospace\">Наилучшая средняя награда: 28.11 - Наилучшая средняя награда в эпизоде: 29.52\n",
       "</pre>\n"
      ],
      "text/plain": [
       "Наилучшая средняя награда: 28.11 - Наилучшая средняя награда в эпизоде: 29.52\n"
      ]
     },
     "metadata": {},
     "output_type": "display_data"
    },
    {
     "data": {
      "text/html": [
       "<pre style=\"white-space:pre;overflow-x:auto;line-height:normal;font-family:Menlo,'DejaVu Sans Mono',consolas,'Courier New',monospace\">Сохраняем новую лучшую модель в папку /tmp/gym/best_model.zip\n",
       "</pre>\n"
      ],
      "text/plain": [
       "Сохраняем новую лучшую модель в папку /tmp/gym/best_model.zip\n"
      ]
     },
     "metadata": {},
     "output_type": "display_data"
    },
    {
     "data": {
      "text/html": [
       "<pre style=\"white-space:pre;overflow-x:auto;line-height:normal;font-family:Menlo,'DejaVu Sans Mono',consolas,'Courier New',monospace\">Число шагов: 4000\n",
       "</pre>\n"
      ],
      "text/plain": [
       "Число шагов: 4000\n"
      ]
     },
     "metadata": {},
     "output_type": "display_data"
    },
    {
     "data": {
      "text/html": [
       "<pre style=\"white-space:pre;overflow-x:auto;line-height:normal;font-family:Menlo,'DejaVu Sans Mono',consolas,'Courier New',monospace\">Наилучшая средняя награда: 29.52 - Наилучшая средняя награда в эпизоде: 29.50\n",
       "</pre>\n"
      ],
      "text/plain": [
       "Наилучшая средняя награда: 29.52 - Наилучшая средняя награда в эпизоде: 29.50\n"
      ]
     },
     "metadata": {},
     "output_type": "display_data"
    },
    {
     "data": {
      "text/html": [
       "<pre style=\"white-space:pre;overflow-x:auto;line-height:normal;font-family:Menlo,'DejaVu Sans Mono',consolas,'Courier New',monospace\">Число шагов: 5000\n",
       "</pre>\n"
      ],
      "text/plain": [
       "Число шагов: 5000\n"
      ]
     },
     "metadata": {},
     "output_type": "display_data"
    },
    {
     "data": {
      "text/html": [
       "<pre style=\"white-space:pre;overflow-x:auto;line-height:normal;font-family:Menlo,'DejaVu Sans Mono',consolas,'Courier New',monospace\">Наилучшая средняя награда: 29.52 - Наилучшая средняя награда в эпизоде: 30.33\n",
       "</pre>\n"
      ],
      "text/plain": [
       "Наилучшая средняя награда: 29.52 - Наилучшая средняя награда в эпизоде: 30.33\n"
      ]
     },
     "metadata": {},
     "output_type": "display_data"
    },
    {
     "data": {
      "text/html": [
       "<pre style=\"white-space:pre;overflow-x:auto;line-height:normal;font-family:Menlo,'DejaVu Sans Mono',consolas,'Courier New',monospace\">Сохраняем новую лучшую модель в папку /tmp/gym/best_model.zip\n",
       "</pre>\n"
      ],
      "text/plain": [
       "Сохраняем новую лучшую модель в папку /tmp/gym/best_model.zip\n"
      ]
     },
     "metadata": {},
     "output_type": "display_data"
    },
    {
     "data": {
      "text/html": [
       "<pre style=\"white-space:pre;overflow-x:auto;line-height:normal;font-family:Menlo,'DejaVu Sans Mono',consolas,'Courier New',monospace\">Число шагов: 6000\n",
       "</pre>\n"
      ],
      "text/plain": [
       "Число шагов: 6000\n"
      ]
     },
     "metadata": {},
     "output_type": "display_data"
    },
    {
     "data": {
      "text/html": [
       "<pre style=\"white-space:pre;overflow-x:auto;line-height:normal;font-family:Menlo,'DejaVu Sans Mono',consolas,'Courier New',monospace\">Наилучшая средняя награда: 30.33 - Наилучшая средняя награда в эпизоде: 30.41\n",
       "</pre>\n"
      ],
      "text/plain": [
       "Наилучшая средняя награда: 30.33 - Наилучшая средняя награда в эпизоде: 30.41\n"
      ]
     },
     "metadata": {},
     "output_type": "display_data"
    },
    {
     "data": {
      "text/html": [
       "<pre style=\"white-space:pre;overflow-x:auto;line-height:normal;font-family:Menlo,'DejaVu Sans Mono',consolas,'Courier New',monospace\">Сохраняем новую лучшую модель в папку /tmp/gym/best_model.zip\n",
       "</pre>\n"
      ],
      "text/plain": [
       "Сохраняем новую лучшую модель в папку /tmp/gym/best_model.zip\n"
      ]
     },
     "metadata": {},
     "output_type": "display_data"
    },
    {
     "data": {
      "text/html": [
       "<pre style=\"white-space:pre;overflow-x:auto;line-height:normal;font-family:Menlo,'DejaVu Sans Mono',consolas,'Courier New',monospace\">Число шагов: 7000\n",
       "</pre>\n"
      ],
      "text/plain": [
       "Число шагов: 7000\n"
      ]
     },
     "metadata": {},
     "output_type": "display_data"
    },
    {
     "data": {
      "text/html": [
       "<pre style=\"white-space:pre;overflow-x:auto;line-height:normal;font-family:Menlo,'DejaVu Sans Mono',consolas,'Courier New',monospace\">Наилучшая средняя награда: 30.41 - Наилучшая средняя награда в эпизоде: 31.30\n",
       "</pre>\n"
      ],
      "text/plain": [
       "Наилучшая средняя награда: 30.41 - Наилучшая средняя награда в эпизоде: 31.30\n"
      ]
     },
     "metadata": {},
     "output_type": "display_data"
    },
    {
     "data": {
      "text/html": [
       "<pre style=\"white-space:pre;overflow-x:auto;line-height:normal;font-family:Menlo,'DejaVu Sans Mono',consolas,'Courier New',monospace\">Сохраняем новую лучшую модель в папку /tmp/gym/best_model.zip\n",
       "</pre>\n"
      ],
      "text/plain": [
       "Сохраняем новую лучшую модель в папку /tmp/gym/best_model.zip\n"
      ]
     },
     "metadata": {},
     "output_type": "display_data"
    },
    {
     "data": {
      "text/html": [
       "<pre style=\"white-space:pre;overflow-x:auto;line-height:normal;font-family:Menlo,'DejaVu Sans Mono',consolas,'Courier New',monospace\">Число шагов: 8000\n",
       "</pre>\n"
      ],
      "text/plain": [
       "Число шагов: 8000\n"
      ]
     },
     "metadata": {},
     "output_type": "display_data"
    },
    {
     "data": {
      "text/html": [
       "<pre style=\"white-space:pre;overflow-x:auto;line-height:normal;font-family:Menlo,'DejaVu Sans Mono',consolas,'Courier New',monospace\">Наилучшая средняя награда: 31.30 - Наилучшая средняя награда в эпизоде: 31.74\n",
       "</pre>\n"
      ],
      "text/plain": [
       "Наилучшая средняя награда: 31.30 - Наилучшая средняя награда в эпизоде: 31.74\n"
      ]
     },
     "metadata": {},
     "output_type": "display_data"
    },
    {
     "data": {
      "text/html": [
       "<pre style=\"white-space:pre;overflow-x:auto;line-height:normal;font-family:Menlo,'DejaVu Sans Mono',consolas,'Courier New',monospace\">Сохраняем новую лучшую модель в папку /tmp/gym/best_model.zip\n",
       "</pre>\n"
      ],
      "text/plain": [
       "Сохраняем новую лучшую модель в папку /tmp/gym/best_model.zip\n"
      ]
     },
     "metadata": {},
     "output_type": "display_data"
    },
    {
     "data": {
      "text/html": [
       "<pre style=\"white-space:pre;overflow-x:auto;line-height:normal;font-family:Menlo,'DejaVu Sans Mono',consolas,'Courier New',monospace\">Число шагов: 9000\n",
       "</pre>\n"
      ],
      "text/plain": [
       "Число шагов: 9000\n"
      ]
     },
     "metadata": {},
     "output_type": "display_data"
    },
    {
     "data": {
      "text/html": [
       "<pre style=\"white-space:pre;overflow-x:auto;line-height:normal;font-family:Menlo,'DejaVu Sans Mono',consolas,'Courier New',monospace\">Наилучшая средняя награда: 31.74 - Наилучшая средняя награда в эпизоде: 33.25\n",
       "</pre>\n"
      ],
      "text/plain": [
       "Наилучшая средняя награда: 31.74 - Наилучшая средняя награда в эпизоде: 33.25\n"
      ]
     },
     "metadata": {},
     "output_type": "display_data"
    },
    {
     "data": {
      "text/html": [
       "<pre style=\"white-space:pre;overflow-x:auto;line-height:normal;font-family:Menlo,'DejaVu Sans Mono',consolas,'Courier New',monospace\">Сохраняем новую лучшую модель в папку /tmp/gym/best_model.zip\n",
       "</pre>\n"
      ],
      "text/plain": [
       "Сохраняем новую лучшую модель в папку /tmp/gym/best_model.zip\n"
      ]
     },
     "metadata": {},
     "output_type": "display_data"
    },
    {
     "data": {
      "text/html": [
       "<pre style=\"white-space:pre;overflow-x:auto;line-height:normal;font-family:Menlo,'DejaVu Sans Mono',consolas,'Courier New',monospace\">Число шагов: 10000\n",
       "</pre>\n"
      ],
      "text/plain": [
       "Число шагов: 10000\n"
      ]
     },
     "metadata": {},
     "output_type": "display_data"
    },
    {
     "data": {
      "text/html": [
       "<pre style=\"white-space:pre;overflow-x:auto;line-height:normal;font-family:Menlo,'DejaVu Sans Mono',consolas,'Courier New',monospace\">Наилучшая средняя награда: 33.25 - Наилучшая средняя награда в эпизоде: 32.94\n",
       "</pre>\n"
      ],
      "text/plain": [
       "Наилучшая средняя награда: 33.25 - Наилучшая средняя награда в эпизоде: 32.94\n"
      ]
     },
     "metadata": {},
     "output_type": "display_data"
    },
    {
     "data": {
      "text/html": [
       "<pre style=\"white-space:pre;overflow-x:auto;line-height:normal;font-family:Menlo,'DejaVu Sans Mono',consolas,'Courier New',monospace\">Число шагов: 11000\n",
       "</pre>\n"
      ],
      "text/plain": [
       "Число шагов: 11000\n"
      ]
     },
     "metadata": {},
     "output_type": "display_data"
    },
    {
     "data": {
      "text/html": [
       "<pre style=\"white-space:pre;overflow-x:auto;line-height:normal;font-family:Menlo,'DejaVu Sans Mono',consolas,'Courier New',monospace\">Наилучшая средняя награда: 33.25 - Наилучшая средняя награда в эпизоде: 33.81\n",
       "</pre>\n"
      ],
      "text/plain": [
       "Наилучшая средняя награда: 33.25 - Наилучшая средняя награда в эпизоде: 33.81\n"
      ]
     },
     "metadata": {},
     "output_type": "display_data"
    },
    {
     "data": {
      "text/html": [
       "<pre style=\"white-space:pre;overflow-x:auto;line-height:normal;font-family:Menlo,'DejaVu Sans Mono',consolas,'Courier New',monospace\">Сохраняем новую лучшую модель в папку /tmp/gym/best_model.zip\n",
       "</pre>\n"
      ],
      "text/plain": [
       "Сохраняем новую лучшую модель в папку /tmp/gym/best_model.zip\n"
      ]
     },
     "metadata": {},
     "output_type": "display_data"
    },
    {
     "data": {
      "text/html": [
       "<pre style=\"white-space:pre;overflow-x:auto;line-height:normal;font-family:Menlo,'DejaVu Sans Mono',consolas,'Courier New',monospace\">Число шагов: 12000\n",
       "</pre>\n"
      ],
      "text/plain": [
       "Число шагов: 12000\n"
      ]
     },
     "metadata": {},
     "output_type": "display_data"
    },
    {
     "data": {
      "text/html": [
       "<pre style=\"white-space:pre;overflow-x:auto;line-height:normal;font-family:Menlo,'DejaVu Sans Mono',consolas,'Courier New',monospace\">Наилучшая средняя награда: 33.81 - Наилучшая средняя награда в эпизоде: 33.84\n",
       "</pre>\n"
      ],
      "text/plain": [
       "Наилучшая средняя награда: 33.81 - Наилучшая средняя награда в эпизоде: 33.84\n"
      ]
     },
     "metadata": {},
     "output_type": "display_data"
    },
    {
     "data": {
      "text/html": [
       "<pre style=\"white-space:pre;overflow-x:auto;line-height:normal;font-family:Menlo,'DejaVu Sans Mono',consolas,'Courier New',monospace\">Сохраняем новую лучшую модель в папку /tmp/gym/best_model.zip\n",
       "</pre>\n"
      ],
      "text/plain": [
       "Сохраняем новую лучшую модель в папку /tmp/gym/best_model.zip\n"
      ]
     },
     "metadata": {},
     "output_type": "display_data"
    },
    {
     "data": {
      "text/html": [
       "<pre style=\"white-space:pre;overflow-x:auto;line-height:normal;font-family:Menlo,'DejaVu Sans Mono',consolas,'Courier New',monospace\">Число шагов: 13000\n",
       "</pre>\n"
      ],
      "text/plain": [
       "Число шагов: 13000\n"
      ]
     },
     "metadata": {},
     "output_type": "display_data"
    },
    {
     "data": {
      "text/html": [
       "<pre style=\"white-space:pre;overflow-x:auto;line-height:normal;font-family:Menlo,'DejaVu Sans Mono',consolas,'Courier New',monospace\">Наилучшая средняя награда: 33.84 - Наилучшая средняя награда в эпизоде: 34.22\n",
       "</pre>\n"
      ],
      "text/plain": [
       "Наилучшая средняя награда: 33.84 - Наилучшая средняя награда в эпизоде: 34.22\n"
      ]
     },
     "metadata": {},
     "output_type": "display_data"
    },
    {
     "data": {
      "text/html": [
       "<pre style=\"white-space:pre;overflow-x:auto;line-height:normal;font-family:Menlo,'DejaVu Sans Mono',consolas,'Courier New',monospace\">Сохраняем новую лучшую модель в папку /tmp/gym/best_model.zip\n",
       "</pre>\n"
      ],
      "text/plain": [
       "Сохраняем новую лучшую модель в папку /tmp/gym/best_model.zip\n"
      ]
     },
     "metadata": {},
     "output_type": "display_data"
    },
    {
     "data": {
      "text/html": [
       "<pre style=\"white-space:pre;overflow-x:auto;line-height:normal;font-family:Menlo,'DejaVu Sans Mono',consolas,'Courier New',monospace\">Число шагов: 14000\n",
       "</pre>\n"
      ],
      "text/plain": [
       "Число шагов: 14000\n"
      ]
     },
     "metadata": {},
     "output_type": "display_data"
    },
    {
     "data": {
      "text/html": [
       "<pre style=\"white-space:pre;overflow-x:auto;line-height:normal;font-family:Menlo,'DejaVu Sans Mono',consolas,'Courier New',monospace\">Наилучшая средняя награда: 34.22 - Наилучшая средняя награда в эпизоде: 34.15\n",
       "</pre>\n"
      ],
      "text/plain": [
       "Наилучшая средняя награда: 34.22 - Наилучшая средняя награда в эпизоде: 34.15\n"
      ]
     },
     "metadata": {},
     "output_type": "display_data"
    },
    {
     "data": {
      "text/html": [
       "<pre style=\"white-space:pre;overflow-x:auto;line-height:normal;font-family:Menlo,'DejaVu Sans Mono',consolas,'Courier New',monospace\">Число шагов: 15000\n",
       "</pre>\n"
      ],
      "text/plain": [
       "Число шагов: 15000\n"
      ]
     },
     "metadata": {},
     "output_type": "display_data"
    },
    {
     "data": {
      "text/html": [
       "<pre style=\"white-space:pre;overflow-x:auto;line-height:normal;font-family:Menlo,'DejaVu Sans Mono',consolas,'Courier New',monospace\">Наилучшая средняя награда: 34.22 - Наилучшая средняя награда в эпизоде: 34.45\n",
       "</pre>\n"
      ],
      "text/plain": [
       "Наилучшая средняя награда: 34.22 - Наилучшая средняя награда в эпизоде: 34.45\n"
      ]
     },
     "metadata": {},
     "output_type": "display_data"
    },
    {
     "data": {
      "text/html": [
       "<pre style=\"white-space:pre;overflow-x:auto;line-height:normal;font-family:Menlo,'DejaVu Sans Mono',consolas,'Courier New',monospace\">Сохраняем новую лучшую модель в папку /tmp/gym/best_model.zip\n",
       "</pre>\n"
      ],
      "text/plain": [
       "Сохраняем новую лучшую модель в папку /tmp/gym/best_model.zip\n"
      ]
     },
     "metadata": {},
     "output_type": "display_data"
    },
    {
     "data": {
      "text/html": [
       "<pre style=\"white-space:pre;overflow-x:auto;line-height:normal;font-family:Menlo,'DejaVu Sans Mono',consolas,'Courier New',monospace\">Число шагов: 16000\n",
       "</pre>\n"
      ],
      "text/plain": [
       "Число шагов: 16000\n"
      ]
     },
     "metadata": {},
     "output_type": "display_data"
    },
    {
     "data": {
      "text/html": [
       "<pre style=\"white-space:pre;overflow-x:auto;line-height:normal;font-family:Menlo,'DejaVu Sans Mono',consolas,'Courier New',monospace\">Наилучшая средняя награда: 34.45 - Наилучшая средняя награда в эпизоде: 34.40\n",
       "</pre>\n"
      ],
      "text/plain": [
       "Наилучшая средняя награда: 34.45 - Наилучшая средняя награда в эпизоде: 34.40\n"
      ]
     },
     "metadata": {},
     "output_type": "display_data"
    },
    {
     "data": {
      "text/html": [
       "<pre style=\"white-space:pre;overflow-x:auto;line-height:normal;font-family:Menlo,'DejaVu Sans Mono',consolas,'Courier New',monospace\">Число шагов: 17000\n",
       "</pre>\n"
      ],
      "text/plain": [
       "Число шагов: 17000\n"
      ]
     },
     "metadata": {},
     "output_type": "display_data"
    },
    {
     "data": {
      "text/html": [
       "<pre style=\"white-space:pre;overflow-x:auto;line-height:normal;font-family:Menlo,'DejaVu Sans Mono',consolas,'Courier New',monospace\">Наилучшая средняя награда: 34.45 - Наилучшая средняя награда в эпизоде: 34.45\n",
       "</pre>\n"
      ],
      "text/plain": [
       "Наилучшая средняя награда: 34.45 - Наилучшая средняя награда в эпизоде: 34.45\n"
      ]
     },
     "metadata": {},
     "output_type": "display_data"
    },
    {
     "data": {
      "text/html": [
       "<pre style=\"white-space:pre;overflow-x:auto;line-height:normal;font-family:Menlo,'DejaVu Sans Mono',consolas,'Courier New',monospace\">Число шагов: 18000\n",
       "</pre>\n"
      ],
      "text/plain": [
       "Число шагов: 18000\n"
      ]
     },
     "metadata": {},
     "output_type": "display_data"
    },
    {
     "data": {
      "text/html": [
       "<pre style=\"white-space:pre;overflow-x:auto;line-height:normal;font-family:Menlo,'DejaVu Sans Mono',consolas,'Courier New',monospace\">Наилучшая средняя награда: 34.45 - Наилучшая средняя награда в эпизоде: 34.42\n",
       "</pre>\n"
      ],
      "text/plain": [
       "Наилучшая средняя награда: 34.45 - Наилучшая средняя награда в эпизоде: 34.42\n"
      ]
     },
     "metadata": {},
     "output_type": "display_data"
    },
    {
     "data": {
      "text/html": [
       "<pre style=\"white-space:pre;overflow-x:auto;line-height:normal;font-family:Menlo,'DejaVu Sans Mono',consolas,'Courier New',monospace\">Число шагов: 19000\n",
       "</pre>\n"
      ],
      "text/plain": [
       "Число шагов: 19000\n"
      ]
     },
     "metadata": {},
     "output_type": "display_data"
    },
    {
     "data": {
      "text/html": [
       "<pre style=\"white-space:pre;overflow-x:auto;line-height:normal;font-family:Menlo,'DejaVu Sans Mono',consolas,'Courier New',monospace\">Наилучшая средняя награда: 34.45 - Наилучшая средняя награда в эпизоде: 34.53\n",
       "</pre>\n"
      ],
      "text/plain": [
       "Наилучшая средняя награда: 34.45 - Наилучшая средняя награда в эпизоде: 34.53\n"
      ]
     },
     "metadata": {},
     "output_type": "display_data"
    },
    {
     "data": {
      "text/html": [
       "<pre style=\"white-space:pre;overflow-x:auto;line-height:normal;font-family:Menlo,'DejaVu Sans Mono',consolas,'Courier New',monospace\">Сохраняем новую лучшую модель в папку /tmp/gym/best_model.zip\n",
       "</pre>\n"
      ],
      "text/plain": [
       "Сохраняем новую лучшую модель в папку /tmp/gym/best_model.zip\n"
      ]
     },
     "metadata": {},
     "output_type": "display_data"
    },
    {
     "data": {
      "text/html": [
       "<pre style=\"white-space:pre;overflow-x:auto;line-height:normal;font-family:Menlo,'DejaVu Sans Mono',consolas,'Courier New',monospace\">Число шагов: 20000\n",
       "</pre>\n"
      ],
      "text/plain": [
       "Число шагов: 20000\n"
      ]
     },
     "metadata": {},
     "output_type": "display_data"
    },
    {
     "data": {
      "text/html": [
       "<pre style=\"white-space:pre;overflow-x:auto;line-height:normal;font-family:Menlo,'DejaVu Sans Mono',consolas,'Courier New',monospace\">Наилучшая средняя награда: 34.53 - Наилучшая средняя награда в эпизоде: 34.51\n",
       "</pre>\n"
      ],
      "text/plain": [
       "Наилучшая средняя награда: 34.53 - Наилучшая средняя награда в эпизоде: 34.51\n"
      ]
     },
     "metadata": {},
     "output_type": "display_data"
    },
    {
     "data": {
      "text/html": [
       "<pre style=\"white-space:pre;overflow-x:auto;line-height:normal;font-family:Menlo,'DejaVu Sans Mono',consolas,'Courier New',monospace\"></pre>\n"
      ],
      "text/plain": []
     },
     "metadata": {},
     "output_type": "display_data"
    },
    {
     "name": "stdout",
     "output_type": "stream",
     "text": [
      "2024-11-11 17:30:51.378587\n"
     ]
    }
   ],
   "source": [
    "# Create the callback: check every 1000 steps\n",
    "callback = SaveOnBestTrainingRewardCallback(check_freq=1000, log_dir=log_dir)\n",
    "print(datetime.datetime.now())\n",
    "model = PPO(\"MultiInputPolicy\", env, verbose=0)\n",
    "model.learn(total_timesteps=20000, progress_bar = True,callback=callback)\n",
    "print(datetime.datetime.now())"
   ]
  },
  {
   "cell_type": "code",
   "execution_count": 43,
   "id": "a2e856cf-5971-4c5e-9dd5-01d03fcfbead",
   "metadata": {},
   "outputs": [
    {
     "name": "stdout",
     "output_type": "stream",
     "text": [
      "4 12.27\n",
      "0 12.92\n",
      "2 9.36\n",
      "[4, 0, 2]\n"
     ]
    }
   ],
   "source": [
    "obs, _ = env.reset()\n",
    "actions = []\n",
    "for i in range(10):\n",
    "    action, _states = model.predict(obs, deterministic=True) \n",
    "    obs, reward, terminated, truncated, info = env.step(action)\n",
    "    print(action, reward)\n",
    "    actions.append(int(action))\n",
    "    if terminated or truncated:\n",
    "        print(f\"{actions}\")\n",
    "        break\n",
    "env.close()"
   ]
  },
  {
   "cell_type": "code",
   "execution_count": 44,
   "id": "f394a736-ed8f-4b59-9775-c1d63a3415c7",
   "metadata": {},
   "outputs": [
    {
     "data": {
      "image/png": "[encoded data removed]",
      "text/plain": [
       "<Figure size 800x200 with 1 Axes>"
      ]
     },
     "metadata": {},
     "output_type": "display_data"
    }
   ],
   "source": [
    "from stable_baselines3.common import results_plotter\n",
    "\n",
    "# Helper from the library\n",
    "results_plotter.plot_results(\n",
    "    [log_dir], 1e5, results_plotter.X_TIMESTEPS, \"Вознаграждение в задаче планирования\"\n",
    ")\n",
    "# Точки это вознаграждение в конкретном эпизоде (агент иногда совершает исследовательские ходы, \n",
    "# поэтому иногда ему удается получить максимальную награду)"
   ]
  },
  {
   "cell_type": "code",
   "execution_count": 49,
   "id": "e0240597-b8a0-4b2c-a86c-cb2f33bc55aa",
   "metadata": {},
   "outputs": [],
   "source": [
    "def moving_average(values, window):\n",
    "    \"\"\"\n",
    "    Smooth values by doing a moving average\n",
    "    :param values: (numpy array)\n",
    "    :param window: (int)\n",
    "    :return: (numpy array)\n",
    "    \"\"\"\n",
    "    weights = np.repeat(1.0, window) / window\n",
    "    return np.convolve(values, weights, \"valid\")\n",
    "\n",
    "\n",
    "def plot_results(log_folder, title=\"Усредненная (по 50 эпизодам) кривая обучения в задаче планирования\"):\n",
    "    \"\"\"\n",
    "    plot the results\n",
    "\n",
    "    :param log_folder: (str) the save location of the results to plot\n",
    "    :param title: (str) the title of the task to plot\n",
    "    \"\"\"\n",
    "    x, y = ts2xy(load_results(log_folder), \"timesteps\")\n",
    "    y = moving_average(y, window=50)\n",
    "    # Truncate x\n",
    "    x = x[len(x) - len(y) :]\n",
    "\n",
    "    fig = plt.figure(title)\n",
    "    plt.plot(x, y)\n",
    "    plt.xlabel(\"Номер шага\")\n",
    "    plt.ylabel(\"Вознаграждение\")\n",
    "    plt.title(title)\n",
    "    plt.show()"
   ]
  },
  {
   "cell_type": "code",
   "execution_count": 50,
   "id": "97a9b2f6-cf57-42de-b4a5-656d6682d675",
   "metadata": {},
   "outputs": [
    {
     "data": {
      "image/png": "[encoded data removed]",
      "text/plain": [
       "<Figure size 640x480 with 1 Axes>"
      ]
     },
     "metadata": {},
     "output_type": "display_data"
    }
   ],
   "source": [
    "plot_results(log_dir)"
   ]
  },
  {
   "cell_type": "code",
   "execution_count": null,
   "id": "1906052d-dbbf-472c-9f5a-710ae6562968",
   "metadata": {},
   "outputs": [],
   "source": []
  },
  {
   "cell_type": "code",
   "execution_count": null,
   "id": "33f86fec-d12f-4168-809a-40a2712bde15",
   "metadata": {},
   "outputs": [],
   "source": []
  }
 ],
 "metadata": {
  "kernelspec": {
   "display_name": "Python 3 (ipykernel)",
   "language": "python",
   "name": "python3"
  },
  "language_info": {
   "codemirror_mode": {
    "name": "ipython",
    "version": 3
   },
   "file_extension": ".py",
   "mimetype": "text/x-python",
   "name": "python",
   "nbconvert_exporter": "python",
   "pygments_lexer": "ipython3",
   "version": "3.11.10"
  }
 },
 "nbformat": 4,
 "nbformat_minor": 5
}
