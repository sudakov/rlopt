{
 "cells": [
  {
   "cell_type": "code",
   "execution_count": 1,
   "id": "cca3778d-fa52-4180-9258-fe76f3d29dac",
   "metadata": {},
   "outputs": [],
   "source": [
    "import torch\n",
    "import torch.nn as nn\n",
    "import torch.optim as optim\n",
    "import numpy as np\n",
    "from python_tsp.exact import solve_tsp_dynamic_programming, solve_tsp_branch_and_bound"
   ]
  },
  {
   "cell_type": "code",
   "execution_count": 2,
   "id": "034c6d48-4973-4729-83bd-0fbc714d09f1",
   "metadata": {},
   "outputs": [],
   "source": [
    "# Генерация случайной матрицы расстояний\n",
    "def generate_random_distance_matrix(num_cities, seed=None):\n",
    "    if seed is not None:\n",
    "        np.random.seed(seed)\n",
    "    matrix = np.random.rand(num_cities, num_cities)\n",
    "    matrix = (matrix + matrix.T) / 2  # Симметричная матрица\n",
    "    np.fill_diagonal(matrix, 0)  # Расстояние до самого себя равно 0\n",
    "    return matrix\n",
    "\n",
    "# Вычисление полной длины маршрута\n",
    "def calculate_total_distance(route, distance_matrix):\n",
    "    total_distance = 0\n",
    "    for i in range(len(route)):\n",
    "        total_distance += distance_matrix[route[i], route[(i + 1) % len(route)]]\n",
    "    return total_distance"
   ]
  },
  {
   "cell_type": "code",
   "execution_count": 3,
   "id": "f432d0c3-b6ba-42fa-9e5d-326ffe5d9e01",
   "metadata": {},
   "outputs": [],
   "source": [
    "# Encoder для Pointer Network\n",
    "class Encoder(nn.Module):\n",
    "    def __init__(self, input_dim, hidden_dim):\n",
    "        super(Encoder, self).__init__()\n",
    "        self.lstm = nn.LSTM(input_dim, hidden_dim, batch_first=True)\n",
    "\n",
    "    def forward(self, x):\n",
    "        outputs, (hidden, cell) = self.lstm(x)\n",
    "        return outputs, hidden  # Возвращаем только скрытое состояние\n",
    "\n",
    "# Decoder для Pointer Network\n",
    "class Decoder(nn.Module):\n",
    "    def __init__(self, hidden_dim, input_dim):\n",
    "        super(Decoder, self).__init__()\n",
    "        self.lstm = nn.LSTM(hidden_dim, hidden_dim, batch_first=True)\n",
    "        self.attention = nn.Sequential(\n",
    "            nn.Linear(2 * hidden_dim, hidden_dim),\n",
    "            nn.Tanh(),\n",
    "            nn.Linear(hidden_dim, 1)\n",
    "        )\n",
    "        self.input_transform = nn.Linear(input_dim, hidden_dim)  # Преобразование входных данных\n",
    "\n",
    "    def forward(self, prev_hidden, encoder_outputs):\n",
    "        # Преобразуем входные данные к размерности hidden_dim\n",
    "        lstm_input = self.input_transform(prev_hidden.unsqueeze(1))\n",
    "        lstm_out, hidden = self.lstm(lstm_input)\n",
    "        combined = torch.cat([encoder_outputs, lstm_out.expand(-1, encoder_outputs.size(1), -1)], dim=2)\n",
    "        attention_scores = self.attention(combined).squeeze(2)\n",
    "        return attention_scores, hidden\n"
   ]
  },
  {
   "cell_type": "code",
   "execution_count": 4,
   "id": "3b8e838f-eb18-4391-b122-3a0a40a3a855",
   "metadata": {},
   "outputs": [],
   "source": [
    "# Pointer Network\n",
    "class PointerNetwork(nn.Module):\n",
    "    def __init__(self, input_dim, hidden_dim):\n",
    "        super(PointerNetwork, self).__init__()\n",
    "        self.encoder = Encoder(input_dim, hidden_dim)\n",
    "        self.decoder = Decoder(hidden_dim, input_dim)\n",
    "\n",
    "    def forward(self, distance_matrix, target_sequence=None, teacher_forcing_ratio=0.5):\n",
    "        batch_size, num_cities, _ = distance_matrix.size()\n",
    "        encoder_outputs, hidden = self.encoder(distance_matrix)\n",
    "        decoder_input = torch.zeros(batch_size, num_cities, device=distance_matrix.device)\n",
    "        decoder_hidden = hidden.squeeze(0)\n",
    "\n",
    "        attentions = []\n",
    "\n",
    "        for i in range(num_cities):\n",
    "            attention_scores, decoder_hidden = self.decoder(decoder_input, encoder_outputs)\n",
    "            attentions.append(attention_scores)\n",
    "\n",
    "            # Преобразуем вероятности в индексы для следующего шага\n",
    "            probabilities = torch.softmax(attention_scores, dim=1)\n",
    "            _, index = torch.max(probabilities, dim=1)\n",
    "\n",
    "            if target_sequence is not None and np.random.rand() < teacher_forcing_ratio:\n",
    "                decoder_input = distance_matrix[torch.arange(batch_size), target_sequence[:, i]]\n",
    "            else:\n",
    "                decoder_input = distance_matrix[torch.arange(batch_size), index]\n",
    "\n",
    "        return torch.stack(attentions, dim=1)  # Возвращаем все attention scores\n"
   ]
  },
  {
   "cell_type": "code",
   "execution_count": 5,
   "id": "645013e0-81e8-46f4-b117-1e3bd26efa3a",
   "metadata": {},
   "outputs": [],
   "source": [
    "# Обучение модели\n",
    "def train_model(model, optimizer, distance_matrix, target_sequence, criterion):\n",
    "    model.train()\n",
    "    optimizer.zero_grad()\n",
    "    \n",
    "    # Получаем предсказания (все attention scores)\n",
    "    predicted_scores = model(distance_matrix, target_sequence)\n",
    "    \n",
    "    # Перестраиваем предсказания и метки для CrossEntropyLoss\n",
    "    predicted_scores = predicted_scores.view(-1, predicted_scores.size(-1))  # (N, C)\n",
    "    target_sequence_flat = target_sequence.view(-1)  # (N,)\n",
    "    \n",
    "    loss = criterion(predicted_scores.float(), target_sequence_flat.long())\n",
    "    loss.backward()\n",
    "    optimizer.step()\n",
    "    return loss.item()\n"
   ]
  },
  {
   "cell_type": "code",
   "execution_count": 6,
   "id": "7bdbee3a-6931-49d2-b3f8-4910ea77b63f",
   "metadata": {},
   "outputs": [],
   "source": [
    "# Параметры\n",
    "num_cities = 12\n",
    "hidden_dim = 128\n",
    "batch_size = 32\n",
    "epochs = 1500\n",
    "learning_rate = 0.0002"
   ]
  },
  {
   "cell_type": "code",
   "execution_count": 7,
   "id": "845da656-9d74-4250-9e88-0a3a3918036a",
   "metadata": {},
   "outputs": [
    {
     "name": "stdout",
     "output_type": "stream",
     "text": [
      "cuda:0\n"
     ]
    }
   ],
   "source": [
    "device = torch.device(\"cuda:0\" if torch.cuda.is_available() else \"cpu\")\n",
    "print(device)"
   ]
  },
  {
   "cell_type": "code",
   "execution_count": 8,
   "id": "3f8b302b-a6a8-410b-bf2e-c0519045a750",
   "metadata": {},
   "outputs": [],
   "source": [
    "# Генерация данных\n",
    "#distance_matrix = generate_random_distance_matrix(num_cities)\n",
    "#distance_matrix_tensor = torch.tensor(distance_matrix, dtype=torch.float32).unsqueeze(0).repeat(batch_size, 1, 1)\n",
    "distance_matrix_tensor = torch.tensor(np.load('X_train.npy'), dtype=torch.float32)\n",
    "distance_matrix_tensor = distance_matrix_tensor.to(device)"
   ]
  },
  {
   "cell_type": "code",
   "execution_count": 9,
   "id": "6701194c-a45f-47b0-a5c6-5cf0b6cbf3c6",
   "metadata": {},
   "outputs": [],
   "source": [
    "# Целевая последовательность (для обучения)\n",
    "#target_sequence = torch.randperm(num_cities).unsqueeze(0).repeat(batch_size, 1)\n",
    "target_sequence = torch.tensor(np.load('Y_train.npy'), dtype=torch.int)\n",
    "target_sequence = target_sequence.to(device)"
   ]
  },
  {
   "cell_type": "code",
   "execution_count": 10,
   "id": "0c773a86-f5aa-4f0b-b0a2-86bfe84893c2",
   "metadata": {},
   "outputs": [],
   "source": [
    "# Инициализация модели\n",
    "model = PointerNetwork(input_dim=num_cities, hidden_dim=hidden_dim)\n",
    "model.to(device)\n",
    "optimizer = optim.Adam(model.parameters(), lr=learning_rate)\n",
    "criterion = nn.CrossEntropyLoss()"
   ]
  },
  {
   "cell_type": "code",
   "execution_count": 11,
   "id": "72454920-9f64-4d7a-b4d1-c17524007729",
   "metadata": {},
   "outputs": [
    {
     "data": {
      "text/plain": [
       "True"
      ]
     },
     "execution_count": 11,
     "metadata": {},
     "output_type": "execute_result"
    }
   ],
   "source": [
    "next(model.parameters()).is_cuda"
   ]
  },
  {
   "cell_type": "code",
   "execution_count": 12,
   "id": "342d2335-6cec-416e-86f9-ed1ba2ca0ce2",
   "metadata": {},
   "outputs": [
    {
     "name": "stderr",
     "output_type": "stream",
     "text": [
      "/tmp/ipykernel_2627/3108773192.py:16: UserWarning: Converting a tensor with requires_grad=True to a scalar may lead to unexpected behavior.\n",
      "Consider using tensor.detach() first. (Triggered internally at /pytorch/aten/src/ATen/native/Scalar.cpp:22.)\n",
      "  return loss.item()\n"
     ]
    },
    {
     "name": "stdout",
     "output_type": "stream",
     "text": [
      "Epoch 0, Loss: 2.4856\n",
      "Epoch 25, Loss: 2.4719\n",
      "Epoch 50, Loss: 2.3804\n",
      "Epoch 75, Loss: 2.2467\n",
      "Epoch 100, Loss: 2.2074\n",
      "Epoch 125, Loss: 2.1984\n",
      "Epoch 150, Loss: 2.1929\n",
      "Epoch 175, Loss: 2.1936\n",
      "Epoch 200, Loss: 2.1680\n",
      "Epoch 225, Loss: 2.1575\n",
      "Epoch 250, Loss: 2.1694\n",
      "Epoch 275, Loss: 2.1744\n",
      "Epoch 300, Loss: 2.1472\n",
      "Epoch 325, Loss: 2.1837\n",
      "Epoch 350, Loss: 2.0963\n",
      "Epoch 375, Loss: 2.1786\n",
      "Epoch 400, Loss: 2.0997\n",
      "Epoch 425, Loss: 2.1103\n",
      "Epoch 450, Loss: 2.1066\n",
      "Epoch 475, Loss: 2.0948\n",
      "Epoch 500, Loss: 2.0440\n",
      "Epoch 525, Loss: 2.0861\n",
      "Epoch 550, Loss: 2.0491\n",
      "Epoch 575, Loss: 2.1250\n",
      "Epoch 600, Loss: 2.0349\n",
      "Epoch 625, Loss: 2.0426\n",
      "Epoch 650, Loss: 2.0048\n",
      "Epoch 675, Loss: 2.0808\n",
      "Epoch 700, Loss: 2.0180\n",
      "Epoch 725, Loss: 2.0077\n",
      "Epoch 750, Loss: 2.0882\n",
      "Epoch 775, Loss: 1.9153\n",
      "Epoch 800, Loss: 1.9359\n",
      "Epoch 825, Loss: 1.9863\n",
      "Epoch 850, Loss: 2.1223\n",
      "Epoch 875, Loss: 2.0533\n",
      "Epoch 900, Loss: 2.0018\n",
      "Epoch 925, Loss: 1.9265\n",
      "Epoch 950, Loss: 1.8917\n",
      "Epoch 975, Loss: 1.8665\n",
      "Epoch 1000, Loss: 1.9331\n",
      "Epoch 1025, Loss: 1.9065\n",
      "Epoch 1050, Loss: 1.7944\n",
      "Epoch 1075, Loss: 1.9864\n",
      "Epoch 1100, Loss: 1.8946\n",
      "Epoch 1125, Loss: 1.8166\n",
      "Epoch 1150, Loss: 1.8953\n",
      "Epoch 1175, Loss: 1.9294\n",
      "Epoch 1200, Loss: 1.9169\n",
      "Epoch 1225, Loss: 1.9260\n",
      "Epoch 1250, Loss: 1.7418\n",
      "Epoch 1275, Loss: 1.7568\n",
      "Epoch 1300, Loss: 1.8878\n",
      "Epoch 1325, Loss: 1.9215\n",
      "Epoch 1350, Loss: 1.8813\n",
      "Epoch 1375, Loss: 1.7575\n",
      "Epoch 1400, Loss: 1.7999\n",
      "Epoch 1425, Loss: 1.8614\n",
      "Epoch 1450, Loss: 1.7416\n",
      "Epoch 1475, Loss: 1.9329\n"
     ]
    }
   ],
   "source": [
    "# Обучение\n",
    "for epoch in range(epochs):\n",
    "    loss = train_model(model, optimizer, distance_matrix_tensor, target_sequence, criterion)\n",
    "    if epoch % 25 == 0 or epoch == epoch - 1:\n",
    "        print(f\"Epoch {epoch}, Loss: {loss:.4f}\")"
   ]
  },
  {
   "cell_type": "code",
   "execution_count": 17,
   "id": "3a51cedf-d8f5-4861-b677-ad6fe2f39bf6",
   "metadata": {},
   "outputs": [],
   "source": [
    "# torch.save(model, 'my_t_model')"
   ]
  },
  {
   "cell_type": "code",
   "execution_count": 43,
   "id": "bbb23f1a-2b5d-4292-bb1f-f10b442cc4f4",
   "metadata": {},
   "outputs": [
    {
     "data": {
      "text/plain": [
       "PointerNetwork(\n",
       "  (encoder): Encoder(\n",
       "    (lstm): LSTM(12, 128, batch_first=True)\n",
       "  )\n",
       "  (decoder): Decoder(\n",
       "    (lstm): LSTM(128, 128, batch_first=True)\n",
       "    (attention): Sequential(\n",
       "      (0): Linear(in_features=256, out_features=128, bias=True)\n",
       "      (1): Tanh()\n",
       "      (2): Linear(in_features=128, out_features=1, bias=True)\n",
       "    )\n",
       "    (input_transform): Linear(in_features=12, out_features=128, bias=True)\n",
       "  )\n",
       ")"
      ]
     },
     "execution_count": 43,
     "metadata": {},
     "output_type": "execute_result"
    }
   ],
   "source": [
    "# Model class must be defined somewhere\n",
    "# model = torch.load('my_t_model', weights_only=False)\n",
    "model.eval()"
   ]
  },
  {
   "cell_type": "code",
   "execution_count": 38,
   "id": "32a83c98-4d1b-476c-842e-e02bdc4bcc9d",
   "metadata": {},
   "outputs": [
    {
     "name": "stdout",
     "output_type": "stream",
     "text": [
      "Total Distance: tensor(167.8861, device='cuda:0')\n"
     ]
    }
   ],
   "source": [
    "print(\"Total Distance:\", calculate_total_distance(target_sequence[0], distance_matrix_tensor[0]))"
   ]
  },
  {
   "cell_type": "code",
   "execution_count": 41,
   "id": "0541fab7-d1a0-4fe5-8630-60e6cb5367ef",
   "metadata": {},
   "outputs": [],
   "source": [
    "def predict_route(a):\n",
    "    with torch.no_grad():\n",
    "        predicted_score = model(a.unsqueeze(0))[0]\n",
    "        route = []\n",
    "        dist = 0\n",
    "        current = -1\n",
    "        for r in predicted_score:\n",
    "            r[route] = -np.inf\n",
    "            next_n = torch.argmax(r)\n",
    "            route.append(int(next_n))\n",
    "            if current > 0:\n",
    "                dist += a[current, next_n]\n",
    "            current = next_n\n",
    "        dist += a[current, route[0]]\n",
    "        return route, dist"
   ]
  },
  {
   "cell_type": "code",
   "execution_count": 42,
   "id": "263f87bb-800f-4c89-877b-bc1f5a36805d",
   "metadata": {},
   "outputs": [
    {
     "data": {
      "text/plain": [
       "([0, 5, 11, 9, 10, 8, 4, 3, 7, 6, 2, 1], tensor(223.5871, device='cuda:0'))"
      ]
     },
     "execution_count": 42,
     "metadata": {},
     "output_type": "execute_result"
    }
   ],
   "source": [
    "predict_route(distance_matrix_tensor[0])"
   ]
  },
  {
   "cell_type": "code",
   "execution_count": null,
   "id": "5f69b0e4-bff9-44ee-83b4-5a6cf970be9d",
   "metadata": {},
   "outputs": [],
   "source": [
    "cnt = 50\n",
    "ld = []\n",
    "lp = []\n",
    "lg = []\n",
    "lr = []\n",
    "for i in tqdm(range(cnt)):\n",
    "    a = rand.normal(20, 5, size=(N, N))\n",
    "    # a = np.round((a + a.T)/2,2)\n",
    "    a[np.eye(N)==1] = 0\n",
    "    permutation, distance = solve_tsp_dynamic_programming(a)\n",
    "    route, total_dist = predict_route(solver, a, False, 500)\n",
    "    route, dist = predict_geedy_route(a)\n",
    "    route, rdist = predict_route(solver, a, True, 500)\n",
    "    ld.append(distance)\n",
    "    lp.append(total_dist)\n",
    "    lg.append(dist)\n",
    "    lr.append(rdist)\n",
    "Y_predict = np.array(lp)\n",
    "Y_true = np.array(ld)\n",
    "Y_greedy = np.array(lg)\n",
    "Y_rnd = np.array(lr)"
   ]
  }
 ],
 "metadata": {
  "kernelspec": {
   "display_name": "Python 3 (ipykernel)",
   "language": "python",
   "name": "python3"
  },
  "language_info": {
   "codemirror_mode": {
    "name": "ipython",
    "version": 3
   },
   "file_extension": ".py",
   "mimetype": "text/x-python",
   "name": "python",
   "nbconvert_exporter": "python",
   "pygments_lexer": "ipython3",
   "version": "3.12.9"
  }
 },
 "nbformat": 4,
 "nbformat_minor": 5
}
