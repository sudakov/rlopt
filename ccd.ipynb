{
 "cells": [
  {
   "cell_type": "code",
   "execution_count": 29,
   "id": "13417727-1696-4871-bc53-4104b7aa5443",
   "metadata": {},
   "outputs": [],
   "source": [
    "from concorde.problem import Problem\n",
    "from concorde.concorde import Concorde\n",
    "import numpy as np"
   ]
  },
  {
   "cell_type": "code",
   "execution_count": 30,
   "id": "b10c752d-8aa9-4da2-95a7-d27b29c03dc1",
   "metadata": {},
   "outputs": [],
   "source": [
    "X = np.load('X_20x20.npy')\n",
    "Y = np.load('Y_20x20.npy')"
   ]
  },
  {
   "cell_type": "code",
   "execution_count": 31,
   "id": "33e9ad45-6be0-4290-9188-111c95680920",
   "metadata": {},
   "outputs": [],
   "source": [
    "a = np.round(X[0],2)\n",
    "for i in range(a.shape[0]):\n",
    "    for j in range(i+1, a.shape[0]):\n",
    "        a[j,i] = a[i,j]"
   ]
  },
  {
   "cell_type": "code",
   "execution_count": 32,
   "id": "84219cfb-d8a2-4156-b250-cac0cc9dd6fb",
   "metadata": {},
   "outputs": [],
   "source": [
    "problem = Problem.from_matrix(a)\n",
    "c = Concorde()\n"
   ]
  },
  {
   "cell_type": "code",
   "execution_count": 35,
   "id": "eb394b6f-3488-4ef6-ae43-cf6d759a38de",
   "metadata": {},
   "outputs": [
    {
     "name": "stdout",
     "output_type": "stream",
     "text": [
      "82.8 ms ± 2.61 ms per loop (mean ± std. dev. of 7 runs, 10 loops each)\n"
     ]
    }
   ],
   "source": [
    "%timeit solution = c.solve(problem, concorde_exe = '/home/vladimir/src/concorde/TSP/concorde')\n"
   ]
  },
  {
   "cell_type": "code",
   "execution_count": 36,
   "id": "89075140-49e4-4677-8ccd-a66c60bdaf84",
   "metadata": {},
   "outputs": [
    {
     "data": {
      "text/plain": [
       "[0, 6, 9, 4, 3, 12, 8, 19, 17, 15, 10, 13, 1, 16, 18, 11, 14, 5, 7, 2]"
      ]
     },
     "execution_count": 36,
     "metadata": {},
     "output_type": "execute_result"
    }
   ],
   "source": [
    "solution.tour"
   ]
  },
  {
   "cell_type": "code",
   "execution_count": null,
   "id": "37b12ef6-5f80-4ac4-8b41-53ca7bdcdafc",
   "metadata": {},
   "outputs": [],
   "source": []
  }
 ],
 "metadata": {
  "kernelspec": {
   "display_name": "Python 3 (ipykernel)",
   "language": "python",
   "name": "python3"
  },
  "language_info": {
   "codemirror_mode": {
    "name": "ipython",
    "version": 3
   },
   "file_extension": ".py",
   "mimetype": "text/x-python",
   "name": "python",
   "nbconvert_exporter": "python",
   "pygments_lexer": "ipython3",
   "version": "3.12.9"
  }
 },
 "nbformat": 4,
 "nbformat_minor": 5
}
