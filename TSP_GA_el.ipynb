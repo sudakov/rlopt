{
 "cells": [
  {
   "cell_type": "code",
   "execution_count": 24,
   "id": "ae83c83d-d919-48e8-9c24-f2302c954d71",
   "metadata": {},
   "outputs": [],
   "source": [
    "import random\n",
    "import time\n",
    "import os\n",
    "from itertools import tee, islice, chain\n",
    "import numpy as np\n",
    "from tqdm import tqdm\n",
    "from sklearn.metrics import mean_absolute_percentage_error"
   ]
  },
  {
   "cell_type": "code",
   "execution_count": 19,
   "id": "38bd47db-7a74-4aa2-9e62-ccbd16e3c69e",
   "metadata": {},
   "outputs": [],
   "source": [
    "# Function to calculate the total distance of a route\n",
    "def total_distance(route, distance_lookup):\n",
    "    total_dist = 0.0\n",
    "    num_cities = len(route)\n",
    "\n",
    "    for i in range(num_cities):\n",
    "        total_dist += distance_lookup[(route[i], route[(i + 1) % num_cities])]\n",
    "\n",
    "    return total_dist"
   ]
  },
  {
   "cell_type": "code",
   "execution_count": 3,
   "id": "621d4753-85f0-47e2-b35a-dbdf0dccc08f",
   "metadata": {},
   "outputs": [],
   "source": [
    "# Function to initialize a population with random routes\n",
    "def initialize_population(pop_size, num_cities):\n",
    "    population = []\n",
    "    for _ in range(pop_size):\n",
    "        route = list(range(num_cities))\n",
    "        random.shuffle(route)\n",
    "        population.append(route)\n",
    "    return population\n",
    "\n",
    "# Tournament selection function\n",
    "def tournament_selection(population, distances, k):\n",
    "    selected = random.sample(population, k)\n",
    "    return min(selected, key=lambda x: total_distance(x, distances))\n",
    "\n",
    "# PMX crossover function\n",
    "def pmx_crossover(parent1, parent2):\n",
    "    size = len(parent1)\n",
    "    a, b = random.sample(range(size), 2)\n",
    "    if a > b:\n",
    "        a, b = b, a\n",
    "\n",
    "    child = parent1[a:b+1]\n",
    "    child_set = set(child)\n",
    "\n",
    "    for i in range(size):\n",
    "        if i < a or i > b:\n",
    "            gene = parent2[i]\n",
    "            while gene in child_set:\n",
    "                idx = parent2.index(gene)\n",
    "                gene = parent2[(idx + 1) % size]\n",
    "            child.append(gene)\n",
    "            child_set.add(gene)\n",
    "\n",
    "    return child\n",
    "\n",
    "# Inversion mutation function\n",
    "def inversion_mutation(route):\n",
    "    a, b = random.sample(range(len(route)), 2)\n",
    "    if a > b:\n",
    "        a, b = b, a\n",
    "    route[a:b+1] = reversed(route[a:b+1])\n",
    "    return route\n",
    "\n",
    "# Exchange mutation function\n",
    "def exchange_mutation(route):\n",
    "    a, b = random.sample(range(len(route)), 2)\n",
    "    route[a], route[b] = route[b], route[a]\n",
    "    return route\n",
    "\n",
    "# Function to generate a new population and evaluate their routes\n",
    "def generate_population_and_evaluate(population, distance_lookup, tournament_size):\n",
    "    new_population = []\n",
    "\n",
    "    for _ in range(len(population) // 2):\n",
    "        parent1 = tournament_selection(population, distance_lookup, tournament_size)\n",
    "        parent2 = tournament_selection(population, distance_lookup, tournament_size)\n",
    "\n",
    "        if random.random() < crossover_prob:\n",
    "            child1 = pmx_crossover(parent1, parent2)\n",
    "            child2 = pmx_crossover(parent2, parent1)\n",
    "        else:\n",
    "            child1, child2 = parent1[:], parent2[:]\n",
    "\n",
    "        if random.random() < inversion_prob:\n",
    "            child1 = inversion_mutation(child1)\n",
    "        if random.random() < inversion_prob:\n",
    "            child2 = inversion_mutation(child2)\n",
    "        if random.random() < exchange_prob:\n",
    "            child1 = exchange_mutation(child1)\n",
    "        if random.random() < exchange_prob:\n",
    "            child2 = exchange_mutation(child2)\n",
    "\n",
    "        fitness_child1 = total_distance(child1, distance_lookup)\n",
    "        fitness_child2 = total_distance(child2, distance_lookup)\n",
    "\n",
    "        if fitness_child1 < fitness_child2:\n",
    "            new_population.append(child1)\n",
    "            new_population.append(parent2)\n",
    "        else:\n",
    "            new_population.append(child2)\n",
    "            new_population.append(parent1)\n",
    "\n",
    "    return new_population"
   ]
  },
  {
   "cell_type": "code",
   "execution_count": 4,
   "id": "33274287-9a19-49a3-80ff-91fc4689facc",
   "metadata": {},
   "outputs": [],
   "source": [
    "# Genetic algorithm with improved calculation\n",
    "def genetic_algorithm_with_elitism(pop_size, tournament_size, crossover_prob, inversion_prob, exchange_prob, num_generations, elitism_ratio, distance_lookup):\n",
    "    population = initialize_population(pop_size, len(distance_lookup))\n",
    "    elitism_count = int(elitism_ratio * pop_size)\n",
    "\n",
    "    for generation in range(num_generations):\n",
    "        new_population = generate_population_and_evaluate(population, distance_lookup, tournament_size)\n",
    "        new_population.sort(key=lambda x: total_distance(x, distance_lookup))\n",
    "        \n",
    "        # Preserve the best individuals from the current population\n",
    "        elite_individuals = new_population[:elitism_count]\n",
    "        \n",
    "        # Generate the rest of the population through genetic operations\n",
    "        non_elite_population = new_population[elitism_count:]\n",
    "        offspring_population = generate_population_and_evaluate(non_elite_population, distance_lookup, tournament_size)\n",
    "        \n",
    "        # Combine elite and offspring populations to form the next generation\n",
    "        population = elite_individuals + offspring_population\n",
    "\n",
    "    best_route = min(population, key=lambda x: total_distance(x, distance_lookup))\n",
    "    best_distance = total_distance(best_route, distance_lookup)\n",
    "\n",
    "    return best_route, best_distance\n"
   ]
  },
  {
   "cell_type": "code",
   "execution_count": 16,
   "id": "0dfc571a-6078-44d7-84cf-5052aa687424",
   "metadata": {},
   "outputs": [],
   "source": [
    "# Parameters\n",
    "X = np.load('X_20x20.npy')\n",
    "Y = np.load('Y_20x20.npy')\n",
    "border = 60000\n",
    "X_train = X[:border]\n",
    "Y_train = Y[:border]\n",
    "X_test = X[border:]\n",
    "Y_test = Y[border:]"
   ]
  },
  {
   "cell_type": "code",
   "execution_count": 39,
   "id": "cff22d1f-6a90-44a4-a938-e6a2b7ca695b",
   "metadata": {},
   "outputs": [
    {
     "name": "stderr",
     "output_type": "stream",
     "text": [
      "100%|██████████| 3000/3000 [08:51<00:00,  5.65it/s]\n"
     ]
    }
   ],
   "source": [
    "pop_size = 100\n",
    "tournament_size = 3\n",
    "crossover_prob = 0.85\n",
    "inversion_prob = 0.15\n",
    "exchange_prob = 0.15\n",
    "num_generations = 500\n",
    "elitism_ratio = 0.05\n",
    "random.seed(1)\n",
    "ld = []\n",
    "lp = []\n",
    "for i in tqdm(range(X_test.shape[0])):\n",
    "    a = X_test[i]\n",
    "    route = Y_test[i]\n",
    "    distance = total_distance(route, a)\n",
    "    route, total_dist = genetic_algorithm_with_elitism(pop_size, tournament_size, crossover_prob, inversion_prob, \n",
    "                                                       exchange_prob, num_generations, elitism_ratio, distance_lookup=a)\n",
    "    ld.append(distance)\n",
    "    lp.append(total_dist)    \n",
    "Y_true = np.array(ld)\n",
    "Y_predict = np.array(lp)\n"
   ]
  },
  {
   "cell_type": "code",
   "execution_count": 40,
   "id": "a6f9ae45-1f77-4e9e-a3b7-ef8b33b121c1",
   "metadata": {},
   "outputs": [
    {
     "data": {
      "text/plain": [
       "0.04827466058419728"
      ]
     },
     "execution_count": 40,
     "metadata": {},
     "output_type": "execute_result"
    }
   ],
   "source": [
    "mean_absolute_percentage_error(Y_true, Y_predict)"
   ]
  },
  {
   "cell_type": "code",
   "execution_count": 41,
   "id": "2aec3f58-828f-4d81-9b88-1f8bc4c43a2d",
   "metadata": {},
   "outputs": [
    {
     "data": {
      "text/plain": [
       "np.int64(0)"
      ]
     },
     "execution_count": 41,
     "metadata": {},
     "output_type": "execute_result"
    }
   ],
   "source": [
    "# Сколько случаев действительно плохого прогноза\n",
    "sum(((Y_predict - Y_true) / Y_true) > 0.2)"
   ]
  },
  {
   "cell_type": "code",
   "execution_count": 42,
   "id": "86fa6b55-947e-4913-bba7-b1656bf680f5",
   "metadata": {},
   "outputs": [
    {
     "name": "stdout",
     "output_type": "stream",
     "text": [
      "179 ms ± 2.01 ms per loop (mean ± std. dev. of 7 runs, 10 loops each)\n"
     ]
    }
   ],
   "source": [
    "%timeit genetic_algorithm_with_elitism(pop_size, tournament_size, crossover_prob, inversion_prob, \\\n",
    "    exchange_prob, num_generations, elitism_ratio, distance_lookup=a)"
   ]
  },
  {
   "cell_type": "code",
   "execution_count": null,
   "id": "43daa855-d7f7-4461-b910-ea76c1725d27",
   "metadata": {},
   "outputs": [],
   "source": []
  }
 ],
 "metadata": {
  "kernelspec": {
   "display_name": "Python 3 (ipykernel)",
   "language": "python",
   "name": "python3"
  },
  "language_info": {
   "codemirror_mode": {
    "name": "ipython",
    "version": 3
   },
   "file_extension": ".py",
   "mimetype": "text/x-python",
   "name": "python",
   "nbconvert_exporter": "python",
   "pygments_lexer": "ipython3",
   "version": "3.12.9"
  }
 },
 "nbformat": 4,
 "nbformat_minor": 5
}
