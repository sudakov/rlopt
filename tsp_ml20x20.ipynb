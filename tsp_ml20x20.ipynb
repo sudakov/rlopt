{
 "cells": [
  {
   "cell_type": "markdown",
   "id": "e0b76303-0641-468a-94b2-2b1414759fce",
   "metadata": {},
   "source": [
    "# Обучение с учителем для решения задач коммивояжера\n"
   ]
  },
  {
   "cell_type": "code",
   "execution_count": 8,
   "id": "3ae68ec8-1737-4490-ae49-1139d3c815e6",
   "metadata": {
    "collapsed": true,
    "jupyter": {
     "outputs_hidden": true,
     "source_hidden": true
    }
   },
   "outputs": [
    {
     "name": "stderr",
     "output_type": "stream",
     "text": [
      "2025-04-15 05:59:31.598935: E external/local_xla/xla/stream_executor/cuda/cuda_fft.cc:467] Unable to register cuFFT factory: Attempting to register factory for plugin cuFFT when one has already been registered\n",
      "WARNING: All log messages before absl::InitializeLog() is called are written to STDERR\n",
      "E0000 00:00:1744696771.658939    1407 cuda_dnn.cc:8579] Unable to register cuDNN factory: Attempting to register factory for plugin cuDNN when one has already been registered\n",
      "E0000 00:00:1744696771.673498    1407 cuda_blas.cc:1407] Unable to register cuBLAS factory: Attempting to register factory for plugin cuBLAS when one has already been registered\n",
      "W0000 00:00:1744696771.773146    1407 computation_placer.cc:177] computation placer already registered. Please check linkage and avoid linking the same target more than once.\n",
      "W0000 00:00:1744696771.773161    1407 computation_placer.cc:177] computation placer already registered. Please check linkage and avoid linking the same target more than once.\n",
      "W0000 00:00:1744696771.773163    1407 computation_placer.cc:177] computation placer already registered. Please check linkage and avoid linking the same target more than once.\n",
      "W0000 00:00:1744696771.773165    1407 computation_placer.cc:177] computation placer already registered. Please check linkage and avoid linking the same target more than once.\n",
      "2025-04-15 05:59:31.784867: I tensorflow/core/platform/cpu_feature_guard.cc:210] This TensorFlow binary is optimized to use available CPU instructions in performance-critical operations.\n",
      "To enable the following instructions: AVX2 FMA, in other operations, rebuild TensorFlow with the appropriate compiler flags.\n"
     ]
    }
   ],
   "source": [
    "import os\n",
    "import tensorflow as tf\n",
    "os.environ['TF_CPP_MIN_LOG_LEVEL'] = '2'  # Скрывает INFO-логи (оставляет WARNING и ERROR)\n",
    "tf.get_logger().setLevel('ERROR')  # Скрывает большинство логов TensorFlow\n",
    "import logging\n",
    "logging.getLogger('tensorflow').setLevel(logging.ERROR)\n",
    "\n",
    "import absl.logging\n",
    "absl.logging.set_verbosity(absl.logging.ERROR)"
   ]
  },
  {
   "cell_type": "code",
   "execution_count": 9,
   "id": "58cef161-e45d-43f9-8a3e-8b407265b3f7",
   "metadata": {
    "jupyter": {
     "source_hidden": true
    }
   },
   "outputs": [],
   "source": [
    "import numpy as np\n",
    "from tensorflow.keras.layers import Input, Dense, LayerNormalization\n",
    "from tensorflow.keras.models import Model\n",
    "from tensorflow.keras.optimizers import Adam\n",
    "from tensorflow.keras import backend as K\n",
    "from tqdm import tqdm\n",
    "from python_tsp.exact import solve_tsp_dynamic_programming, solve_tsp_branch_and_bound\n",
    "from python_tsp.heuristics import solve_tsp_local_search, solve_tsp_simulated_annealing\n",
    "from python_tsp.heuristics import solve_tsp_lin_kernighan, solve_tsp_record_to_record\n",
    "from sklearn.metrics import mean_absolute_percentage_error"
   ]
  },
  {
   "cell_type": "markdown",
   "id": "374ecaac-3813-49bb-9ce1-cbae15403042",
   "metadata": {},
   "source": [
    "### Модель предсказывает какие дуги входят в маршрут, но не их последовательность"
   ]
  },
  {
   "cell_type": "code",
   "execution_count": 10,
   "id": "2431ebc5-3df5-48c8-b68c-713e2eebb9e5",
   "metadata": {
    "editable": true,
    "jupyter": {
     "source_hidden": true
    },
    "slideshow": {
     "slide_type": ""
    },
    "tags": []
   },
   "outputs": [],
   "source": [
    "class TSPSolver:\n",
    "    def __init__(self, num_cities, hidden_dim=256):\n",
    "        self.num_cities = num_cities\n",
    "        self.hidden_dim = hidden_dim\n",
    "        self.model = self._build_model()\n",
    "    \n",
    "    def _build_model(self):\n",
    "        # Вход: матрица расстояний (batch, cities, cities)\n",
    "        inputs = Input(shape=(self.num_cities, self.num_cities))\n",
    "        \n",
    "        # Кодировщик на основе полносвязных слоев\n",
    "        x = Dense(self.hidden_dim, activation='relu')(inputs)\n",
    "        x = LayerNormalization()(x)\n",
    "        x = Dense(self.hidden_dim, activation='relu')(x)\n",
    "        x = LayerNormalization()(x)\n",
    "\n",
    "        x = Dense(self.hidden_dim, activation='relu')(x)\n",
    "        x = LayerNormalization()(x)\n",
    "        \n",
    "        # Выходной слой - вероятности переходов\n",
    "        logits = Dense(self.num_cities)(x)\n",
    "        outputs = tf.keras.activations.softmax(logits)\n",
    "        \n",
    "        model = Model(inputs=inputs, outputs=outputs)\n",
    "        model.compile(optimizer=Adam(0.001), loss=self._custom_loss)\n",
    "        return model\n",
    "    \n",
    "    def _custom_loss(self, y_true, y_pred):\n",
    "        # y_true: маска посещенных городов (batch, cities, cities)\n",
    "        # y_pred: вероятности переходов (batch, cities, cities)\n",
    "        \n",
    "        # Применяем маску к предсказаниям\n",
    "        masked_pred = y_pred * y_true\n",
    "        \n",
    "        # Нормализуем вероятности\n",
    "        masked_pred = masked_pred / (K.sum(masked_pred, axis=-1, keepdims=True) + K.epsilon())\n",
    "        \n",
    "        # Вычисляем кросс-энтропию\n",
    "        loss = -K.sum(y_true * K.log(masked_pred + K.epsilon()), axis=-1)\n",
    "        return K.mean(loss)\n",
    "    \n",
    "    def train(self, X_train, routes, epochs=50, batch_size=128):\n",
    "        \"\"\"\n",
    "        X_train: матрицы расстояний (samples, cities, cities)\n",
    "        routes: оптимальные маршруты (samples, cities)\n",
    "        \"\"\"\n",
    "        # Создаем маски переходов для обучения\n",
    "        y_masks = np.zeros_like(X_train)\n",
    "        \n",
    "        for i, route in enumerate(routes):\n",
    "            for j in range(len(route)-1):\n",
    "                from_city = route[j]\n",
    "                to_city = route[j+1]\n",
    "                y_masks[i, from_city, to_city] = 1\n",
    "        \n",
    "        self.model.fit(\n",
    "            X_train,\n",
    "            y_masks,\n",
    "            epochs=epochs,\n",
    "            batch_size=batch_size,\n",
    "            validation_split=0.1\n",
    "        )"
   ]
  },
  {
   "cell_type": "code",
   "execution_count": 4,
   "id": "a65f130e-800f-4d72-87da-b3100843220a",
   "metadata": {},
   "outputs": [
    {
     "name": "stdout",
     "output_type": "stream",
     "text": [
      "[PhysicalDevice(name='/physical_device:GPU:0', device_type='GPU'), PhysicalDevice(name='/physical_device:GPU:1', device_type='GPU')]\n"
     ]
    }
   ],
   "source": [
    "print(tf.config.list_physical_devices('GPU'))"
   ]
  },
  {
   "cell_type": "markdown",
   "id": "e55d57fd-4da0-4a2b-ae67-8b99ecd3a419",
   "metadata": {},
   "source": [
    "### Подготовка исходных данных и поиск точного решения методом динамического программирования занимает час"
   ]
  },
  {
   "cell_type": "code",
   "execution_count": 14,
   "id": "d69cb6ae-d699-4036-942e-5abee4a31725",
   "metadata": {},
   "outputs": [],
   "source": [
    "X = np.load('X_20x20.npy')\n",
    "Y = np.load('Y_20x20.npy')\n",
    "border = 60000\n",
    "X_train = X[:border]\n",
    "Y_train = Y[:border]\n",
    "X_test = X[border:]\n",
    "Y_test = Y[border:]"
   ]
  },
  {
   "cell_type": "code",
   "execution_count": 9,
   "id": "4df6d68d-af3b-4bb4-ae30-f03fe064820a",
   "metadata": {},
   "outputs": [
    {
     "data": {
      "text/plain": [
       "(20, 60000)"
      ]
     },
     "execution_count": 9,
     "metadata": {},
     "output_type": "execute_result"
    }
   ],
   "source": [
    "N = X_train.shape[1]\n",
    "nlen = N*N\n",
    "cnt = X_train.shape[0]\n",
    "rand = np.random.RandomState(1)\n",
    "N, cnt"
   ]
  },
  {
   "cell_type": "markdown",
   "id": "8819257c-10db-429e-8256-d6a0f0a12f14",
   "metadata": {},
   "source": [
    "### Инициализируем и обучаем модель"
   ]
  },
  {
   "cell_type": "code",
   "execution_count": 10,
   "id": "203e797d-0656-447f-8232-51506e904c6b",
   "metadata": {
    "collapsed": true,
    "jupyter": {
     "outputs_hidden": true,
     "source_hidden": true
    },
    "scrolled": true
   },
   "outputs": [
    {
     "name": "stderr",
     "output_type": "stream",
     "text": [
      "I0000 00:00:1744734423.352401    1397 gpu_device.cc:2019] Created device /job:localhost/replica:0/task:0/device:GPU:0 with 22335 MB memory:  -> device: 0, name: NVIDIA GeForce RTX 3090, pci bus id: 0000:01:00.0, compute capability: 8.6\n",
      "I0000 00:00:1744734423.353748    1397 gpu_device.cc:2019] Created device /job:localhost/replica:0/task:0/device:GPU:1 with 22335 MB memory:  -> device: 1, name: NVIDIA GeForce RTX 3090, pci bus id: 0000:06:00.0, compute capability: 8.6\n"
     ]
    },
    {
     "name": "stdout",
     "output_type": "stream",
     "text": [
      "Epoch 1/40\n"
     ]
    },
    {
     "name": "stderr",
     "output_type": "stream",
     "text": [
      "WARNING: All log messages before absl::InitializeLog() is called are written to STDERR\n",
      "I0000 00:00:1744734425.936553    1561 service.cc:152] XLA service 0x7846b000f050 initialized for platform CUDA (this does not guarantee that XLA will be used). Devices:\n",
      "I0000 00:00:1744734425.936573    1561 service.cc:160]   StreamExecutor device (0): NVIDIA GeForce RTX 3090, Compute Capability 8.6\n",
      "I0000 00:00:1744734425.936575    1561 service.cc:160]   StreamExecutor device (1): NVIDIA GeForce RTX 3090, Compute Capability 8.6\n",
      "2025-04-15 16:27:05.976456: I tensorflow/compiler/mlir/tensorflow/utils/dump_mlir_util.cc:269] disabling MLIR crash reproducer, set env var `MLIR_CRASH_REPRODUCER_DIRECTORY` to enable.\n",
      "I0000 00:00:1744734426.182725    1561 cuda_dnn.cc:529] Loaded cuDNN version 90800\n"
     ]
    },
    {
     "name": "stdout",
     "output_type": "stream",
     "text": [
      "\u001b[1m 75/422\u001b[0m \u001b[32m━━━\u001b[0m\u001b[37m━━━━━━━━━━━━━━━━━\u001b[0m \u001b[1m0s\u001b[0m 1ms/step - loss: 2.7150e-06"
     ]
    },
    {
     "name": "stderr",
     "output_type": "stream",
     "text": [
      "I0000 00:00:1744734427.526380    1561 device_compiler.h:188] Compiled cluster using XLA!  This line is logged at most once for the lifetime of the process.\n"
     ]
    },
    {
     "name": "stdout",
     "output_type": "stream",
     "text": [
      "\u001b[1m422/422\u001b[0m \u001b[32m━━━━━━━━━━━━━━━━━━━━\u001b[0m\u001b[37m\u001b[0m \u001b[1m6s\u001b[0m 7ms/step - loss: 1.8191e-06 - val_loss: 1.1097e-06\n",
      "Epoch 2/40\n",
      "\u001b[1m422/422\u001b[0m \u001b[32m━━━━━━━━━━━━━━━━━━━━\u001b[0m\u001b[37m\u001b[0m \u001b[1m1s\u001b[0m 2ms/step - loss: 1.0735e-06 - val_loss: 9.9877e-07\n",
      "Epoch 3/40\n",
      "\u001b[1m422/422\u001b[0m \u001b[32m━━━━━━━━━━━━━━━━━━━━\u001b[0m\u001b[37m\u001b[0m \u001b[1m1s\u001b[0m 2ms/step - loss: 9.7349e-07 - val_loss: 8.8824e-07\n",
      "Epoch 4/40\n",
      "\u001b[1m422/422\u001b[0m \u001b[32m━━━━━━━━━━━━━━━━━━━━\u001b[0m\u001b[37m\u001b[0m \u001b[1m1s\u001b[0m 2ms/step - loss: 8.5451e-07 - val_loss: 7.5584e-07\n",
      "Epoch 5/40\n",
      "\u001b[1m422/422\u001b[0m \u001b[32m━━━━━━━━━━━━━━━━━━━━\u001b[0m\u001b[37m\u001b[0m \u001b[1m1s\u001b[0m 2ms/step - loss: 7.2371e-07 - val_loss: 6.4797e-07\n",
      "Epoch 6/40\n",
      "\u001b[1m422/422\u001b[0m \u001b[32m━━━━━━━━━━━━━━━━━━━━\u001b[0m\u001b[37m\u001b[0m \u001b[1m1s\u001b[0m 2ms/step - loss: 6.2527e-07 - val_loss: 5.7812e-07\n",
      "Epoch 7/40\n",
      "\u001b[1m422/422\u001b[0m \u001b[32m━━━━━━━━━━━━━━━━━━━━\u001b[0m\u001b[37m\u001b[0m \u001b[1m1s\u001b[0m 2ms/step - loss: 5.6129e-07 - val_loss: 5.3142e-07\n",
      "Epoch 8/40\n",
      "\u001b[1m422/422\u001b[0m \u001b[32m━━━━━━━━━━━━━━━━━━━━\u001b[0m\u001b[37m\u001b[0m \u001b[1m1s\u001b[0m 2ms/step - loss: 5.2239e-07 - val_loss: 5.0671e-07\n",
      "Epoch 9/40\n",
      "\u001b[1m422/422\u001b[0m \u001b[32m━━━━━━━━━━━━━━━━━━━━\u001b[0m\u001b[37m\u001b[0m \u001b[1m1s\u001b[0m 2ms/step - loss: 4.9728e-07 - val_loss: 4.8818e-07\n",
      "Epoch 10/40\n",
      "\u001b[1m422/422\u001b[0m \u001b[32m━━━━━━━━━━━━━━━━━━━━\u001b[0m\u001b[37m\u001b[0m \u001b[1m1s\u001b[0m 2ms/step - loss: 4.8190e-07 - val_loss: 4.7863e-07\n",
      "Epoch 11/40\n",
      "\u001b[1m422/422\u001b[0m \u001b[32m━━━━━━━━━━━━━━━━━━━━\u001b[0m\u001b[37m\u001b[0m \u001b[1m1s\u001b[0m 2ms/step - loss: 4.7042e-07 - val_loss: 4.6702e-07\n",
      "Epoch 12/40\n",
      "\u001b[1m422/422\u001b[0m \u001b[32m━━━━━━━━━━━━━━━━━━━━\u001b[0m\u001b[37m\u001b[0m \u001b[1m1s\u001b[0m 2ms/step - loss: 4.6098e-07 - val_loss: 4.5959e-07\n",
      "Epoch 13/40\n",
      "\u001b[1m422/422\u001b[0m \u001b[32m━━━━━━━━━━━━━━━━━━━━\u001b[0m\u001b[37m\u001b[0m \u001b[1m1s\u001b[0m 2ms/step - loss: 4.5556e-07 - val_loss: 4.5702e-07\n",
      "Epoch 14/40\n",
      "\u001b[1m422/422\u001b[0m \u001b[32m━━━━━━━━━━━━━━━━━━━━\u001b[0m\u001b[37m\u001b[0m \u001b[1m1s\u001b[0m 2ms/step - loss: 4.4857e-07 - val_loss: 4.4809e-07\n",
      "Epoch 15/40\n",
      "\u001b[1m422/422\u001b[0m \u001b[32m━━━━━━━━━━━━━━━━━━━━\u001b[0m\u001b[37m\u001b[0m \u001b[1m1s\u001b[0m 2ms/step - loss: 4.4464e-07 - val_loss: 4.4500e-07\n",
      "Epoch 16/40\n",
      "\u001b[1m422/422\u001b[0m \u001b[32m━━━━━━━━━━━━━━━━━━━━\u001b[0m\u001b[37m\u001b[0m \u001b[1m1s\u001b[0m 2ms/step - loss: 4.4143e-07 - val_loss: 4.4479e-07\n",
      "Epoch 17/40\n",
      "\u001b[1m422/422\u001b[0m \u001b[32m━━━━━━━━━━━━━━━━━━━━\u001b[0m\u001b[37m\u001b[0m \u001b[1m1s\u001b[0m 2ms/step - loss: 4.3997e-07 - val_loss: 4.4530e-07\n",
      "Epoch 18/40\n",
      "\u001b[1m422/422\u001b[0m \u001b[32m━━━━━━━━━━━━━━━━━━━━\u001b[0m\u001b[37m\u001b[0m \u001b[1m1s\u001b[0m 2ms/step - loss: 4.3660e-07 - val_loss: 4.3887e-07\n",
      "Epoch 19/40\n",
      "\u001b[1m422/422\u001b[0m \u001b[32m━━━━━━━━━━━━━━━━━━━━\u001b[0m\u001b[37m\u001b[0m \u001b[1m1s\u001b[0m 2ms/step - loss: 4.3493e-07 - val_loss: 4.3730e-07\n",
      "Epoch 20/40\n",
      "\u001b[1m422/422\u001b[0m \u001b[32m━━━━━━━━━━━━━━━━━━━━\u001b[0m\u001b[37m\u001b[0m \u001b[1m1s\u001b[0m 2ms/step - loss: 4.3199e-07 - val_loss: 4.3254e-07\n",
      "Epoch 21/40\n",
      "\u001b[1m422/422\u001b[0m \u001b[32m━━━━━━━━━━━━━━━━━━━━\u001b[0m\u001b[37m\u001b[0m \u001b[1m1s\u001b[0m 2ms/step - loss: 4.3062e-07 - val_loss: 4.3716e-07\n",
      "Epoch 22/40\n",
      "\u001b[1m422/422\u001b[0m \u001b[32m━━━━━━━━━━━━━━━━━━━━\u001b[0m\u001b[37m\u001b[0m \u001b[1m1s\u001b[0m 2ms/step - loss: 4.2839e-07 - val_loss: 4.3182e-07\n",
      "Epoch 23/40\n",
      "\u001b[1m422/422\u001b[0m \u001b[32m━━━━━━━━━━━━━━━━━━━━\u001b[0m\u001b[37m\u001b[0m \u001b[1m1s\u001b[0m 2ms/step - loss: 4.2677e-07 - val_loss: 4.2848e-07\n",
      "Epoch 24/40\n",
      "\u001b[1m422/422\u001b[0m \u001b[32m━━━━━━━━━━━━━━━━━━━━\u001b[0m\u001b[37m\u001b[0m \u001b[1m1s\u001b[0m 2ms/step - loss: 4.2645e-07 - val_loss: 4.3306e-07\n",
      "Epoch 25/40\n",
      "\u001b[1m422/422\u001b[0m \u001b[32m━━━━━━━━━━━━━━━━━━━━\u001b[0m\u001b[37m\u001b[0m \u001b[1m1s\u001b[0m 2ms/step - loss: 4.2460e-07 - val_loss: 4.2965e-07\n",
      "Epoch 26/40\n",
      "\u001b[1m422/422\u001b[0m \u001b[32m━━━━━━━━━━━━━━━━━━━━\u001b[0m\u001b[37m\u001b[0m \u001b[1m1s\u001b[0m 2ms/step - loss: 4.2314e-07 - val_loss: 4.2791e-07\n",
      "Epoch 27/40\n",
      "\u001b[1m422/422\u001b[0m \u001b[32m━━━━━━━━━━━━━━━━━━━━\u001b[0m\u001b[37m\u001b[0m \u001b[1m1s\u001b[0m 2ms/step - loss: 4.2181e-07 - val_loss: 4.2528e-07\n",
      "Epoch 28/40\n",
      "\u001b[1m422/422\u001b[0m \u001b[32m━━━━━━━━━━━━━━━━━━━━\u001b[0m\u001b[37m\u001b[0m \u001b[1m1s\u001b[0m 2ms/step - loss: 4.2101e-07 - val_loss: 4.2553e-07\n",
      "Epoch 29/40\n",
      "\u001b[1m422/422\u001b[0m \u001b[32m━━━━━━━━━━━━━━━━━━━━\u001b[0m\u001b[37m\u001b[0m \u001b[1m1s\u001b[0m 2ms/step - loss: 4.2043e-07 - val_loss: 4.2719e-07\n",
      "Epoch 30/40\n",
      "\u001b[1m422/422\u001b[0m \u001b[32m━━━━━━━━━━━━━━━━━━━━\u001b[0m\u001b[37m\u001b[0m \u001b[1m1s\u001b[0m 2ms/step - loss: 4.1884e-07 - val_loss: 4.2288e-07\n",
      "Epoch 31/40\n",
      "\u001b[1m422/422\u001b[0m \u001b[32m━━━━━━━━━━━━━━━━━━━━\u001b[0m\u001b[37m\u001b[0m \u001b[1m1s\u001b[0m 2ms/step - loss: 4.1888e-07 - val_loss: 4.2404e-07\n",
      "Epoch 32/40\n",
      "\u001b[1m422/422\u001b[0m \u001b[32m━━━━━━━━━━━━━━━━━━━━\u001b[0m\u001b[37m\u001b[0m \u001b[1m1s\u001b[0m 2ms/step - loss: 4.1756e-07 - val_loss: 4.2303e-07\n",
      "Epoch 33/40\n",
      "\u001b[1m422/422\u001b[0m \u001b[32m━━━━━━━━━━━━━━━━━━━━\u001b[0m\u001b[37m\u001b[0m \u001b[1m1s\u001b[0m 2ms/step - loss: 4.1642e-07 - val_loss: 4.2182e-07\n",
      "Epoch 34/40\n",
      "\u001b[1m422/422\u001b[0m \u001b[32m━━━━━━━━━━━━━━━━━━━━\u001b[0m\u001b[37m\u001b[0m \u001b[1m1s\u001b[0m 2ms/step - loss: 4.1726e-07 - val_loss: 4.1931e-07\n",
      "Epoch 35/40\n",
      "\u001b[1m422/422\u001b[0m \u001b[32m━━━━━━━━━━━━━━━━━━━━\u001b[0m\u001b[37m\u001b[0m \u001b[1m1s\u001b[0m 2ms/step - loss: 4.1541e-07 - val_loss: 4.1977e-07\n",
      "Epoch 36/40\n",
      "\u001b[1m422/422\u001b[0m \u001b[32m━━━━━━━━━━━━━━━━━━━━\u001b[0m\u001b[37m\u001b[0m \u001b[1m1s\u001b[0m 2ms/step - loss: 4.1414e-07 - val_loss: 4.2407e-07\n",
      "Epoch 37/40\n",
      "\u001b[1m422/422\u001b[0m \u001b[32m━━━━━━━━━━━━━━━━━━━━\u001b[0m\u001b[37m\u001b[0m \u001b[1m1s\u001b[0m 2ms/step - loss: 4.1422e-07 - val_loss: 4.1863e-07\n",
      "Epoch 38/40\n",
      "\u001b[1m422/422\u001b[0m \u001b[32m━━━━━━━━━━━━━━━━━━━━\u001b[0m\u001b[37m\u001b[0m \u001b[1m1s\u001b[0m 2ms/step - loss: 4.1451e-07 - val_loss: 4.1777e-07\n",
      "Epoch 39/40\n",
      "\u001b[1m422/422\u001b[0m \u001b[32m━━━━━━━━━━━━━━━━━━━━\u001b[0m\u001b[37m\u001b[0m \u001b[1m1s\u001b[0m 2ms/step - loss: 4.1200e-07 - val_loss: 4.1767e-07\n",
      "Epoch 40/40\n",
      "\u001b[1m422/422\u001b[0m \u001b[32m━━━━━━━━━━━━━━━━━━━━\u001b[0m\u001b[37m\u001b[0m \u001b[1m1s\u001b[0m 2ms/step - loss: 4.1287e-07 - val_loss: 4.1711e-07\n"
     ]
    }
   ],
   "source": [
    "solver = TSPSolver(num_cities=N)\n",
    "solver.train(X_train, Y_train, epochs=40)"
   ]
  },
  {
   "cell_type": "markdown",
   "id": "9e54e75b-d252-47e7-85b9-12b19b07673a",
   "metadata": {},
   "source": [
    "### Проверка обученной модели"
   ]
  },
  {
   "cell_type": "code",
   "execution_count": 11,
   "id": "1ace715c-70d6-4fdd-ae43-2c3161e2aa5a",
   "metadata": {
    "jupyter": {
     "source_hidden": true
    }
   },
   "outputs": [],
   "source": [
    "def predict_route(solver, dist_matrix, is_rnd = False, num_iter = 500):\n",
    "    ap = solver.model.predict(dist_matrix[np.newaxis, ...], verbose=0)[0]\n",
    "    num_cities = dist_matrix.shape[0]\n",
    "    best_route = []\n",
    "    best_dist = np.inf\n",
    "    for _ in range(num_iter):\n",
    "        current = 0\n",
    "        route = [current]\n",
    "        total_dist = 0\n",
    "        for _ in range(num_cities-1):\n",
    "            probs = ap[current].copy()\n",
    "            if is_rnd: probs = np.full_like(probs, 1) \n",
    "            # Маскируем посещенные города\n",
    "            probs[route] = 0\n",
    "            # Выбираем следующий город\n",
    "            next_city = rand.choice(range(num_cities), p=(probs / np.sum(probs)))\n",
    "            route.append(next_city)\n",
    "            total_dist += dist_matrix[current, next_city]\n",
    "            current = next_city\n",
    "        total_dist += dist_matrix[route[-1], route[0]]\n",
    "        if total_dist < best_dist:\n",
    "            best_dist = total_dist\n",
    "            best_route = route\n",
    "    return np.array(best_route), best_dist"
   ]
  },
  {
   "cell_type": "code",
   "execution_count": 12,
   "id": "ccbb483f-f33a-4802-aba9-618090ae7034",
   "metadata": {
    "jupyter": {
     "source_hidden": true
    }
   },
   "outputs": [],
   "source": [
    "def predict_geedy_route(dist_matrix):\n",
    "    num_cities = dist_matrix.shape[0]\n",
    "    current = 0\n",
    "    route = [current]\n",
    "    next_city = np.argmax(dist_matrix[current])\n",
    "    route.append(next_city)\n",
    "    total_dist = dist_matrix[current, next_city]\n",
    "    current = next_city\n",
    "    for _ in range(num_cities-2):\n",
    "        a = dist_matrix[current].copy()\n",
    "        # Маскируем посещенные города\n",
    "        a[route] = np.inf\n",
    "        # Выбираем следующий город\n",
    "        next_city = np.argmin(a)\n",
    "        route.append(next_city)\n",
    "        total_dist += dist_matrix[current, next_city]\n",
    "        current = next_city\n",
    "    total_dist += dist_matrix[route[-1], route[0]]\n",
    "    return np.array(route), total_dist"
   ]
  },
  {
   "cell_type": "code",
   "execution_count": 79,
   "id": "35e3caef-5686-4b9a-ae45-64b4c032f4e1",
   "metadata": {},
   "outputs": [],
   "source": [
    "def predict_beam_search(solver, distance_matrix, beam_width=3):\n",
    "    ap = solver.model.predict(distance_matrix[np.newaxis, ...], verbose=0)[0]\n",
    "    num_cities = distance_matrix.shape[0]\n",
    "    beams = [([0], set(range(0, num_cities)) - {0}, 0)]\n",
    "    \n",
    "    for i in range(1, num_cities):\n",
    "        new_beams = []\n",
    "        for route, remaining, dist in beams:\n",
    "            # Топ-K городов \n",
    "            top_cities = sorted(remaining, key=lambda x: ap[route[-1],x], reverse=True)[:beam_width]\n",
    "            for city in top_cities:\n",
    "                new_route = route + [city]\n",
    "                if next((x for x in new_beams if x[0] == new_route), False):\n",
    "                    print(new_beams)\n",
    "                    print(route)\n",
    "                    print('-'*20)\n",
    "                    continue\n",
    "                new_remaining = remaining - {city}\n",
    "                new_dist = dist + distance_matrix[new_route[-2], new_route[-1]]\n",
    "                if i == num_cities-1:\n",
    "                    new_dist += distance_matrix[new_route[-1], new_route[0]]\n",
    "                new_beams.append((new_route, new_remaining, new_dist))\n",
    "        # Выбираем лучшие beam_width вариантов\n",
    "        beams = sorted(new_beams, key=lambda x: x[2])[:beam_width]\n",
    "        \n",
    "    # Лучший маршрут\n",
    "    best_route, _, best_dist = min(beams, key=lambda x: x[2])\n",
    "    return best_route, best_dist"
   ]
  },
  {
   "cell_type": "code",
   "execution_count": 101,
   "id": "24b74467-17e5-44e2-8948-59f8a4c57e2f",
   "metadata": {},
   "outputs": [
    {
     "name": "stderr",
     "output_type": "stream",
     "text": [
      "100%|██████████| 3000/3000 [06:36<00:00,  7.56it/s]\n"
     ]
    }
   ],
   "source": [
    "ld = []\n",
    "lp = []\n",
    "lg = []\n",
    "lr = []\n",
    "lb = []\n",
    "lls = []\n",
    "lsa = []\n",
    "for i in tqdm(range(X_test.shape[0])):\n",
    "    a = X_test[i]\n",
    "    #route = Y_test[i]\n",
    "    #distance = sum(a[route[j],route[j+1]] for j in range(N-1))+a[route[-1],route[0]]\n",
    "    #_, total_dist = predict_route(solver, a, False, 500)\n",
    "    #route, dist = predict_geedy_route(a)\n",
    "    #route, rdist = predict_route(solver, a, True, 500)\n",
    "    #_, bdist = predict_beam_search(solver, a, beam_width=4)\n",
    "    _, ls_dist = solve_tsp_local_search(a)\n",
    "    _, sa_dist = solve_tsp_simulated_annealing(a)\n",
    "    #ld.append(distance)\n",
    "    #lp.append(total_dist)\n",
    "    #lg.append(dist)\n",
    "    #lr.append(rdist)\n",
    "    #lb.append(bdist)\n",
    "    lls.append(ls_dist)\n",
    "    lsa.append(sa_dist)\n",
    "    \n",
    "#Y_predict = np.array(lp)\n",
    "#Y_true = np.array(ld)\n",
    "#Y_greedy = np.array(lg)\n",
    "#Y_rnd = np.array(lr)\n",
    "#Y_beam = np.array(lb)\n",
    "Y_ls = np.array(lls)\n",
    "Y_sa = np.array(lsa)"
   ]
  },
  {
   "cell_type": "code",
   "execution_count": 102,
   "id": "71f20ce5-7641-4f84-8079-a407ea5a2fdb",
   "metadata": {},
   "outputs": [
    {
     "data": {
      "text/plain": [
       "(0.09243095293509385,\n",
       " 0.08246613383664256,\n",
       " 0.2061679704944246,\n",
       " 0.4061705680091632,\n",
       " 0.31245418930486285,\n",
       " 0.21997355559984233)"
      ]
     },
     "execution_count": 102,
     "metadata": {},
     "output_type": "execute_result"
    }
   ],
   "source": [
    "mean_absolute_percentage_error(Y_true, Y_predict), \\\n",
    "mean_absolute_percentage_error(Y_true, Y_beam), \\\n",
    "mean_absolute_percentage_error(Y_true, Y_greedy), \\\n",
    "mean_absolute_percentage_error(Y_true, Y_rnd), \\\n",
    "mean_absolute_percentage_error(Y_true, Y_ls), \\\n",
    "mean_absolute_percentage_error(Y_true, Y_sa)"
   ]
  },
  {
   "cell_type": "code",
   "execution_count": 103,
   "id": "25a2cd21-dc07-4901-96d9-a773d3272aa4",
   "metadata": {},
   "outputs": [
    {
     "data": {
      "text/plain": [
       "(np.int64(1),\n",
       " np.int64(8),\n",
       " np.int64(1554),\n",
       " np.int64(3000),\n",
       " np.int64(2840),\n",
       " np.int64(1819))"
      ]
     },
     "execution_count": 103,
     "metadata": {},
     "output_type": "execute_result"
    }
   ],
   "source": [
    "# Сколько случаев действительно плохого прогноза\n",
    "sum(((Y_predict - Y_true) / Y_true) > 0.2), \\\n",
    "sum(((Y_beam - Y_true) / Y_true) > 0.2), \\\n",
    "sum(((Y_greedy - Y_true) / Y_true) > 0.2), \\\n",
    "sum(((Y_rnd - Y_true) / Y_true) > 0.2), \\\n",
    "sum(((Y_ls - Y_true) / Y_true) > 0.2), \\\n",
    "sum(((Y_sa - Y_true) / Y_true) > 0.2)"
   ]
  },
  {
   "cell_type": "code",
   "execution_count": 94,
   "id": "a19c42d3-6a57-41f4-952d-84d770f29da9",
   "metadata": {},
   "outputs": [
    {
     "name": "stdout",
     "output_type": "stream",
     "text": [
      "65.6 ms ± 417 μs per loop (mean ± std. dev. of 7 runs, 10 loops each)\n"
     ]
    }
   ],
   "source": [
    "%timeit predict_beam_search(solver, a, beam_width=4)"
   ]
  },
  {
   "cell_type": "code",
   "execution_count": 54,
   "id": "c1c70e7e-8c11-464e-be47-2bfc51640c3a",
   "metadata": {},
   "outputs": [
    {
     "name": "stdout",
     "output_type": "stream",
     "text": [
      "101 μs ± 663 ns per loop (mean ± std. dev. of 7 runs, 10,000 loops each)\n"
     ]
    }
   ],
   "source": [
    "%timeit predict_geedy_route(a)"
   ]
  },
  {
   "cell_type": "code",
   "execution_count": 24,
   "id": "58ba83b6-4aa1-402e-9bc2-69df8c20f20a",
   "metadata": {},
   "outputs": [
    {
     "name": "stdout",
     "output_type": "stream",
     "text": [
      "434 ms ± 2.59 ms per loop (mean ± std. dev. of 7 runs, 1 loop each)\n"
     ]
    }
   ],
   "source": [
    "%timeit predict_route(solver, a, False, 500)"
   ]
  },
  {
   "cell_type": "code",
   "execution_count": 25,
   "id": "fa8e82b1-0f8d-47d8-89fe-2817f73866af",
   "metadata": {},
   "outputs": [
    {
     "name": "stdout",
     "output_type": "stream",
     "text": [
      "46.6 s ± 40.8 ms per loop (mean ± std. dev. of 7 runs, 1 loop each)\n"
     ]
    }
   ],
   "source": [
    "%timeit solve_tsp_dynamic_programming(a)"
   ]
  },
  {
   "cell_type": "code",
   "execution_count": 26,
   "id": "89c149d9-dbb1-4f73-a667-1138709614af",
   "metadata": {},
   "outputs": [
    {
     "name": "stdout",
     "output_type": "stream",
     "text": [
      "896 ms ± 4.89 ms per loop (mean ± std. dev. of 7 runs, 1 loop each)\n"
     ]
    }
   ],
   "source": [
    "%timeit solve_tsp_branch_and_bound(a)"
   ]
  },
  {
   "cell_type": "code",
   "execution_count": 27,
   "id": "1107a9b3-c5aa-4226-b2c8-61b68f2948ba",
   "metadata": {},
   "outputs": [
    {
     "name": "stdout",
     "output_type": "stream",
     "text": [
      "6.12 ms ± 98 μs per loop (mean ± std. dev. of 7 runs, 100 loops each)\n"
     ]
    }
   ],
   "source": [
    "%timeit solve_tsp_local_search(a)"
   ]
  },
  {
   "cell_type": "code",
   "execution_count": 28,
   "id": "db205318-629b-40e8-9d10-47b8e5b81488",
   "metadata": {},
   "outputs": [
    {
     "name": "stdout",
     "output_type": "stream",
     "text": [
      "122 ms ± 12.2 ms per loop (mean ± std. dev. of 7 runs, 10 loops each)\n"
     ]
    }
   ],
   "source": [
    "%timeit solve_tsp_simulated_annealing(a)"
   ]
  },
  {
   "cell_type": "code",
   "execution_count": null,
   "id": "5cc95984-b01c-4298-93fb-038485885c37",
   "metadata": {},
   "outputs": [],
   "source": [
    "# Не стабильно\n",
    "# solve_tsp_lin_kernighan(a), solve_tsp_record_to_record(a[:5,:5])"
   ]
  },
  {
   "cell_type": "code",
   "execution_count": null,
   "id": "d2f36e6a-0bf1-4054-8807-5417225975ee",
   "metadata": {},
   "outputs": [],
   "source": []
  }
 ],
 "metadata": {
  "kernelspec": {
   "display_name": "Python 3 (ipykernel)",
   "language": "python",
   "name": "python3"
  },
  "language_info": {
   "codemirror_mode": {
    "name": "ipython",
    "version": 3
   },
   "file_extension": ".py",
   "mimetype": "text/x-python",
   "name": "python",
   "nbconvert_exporter": "python",
   "pygments_lexer": "ipython3",
   "version": "3.12.9"
  }
 },
 "nbformat": 4,
 "nbformat_minor": 5
}
