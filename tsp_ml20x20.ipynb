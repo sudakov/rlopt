{
 "cells": [
  {
   "cell_type": "markdown",
   "id": "e0b76303-0641-468a-94b2-2b1414759fce",
   "metadata": {},
   "source": [
    "# Обучение с учителем для решения задач коммивояжера\n"
   ]
  },
  {
   "cell_type": "code",
   "execution_count": 1,
   "id": "3ae68ec8-1737-4490-ae49-1139d3c815e6",
   "metadata": {},
   "outputs": [],
   "source": [
    "import os\n",
    "os.environ['TF_CPP_MIN_LOG_LEVEL'] = '2'  # Скрывает INFO-логи (оставляет WARNING и ERROR)\n",
    "import logging\n",
    "logging.getLogger('tensorflow').setLevel(logging.ERROR)\n",
    "import absl.logging\n",
    "absl.logging.set_verbosity(absl.logging.ERROR)\n",
    "import tensorflow as tf\n",
    "tf.get_logger().setLevel('ERROR')  # Скрывает большинство логов TensorFlow\n"
   ]
  },
  {
   "cell_type": "code",
   "execution_count": 2,
   "id": "58cef161-e45d-43f9-8a3e-8b407265b3f7",
   "metadata": {},
   "outputs": [],
   "source": [
    "import numpy as np\n",
    "from tensorflow.keras.layers import Input, Dense, LayerNormalization\n",
    "from tensorflow.keras.models import Model\n",
    "from tensorflow.keras.optimizers import Adam\n",
    "from tensorflow.keras import backend as K\n",
    "from tqdm import tqdm\n",
    "from python_tsp.exact import solve_tsp_dynamic_programming, solve_tsp_branch_and_bound\n",
    "from python_tsp.heuristics import solve_tsp_local_search, solve_tsp_simulated_annealing\n",
    "from python_tsp.heuristics import solve_tsp_lin_kernighan, solve_tsp_record_to_record\n",
    "from sklearn.metrics import mean_absolute_percentage_error"
   ]
  },
  {
   "cell_type": "markdown",
   "id": "374ecaac-3813-49bb-9ce1-cbae15403042",
   "metadata": {},
   "source": [
    "### Модель предсказывает какие дуги входят в маршрут, но не их последовательность"
   ]
  },
  {
   "cell_type": "code",
   "execution_count": 3,
   "id": "2431ebc5-3df5-48c8-b68c-713e2eebb9e5",
   "metadata": {
    "editable": true,
    "jupyter": {
     "source_hidden": true
    },
    "slideshow": {
     "slide_type": ""
    },
    "tags": []
   },
   "outputs": [],
   "source": [
    "class TSPSolver:\n",
    "    def __init__(self, num_cities, hidden_dim=256):\n",
    "        self.num_cities = num_cities\n",
    "        self.hidden_dim = hidden_dim\n",
    "        self.model = self._build_model()\n",
    "    \n",
    "    def _build_model(self):\n",
    "        # Вход: матрица расстояний (batch, cities, cities)\n",
    "        inputs = Input(shape=(self.num_cities, self.num_cities))\n",
    "        \n",
    "        # Кодировщик на основе полносвязных слоев\n",
    "        x = Dense(self.hidden_dim, activation='relu')(inputs)\n",
    "        x = LayerNormalization()(x)\n",
    "        x = Dense(self.hidden_dim, activation='relu')(x)\n",
    "        x = LayerNormalization()(x)\n",
    "\n",
    "        x = Dense(self.hidden_dim, activation='relu')(x)\n",
    "        x = LayerNormalization()(x)\n",
    "        \n",
    "        # Выходной слой - вероятности переходов\n",
    "        logits = Dense(self.num_cities)(x)\n",
    "        outputs = tf.keras.activations.softmax(logits)\n",
    "        \n",
    "        model = Model(inputs=inputs, outputs=outputs)\n",
    "        model.compile(optimizer=Adam(0.001), loss=self._custom_loss)\n",
    "        return model\n",
    "    \n",
    "    def _custom_loss(self, y_true, y_pred):\n",
    "        # y_true: маска посещенных городов (batch, cities, cities)\n",
    "        # y_pred: вероятности переходов (batch, cities, cities)\n",
    "        \n",
    "        # Применяем маску к предсказаниям\n",
    "        masked_pred = y_pred * y_true\n",
    "        \n",
    "        # Нормализуем вероятности\n",
    "        masked_pred = masked_pred / (K.sum(masked_pred, axis=-1, keepdims=True) + K.epsilon())\n",
    "        \n",
    "        # Вычисляем кросс-энтропию\n",
    "        loss = -K.sum(y_true * K.log(masked_pred + K.epsilon()), axis=-1)\n",
    "        return K.mean(loss)\n",
    "    \n",
    "    def train(self, X_train, routes, epochs=50, batch_size=128):\n",
    "        \"\"\"\n",
    "        X_train: матрицы расстояний (samples, cities, cities)\n",
    "        routes: оптимальные маршруты (samples, cities)\n",
    "        \"\"\"\n",
    "        # Создаем маски переходов для обучения\n",
    "        y_masks = np.zeros_like(X_train)\n",
    "        \n",
    "        for i, route in enumerate(routes):\n",
    "            for j in range(len(route)-1):\n",
    "                from_city = route[j]\n",
    "                to_city = route[j+1]\n",
    "                y_masks[i, from_city, to_city] = 1\n",
    "        \n",
    "        self.model.fit(\n",
    "            X_train,\n",
    "            y_masks,\n",
    "            epochs=epochs,\n",
    "            batch_size=batch_size,\n",
    "            validation_split=0.1\n",
    "        )"
   ]
  },
  {
   "cell_type": "code",
   "execution_count": 4,
   "id": "a65f130e-800f-4d72-87da-b3100843220a",
   "metadata": {},
   "outputs": [
    {
     "name": "stdout",
     "output_type": "stream",
     "text": [
      "[PhysicalDevice(name='/physical_device:GPU:0', device_type='GPU')]\n"
     ]
    }
   ],
   "source": [
    "print(tf.config.list_physical_devices('GPU'))"
   ]
  },
  {
   "cell_type": "markdown",
   "id": "e55d57fd-4da0-4a2b-ae67-8b99ecd3a419",
   "metadata": {},
   "source": [
    "### Подготовка исходных данных "
   ]
  },
  {
   "cell_type": "code",
   "execution_count": 5,
   "id": "d69cb6ae-d699-4036-942e-5abee4a31725",
   "metadata": {},
   "outputs": [],
   "source": [
    "X = np.load('X_20x20_fixed.npy')\n",
    "Y = np.load('Y_20x20_fixed.npy')\n",
    "\n",
    "border = 60000\n",
    "X_train = X[:border]\n",
    "Y_train = Y[:border]\n",
    "X_test = X[border:]\n",
    "Y_test = Y[border:]"
   ]
  },
  {
   "cell_type": "code",
   "execution_count": 6,
   "id": "2d54ab64-1ceb-41d2-8d10-85f4c7ac797c",
   "metadata": {},
   "outputs": [],
   "source": [
    "# normalize the dataset\n",
    "# already\n",
    "#X_train = X_train/X_train.max(axis=(1,2))[:,np.newaxis,np.newaxis]\n",
    "#X_test = X_test/X_test.max(axis=(1,2))[:,np.newaxis,np.newaxis]"
   ]
  },
  {
   "cell_type": "code",
   "execution_count": 7,
   "id": "4df6d68d-af3b-4bb4-ae30-f03fe064820a",
   "metadata": {},
   "outputs": [
    {
     "data": {
      "text/plain": [
       "(20, 60000)"
      ]
     },
     "execution_count": 7,
     "metadata": {},
     "output_type": "execute_result"
    }
   ],
   "source": [
    "N = X_train.shape[1]\n",
    "nlen = N*N\n",
    "cnt = X_train.shape[0]\n",
    "rand = np.random.RandomState(1)\n",
    "N, cnt"
   ]
  },
  {
   "cell_type": "markdown",
   "id": "8819257c-10db-429e-8256-d6a0f0a12f14",
   "metadata": {},
   "source": [
    "### Инициализируем и обучаем модель"
   ]
  },
  {
   "cell_type": "code",
   "execution_count": 8,
   "id": "203e797d-0656-447f-8232-51506e904c6b",
   "metadata": {
    "scrolled": true
   },
   "outputs": [
    {
     "name": "stderr",
     "output_type": "stream",
     "text": [
      "WARNING: All log messages before absl::InitializeLog() is called are written to STDERR\n",
      "I0000 00:00:1746190532.309612 8773131 pluggable_device_factory.cc:305] Could not identify NUMA node of platform GPU ID 0, defaulting to 0. Your kernel may not have been built with NUMA support.\n",
      "I0000 00:00:1746190532.309669 8773131 pluggable_device_factory.cc:271] Created TensorFlow device (/job:localhost/replica:0/task:0/device:GPU:0 with 0 MB memory) -> physical PluggableDevice (device: 0, name: METAL, pci bus id: <undefined>)\n"
     ]
    },
    {
     "name": "stdout",
     "output_type": "stream",
     "text": [
      "Epoch 1/50\n",
      "\u001b[1m422/422\u001b[0m \u001b[32m━━━━━━━━━━━━━━━━━━━━\u001b[0m\u001b[37m\u001b[0m \u001b[1m12s\u001b[0m 18ms/step - loss: 2.0737e-06 - val_loss: 1.4188e-06\n",
      "Epoch 2/50\n",
      "\u001b[1m422/422\u001b[0m \u001b[32m━━━━━━━━━━━━━━━━━━━━\u001b[0m\u001b[37m\u001b[0m \u001b[1m7s\u001b[0m 17ms/step - loss: 1.3222e-06 - val_loss: 1.1706e-06\n",
      "Epoch 3/50\n",
      "\u001b[1m422/422\u001b[0m \u001b[32m━━━━━━━━━━━━━━━━━━━━\u001b[0m\u001b[37m\u001b[0m \u001b[1m7s\u001b[0m 17ms/step - loss: 1.1598e-06 - val_loss: 1.1506e-06\n",
      "Epoch 4/50\n",
      "\u001b[1m422/422\u001b[0m \u001b[32m━━━━━━━━━━━━━━━━━━━━\u001b[0m\u001b[37m\u001b[0m \u001b[1m7s\u001b[0m 17ms/step - loss: 1.1482e-06 - val_loss: 1.1492e-06\n",
      "Epoch 5/50\n",
      "\u001b[1m422/422\u001b[0m \u001b[32m━━━━━━━━━━━━━━━━━━━━\u001b[0m\u001b[37m\u001b[0m \u001b[1m7s\u001b[0m 17ms/step - loss: 1.1473e-06 - val_loss: 1.1498e-06\n",
      "Epoch 6/50\n",
      "\u001b[1m422/422\u001b[0m \u001b[32m━━━━━━━━━━━━━━━━━━━━\u001b[0m\u001b[37m\u001b[0m \u001b[1m7s\u001b[0m 17ms/step - loss: 1.1478e-06 - val_loss: 1.1503e-06\n",
      "Epoch 7/50\n",
      "\u001b[1m422/422\u001b[0m \u001b[32m━━━━━━━━━━━━━━━━━━━━\u001b[0m\u001b[37m\u001b[0m \u001b[1m7s\u001b[0m 17ms/step - loss: 1.1486e-06 - val_loss: 1.1505e-06\n",
      "Epoch 8/50\n",
      "\u001b[1m422/422\u001b[0m \u001b[32m━━━━━━━━━━━━━━━━━━━━\u001b[0m\u001b[37m\u001b[0m \u001b[1m7s\u001b[0m 17ms/step - loss: 1.1487e-06 - val_loss: 1.1512e-06\n",
      "Epoch 9/50\n",
      "\u001b[1m422/422\u001b[0m \u001b[32m━━━━━━━━━━━━━━━━━━━━\u001b[0m\u001b[37m\u001b[0m \u001b[1m7s\u001b[0m 17ms/step - loss: 1.1495e-06 - val_loss: 1.1515e-06\n",
      "Epoch 10/50\n",
      "\u001b[1m422/422\u001b[0m \u001b[32m━━━━━━━━━━━━━━━━━━━━\u001b[0m\u001b[37m\u001b[0m \u001b[1m7s\u001b[0m 17ms/step - loss: 1.1506e-06 - val_loss: 1.1526e-06\n",
      "Epoch 11/50\n",
      "\u001b[1m422/422\u001b[0m \u001b[32m━━━━━━━━━━━━━━━━━━━━\u001b[0m\u001b[37m\u001b[0m \u001b[1m7s\u001b[0m 17ms/step - loss: 1.1512e-06 - val_loss: 1.1532e-06\n",
      "Epoch 12/50\n",
      "\u001b[1m422/422\u001b[0m \u001b[32m━━━━━━━━━━━━━━━━━━━━\u001b[0m\u001b[37m\u001b[0m \u001b[1m7s\u001b[0m 17ms/step - loss: 1.1518e-06 - val_loss: 1.1539e-06\n",
      "Epoch 13/50\n",
      "\u001b[1m422/422\u001b[0m \u001b[32m━━━━━━━━━━━━━━━━━━━━\u001b[0m\u001b[37m\u001b[0m \u001b[1m7s\u001b[0m 17ms/step - loss: 1.1527e-06 - val_loss: 1.1543e-06\n",
      "Epoch 14/50\n",
      "\u001b[1m422/422\u001b[0m \u001b[32m━━━━━━━━━━━━━━━━━━━━\u001b[0m\u001b[37m\u001b[0m \u001b[1m7s\u001b[0m 17ms/step - loss: 1.1524e-06 - val_loss: 1.1547e-06\n",
      "Epoch 15/50\n",
      "\u001b[1m422/422\u001b[0m \u001b[32m━━━━━━━━━━━━━━━━━━━━\u001b[0m\u001b[37m\u001b[0m \u001b[1m7s\u001b[0m 17ms/step - loss: 1.1537e-06 - val_loss: 1.1552e-06\n",
      "Epoch 16/50\n",
      "\u001b[1m422/422\u001b[0m \u001b[32m━━━━━━━━━━━━━━━━━━━━\u001b[0m\u001b[37m\u001b[0m \u001b[1m7s\u001b[0m 17ms/step - loss: 1.1544e-06 - val_loss: 1.1553e-06\n",
      "Epoch 17/50\n",
      "\u001b[1m422/422\u001b[0m \u001b[32m━━━━━━━━━━━━━━━━━━━━\u001b[0m\u001b[37m\u001b[0m \u001b[1m7s\u001b[0m 17ms/step - loss: 1.1539e-06 - val_loss: 1.1556e-06\n",
      "Epoch 18/50\n",
      "\u001b[1m422/422\u001b[0m \u001b[32m━━━━━━━━━━━━━━━━━━━━\u001b[0m\u001b[37m\u001b[0m \u001b[1m7s\u001b[0m 17ms/step - loss: 1.1537e-06 - val_loss: 1.1558e-06\n",
      "Epoch 19/50\n",
      "\u001b[1m422/422\u001b[0m \u001b[32m━━━━━━━━━━━━━━━━━━━━\u001b[0m\u001b[37m\u001b[0m \u001b[1m7s\u001b[0m 17ms/step - loss: 1.1540e-06 - val_loss: 1.1559e-06\n",
      "Epoch 20/50\n",
      "\u001b[1m422/422\u001b[0m \u001b[32m━━━━━━━━━━━━━━━━━━━━\u001b[0m\u001b[37m\u001b[0m \u001b[1m7s\u001b[0m 17ms/step - loss: 1.1550e-06 - val_loss: 1.1559e-06\n",
      "Epoch 21/50\n",
      "\u001b[1m422/422\u001b[0m \u001b[32m━━━━━━━━━━━━━━━━━━━━\u001b[0m\u001b[37m\u001b[0m \u001b[1m7s\u001b[0m 17ms/step - loss: 1.1543e-06 - val_loss: 1.1559e-06\n",
      "Epoch 22/50\n",
      "\u001b[1m422/422\u001b[0m \u001b[32m━━━━━━━━━━━━━━━━━━━━\u001b[0m\u001b[37m\u001b[0m \u001b[1m7s\u001b[0m 18ms/step - loss: 1.1545e-06 - val_loss: 1.1556e-06\n",
      "Epoch 23/50\n",
      "\u001b[1m422/422\u001b[0m \u001b[32m━━━━━━━━━━━━━━━━━━━━\u001b[0m\u001b[37m\u001b[0m \u001b[1m7s\u001b[0m 17ms/step - loss: 1.1536e-06 - val_loss: 1.1553e-06\n",
      "Epoch 24/50\n",
      "\u001b[1m422/422\u001b[0m \u001b[32m━━━━━━━━━━━━━━━━━━━━\u001b[0m\u001b[37m\u001b[0m \u001b[1m7s\u001b[0m 18ms/step - loss: 1.1537e-06 - val_loss: 1.1550e-06\n",
      "Epoch 25/50\n",
      "\u001b[1m422/422\u001b[0m \u001b[32m━━━━━━━━━━━━━━━━━━━━\u001b[0m\u001b[37m\u001b[0m \u001b[1m7s\u001b[0m 17ms/step - loss: 1.1536e-06 - val_loss: 1.1548e-06\n",
      "Epoch 26/50\n",
      "\u001b[1m422/422\u001b[0m \u001b[32m━━━━━━━━━━━━━━━━━━━━\u001b[0m\u001b[37m\u001b[0m \u001b[1m7s\u001b[0m 17ms/step - loss: 1.1536e-06 - val_loss: 1.1545e-06\n",
      "Epoch 27/50\n",
      "\u001b[1m422/422\u001b[0m \u001b[32m━━━━━━━━━━━━━━━━━━━━\u001b[0m\u001b[37m\u001b[0m \u001b[1m7s\u001b[0m 18ms/step - loss: 1.1533e-06 - val_loss: 1.1543e-06\n",
      "Epoch 28/50\n",
      "\u001b[1m422/422\u001b[0m \u001b[32m━━━━━━━━━━━━━━━━━━━━\u001b[0m\u001b[37m\u001b[0m \u001b[1m7s\u001b[0m 17ms/step - loss: 1.1535e-06 - val_loss: 1.1538e-06\n",
      "Epoch 29/50\n",
      "\u001b[1m422/422\u001b[0m \u001b[32m━━━━━━━━━━━━━━━━━━━━\u001b[0m\u001b[37m\u001b[0m \u001b[1m7s\u001b[0m 17ms/step - loss: 1.1525e-06 - val_loss: 1.1536e-06\n",
      "Epoch 30/50\n",
      "\u001b[1m422/422\u001b[0m \u001b[32m━━━━━━━━━━━━━━━━━━━━\u001b[0m\u001b[37m\u001b[0m \u001b[1m7s\u001b[0m 17ms/step - loss: 1.1519e-06 - val_loss: 1.1533e-06\n",
      "Epoch 31/50\n",
      "\u001b[1m422/422\u001b[0m \u001b[32m━━━━━━━━━━━━━━━━━━━━\u001b[0m\u001b[37m\u001b[0m \u001b[1m7s\u001b[0m 17ms/step - loss: 1.1519e-06 - val_loss: 1.1530e-06\n",
      "Epoch 32/50\n",
      "\u001b[1m422/422\u001b[0m \u001b[32m━━━━━━━━━━━━━━━━━━━━\u001b[0m\u001b[37m\u001b[0m \u001b[1m7s\u001b[0m 18ms/step - loss: 1.1516e-06 - val_loss: 1.1528e-06\n",
      "Epoch 33/50\n",
      "\u001b[1m422/422\u001b[0m \u001b[32m━━━━━━━━━━━━━━━━━━━━\u001b[0m\u001b[37m\u001b[0m \u001b[1m7s\u001b[0m 18ms/step - loss: 1.1514e-06 - val_loss: 1.1526e-06\n",
      "Epoch 34/50\n",
      "\u001b[1m422/422\u001b[0m \u001b[32m━━━━━━━━━━━━━━━━━━━━\u001b[0m\u001b[37m\u001b[0m \u001b[1m7s\u001b[0m 18ms/step - loss: 1.1511e-06 - val_loss: 1.1523e-06\n",
      "Epoch 35/50\n",
      "\u001b[1m422/422\u001b[0m \u001b[32m━━━━━━━━━━━━━━━━━━━━\u001b[0m\u001b[37m\u001b[0m \u001b[1m7s\u001b[0m 18ms/step - loss: 1.1508e-06 - val_loss: 1.1519e-06\n",
      "Epoch 36/50\n",
      "\u001b[1m422/422\u001b[0m \u001b[32m━━━━━━━━━━━━━━━━━━━━\u001b[0m\u001b[37m\u001b[0m \u001b[1m7s\u001b[0m 18ms/step - loss: 1.1505e-06 - val_loss: 1.1518e-06\n",
      "Epoch 37/50\n",
      "\u001b[1m422/422\u001b[0m \u001b[32m━━━━━━━━━━━━━━━━━━━━\u001b[0m\u001b[37m\u001b[0m \u001b[1m8s\u001b[0m 18ms/step - loss: 1.1503e-06 - val_loss: 1.1515e-06\n",
      "Epoch 38/50\n",
      "\u001b[1m422/422\u001b[0m \u001b[32m━━━━━━━━━━━━━━━━━━━━\u001b[0m\u001b[37m\u001b[0m \u001b[1m7s\u001b[0m 18ms/step - loss: 1.1501e-06 - val_loss: 1.1514e-06\n",
      "Epoch 39/50\n",
      "\u001b[1m422/422\u001b[0m \u001b[32m━━━━━━━━━━━━━━━━━━━━\u001b[0m\u001b[37m\u001b[0m \u001b[1m8s\u001b[0m 18ms/step - loss: 1.1501e-06 - val_loss: 1.1513e-06\n",
      "Epoch 40/50\n",
      "\u001b[1m422/422\u001b[0m \u001b[32m━━━━━━━━━━━━━━━━━━━━\u001b[0m\u001b[37m\u001b[0m \u001b[1m7s\u001b[0m 18ms/step - loss: 1.1503e-06 - val_loss: 1.1510e-06\n",
      "Epoch 41/50\n",
      "\u001b[1m422/422\u001b[0m \u001b[32m━━━━━━━━━━━━━━━━━━━━\u001b[0m\u001b[37m\u001b[0m \u001b[1m8s\u001b[0m 18ms/step - loss: 1.1501e-06 - val_loss: 1.1510e-06\n",
      "Epoch 42/50\n",
      "\u001b[1m422/422\u001b[0m \u001b[32m━━━━━━━━━━━━━━━━━━━━\u001b[0m\u001b[37m\u001b[0m \u001b[1m8s\u001b[0m 18ms/step - loss: 1.1491e-06 - val_loss: 1.1510e-06\n",
      "Epoch 43/50\n",
      "\u001b[1m422/422\u001b[0m \u001b[32m━━━━━━━━━━━━━━━━━━━━\u001b[0m\u001b[37m\u001b[0m \u001b[1m8s\u001b[0m 18ms/step - loss: 1.1496e-06 - val_loss: 1.1508e-06\n",
      "Epoch 44/50\n",
      "\u001b[1m422/422\u001b[0m \u001b[32m━━━━━━━━━━━━━━━━━━━━\u001b[0m\u001b[37m\u001b[0m \u001b[1m8s\u001b[0m 18ms/step - loss: 1.1494e-06 - val_loss: 1.1509e-06\n",
      "Epoch 45/50\n",
      "\u001b[1m422/422\u001b[0m \u001b[32m━━━━━━━━━━━━━━━━━━━━\u001b[0m\u001b[37m\u001b[0m \u001b[1m8s\u001b[0m 18ms/step - loss: 1.1497e-06 - val_loss: 1.1508e-06\n",
      "Epoch 46/50\n",
      "\u001b[1m422/422\u001b[0m \u001b[32m━━━━━━━━━━━━━━━━━━━━\u001b[0m\u001b[37m\u001b[0m \u001b[1m8s\u001b[0m 18ms/step - loss: 1.1494e-06 - val_loss: 1.1509e-06\n",
      "Epoch 47/50\n",
      "\u001b[1m422/422\u001b[0m \u001b[32m━━━━━━━━━━━━━━━━━━━━\u001b[0m\u001b[37m\u001b[0m \u001b[1m8s\u001b[0m 18ms/step - loss: 1.1502e-06 - val_loss: 1.1510e-06\n",
      "Epoch 48/50\n",
      "\u001b[1m422/422\u001b[0m \u001b[32m━━━━━━━━━━━━━━━━━━━━\u001b[0m\u001b[37m\u001b[0m \u001b[1m8s\u001b[0m 18ms/step - loss: 1.1496e-06 - val_loss: 1.1510e-06\n",
      "Epoch 49/50\n",
      "\u001b[1m422/422\u001b[0m \u001b[32m━━━━━━━━━━━━━━━━━━━━\u001b[0m\u001b[37m\u001b[0m \u001b[1m8s\u001b[0m 18ms/step - loss: 1.1501e-06 - val_loss: 1.1511e-06\n",
      "Epoch 50/50\n",
      "\u001b[1m422/422\u001b[0m \u001b[32m━━━━━━━━━━━━━━━━━━━━\u001b[0m\u001b[37m\u001b[0m \u001b[1m8s\u001b[0m 18ms/step - loss: 1.1504e-06 - val_loss: 1.1513e-06\n"
     ]
    }
   ],
   "source": [
    "solver = TSPSolver(num_cities=N)\n",
    "solver.train(X_train, Y_train, epochs=50)\n",
    "#solver.model.load_weights('./my.weights.h5')"
   ]
  },
  {
   "cell_type": "code",
   "execution_count": 10,
   "id": "62d163f6-4665-4bd4-8314-8f1adcff6ce4",
   "metadata": {},
   "outputs": [],
   "source": [
    "#solver.model.save_weights('./my_mac.weights.h5')\n"
   ]
  },
  {
   "cell_type": "markdown",
   "id": "9e54e75b-d252-47e7-85b9-12b19b07673a",
   "metadata": {},
   "source": [
    "### Проверка обученной модели"
   ]
  },
  {
   "cell_type": "code",
   "execution_count": null,
   "id": "1ace715c-70d6-4fdd-ae43-2c3161e2aa5a",
   "metadata": {
    "jupyter": {
     "source_hidden": true
    }
   },
   "outputs": [],
   "source": [
    "def predict_route(solver, dist_matrix, is_rnd = False, num_iter = 500):\n",
    "    ap = solver.model(distance_matrix[np.newaxis, ...], training=False)[0].numpy()\n",
    "    num_cities = dist_matrix.shape[0]\n",
    "    best_route = []\n",
    "    best_dist = np.inf\n",
    "    for _ in range(num_iter):\n",
    "        current = 0\n",
    "        route = [current]\n",
    "        total_dist = 0\n",
    "        for _ in range(num_cities-1):\n",
    "            probs = ap[current].copy()\n",
    "            if is_rnd: probs = np.full_like(probs, 1) \n",
    "            # Маскируем посещенные города\n",
    "            probs[route] = 0\n",
    "            # Выбираем следующий город\n",
    "            next_city = rand.choice(range(num_cities), p=(probs / np.sum(probs)))\n",
    "            route.append(next_city)\n",
    "            total_dist += dist_matrix[current, next_city]\n",
    "            current = next_city\n",
    "        total_dist += dist_matrix[route[-1], route[0]]\n",
    "        if total_dist < best_dist:\n",
    "            best_dist = total_dist\n",
    "            best_route = route\n",
    "    return np.array(best_route), best_dist"
   ]
  },
  {
   "cell_type": "code",
   "execution_count": null,
   "id": "ccbb483f-f33a-4802-aba9-618090ae7034",
   "metadata": {
    "jupyter": {
     "source_hidden": true
    }
   },
   "outputs": [],
   "source": [
    "def predict_geedy_route(dist_matrix):\n",
    "    num_cities = dist_matrix.shape[0]\n",
    "    current = 0\n",
    "    route = [current]\n",
    "    next_city = np.argmax(dist_matrix[current])\n",
    "    route.append(next_city)\n",
    "    total_dist = dist_matrix[current, next_city]\n",
    "    current = next_city\n",
    "    for _ in range(num_cities-2):\n",
    "        a = dist_matrix[current].copy()\n",
    "        # Маскируем посещенные города\n",
    "        a[route] = np.inf\n",
    "        # Выбираем следующий город\n",
    "        next_city = np.argmin(a)\n",
    "        route.append(next_city)\n",
    "        total_dist += dist_matrix[current, next_city]\n",
    "        current = next_city\n",
    "    total_dist += dist_matrix[route[-1], route[0]]\n",
    "    return np.array(route), total_dist"
   ]
  },
  {
   "cell_type": "code",
   "execution_count": 11,
   "id": "35e3caef-5686-4b9a-ae45-64b4c032f4e1",
   "metadata": {},
   "outputs": [],
   "source": [
    "def predict_beam_search(solver, distance_matrix, beam_width=3):\n",
    "    ap = solver.model(distance_matrix[np.newaxis, ...], training=False)[0].numpy() # solver.model.predict(distance_matrix[np.newaxis, ...], verbose=0)[0]\n",
    "    num_cities = distance_matrix.shape[0]\n",
    "    beams = [([0], set(range(0, num_cities)) - {0}, 0)]\n",
    "    \n",
    "    for i in range(1, num_cities):\n",
    "        new_beams = []\n",
    "        for route, remaining, dist in beams:\n",
    "            # Топ-K городов \n",
    "            top_cities = sorted(remaining, key=lambda x: ap[route[-1],x], reverse=True)[:beam_width]\n",
    "            for city in top_cities:\n",
    "                new_route = route + [city]\n",
    "                if next((x for x in new_beams if x[0] == new_route), False):\n",
    "                    print(new_beams)\n",
    "                    print(route)\n",
    "                    print('-'*20)\n",
    "                    continue\n",
    "                new_remaining = remaining - {city}\n",
    "                new_dist = dist + distance_matrix[new_route[-2], new_route[-1]]\n",
    "                if i == num_cities-1:\n",
    "                    new_dist += distance_matrix[new_route[-1], new_route[0]]\n",
    "                new_beams.append((new_route, new_remaining, new_dist))\n",
    "        # Выбираем лучшие beam_width вариантов\n",
    "        beams = sorted(new_beams, key=lambda x: x[2])[:beam_width]\n",
    "        \n",
    "    # Лучший маршрут\n",
    "    best_route, _, best_dist = min(beams, key=lambda x: x[2])\n",
    "    return best_route, best_dist"
   ]
  },
  {
   "cell_type": "code",
   "execution_count": 12,
   "id": "24b74467-17e5-44e2-8948-59f8a4c57e2f",
   "metadata": {},
   "outputs": [
    {
     "name": "stderr",
     "output_type": "stream",
     "text": [
      "100%|██████████████████████████████████████| 3000/3000 [00:18<00:00, 162.76it/s]\n"
     ]
    }
   ],
   "source": [
    "ld = []\n",
    "lp = []\n",
    "lg = []\n",
    "lr = []\n",
    "lb = []\n",
    "lls = []\n",
    "lsa = []\n",
    "for i in tqdm(range(X_test.shape[0])):\n",
    "    a = X_test[i]\n",
    "    route = Y_test[i]\n",
    "    distance = sum(a[route[j],route[j+1]] for j in range(N-1))+a[route[-1],route[0]]\n",
    "    #_, total_dist = predict_route(solver, a, False, 500)\n",
    "    #route, dist = predict_geedy_route(a)\n",
    "    #route, rdist = predict_route(solver, a, True, 500)\n",
    "    _, bdist = predict_beam_search(solver, a, beam_width=4)\n",
    "    #_, ls_dist = solve_tsp_local_search(a)\n",
    "    #_, sa_dist = solve_tsp_simulated_annealing(a)\n",
    "    ld.append(distance)\n",
    "    #lp.append(total_dist)\n",
    "    #lg.append(dist)\n",
    "    #lr.append(rdist)\n",
    "    lb.append(bdist)\n",
    "    #lls.append(ls_dist)\n",
    "    #lsa.append(sa_dist)\n",
    "    \n",
    "#Y_predict = np.array(lp)\n",
    "Y_true = np.array(ld)\n",
    "#Y_greedy = np.array(lg)\n",
    "#Y_rnd = np.array(lr)\n",
    "Y_beam = np.array(lb)\n",
    "#Y_ls = np.array(lls)\n",
    "#Y_sa = np.array(lsa)"
   ]
  },
  {
   "cell_type": "code",
   "execution_count": 13,
   "id": "71f20ce5-7641-4f84-8079-a407ea5a2fdb",
   "metadata": {},
   "outputs": [
    {
     "data": {
      "text/plain": [
       "0.15976604206119646"
      ]
     },
     "execution_count": 13,
     "metadata": {},
     "output_type": "execute_result"
    }
   ],
   "source": [
    "#mean_absolute_percentage_error(Y_true, Y_predict), \\\n",
    "mean_absolute_percentage_error(Y_true, Y_beam) #, \\\n",
    "#mean_absolute_percentage_error(Y_true, Y_greedy), \\\n",
    "#mean_absolute_percentage_error(Y_true, Y_rnd), \\\n",
    "#mean_absolute_percentage_error(Y_true, Y_ls), \\\n",
    "#mean_absolute_percentage_error(Y_true, Y_sa)"
   ]
  },
  {
   "cell_type": "code",
   "execution_count": 14,
   "id": "25a2cd21-dc07-4901-96d9-a773d3272aa4",
   "metadata": {},
   "outputs": [
    {
     "data": {
      "text/plain": [
       "np.int64(129)"
      ]
     },
     "execution_count": 14,
     "metadata": {},
     "output_type": "execute_result"
    }
   ],
   "source": [
    "# Сколько случаев действительно плохого прогноза\n",
    "#sum(((Y_predict - Y_true) / Y_true) > 0.2), \\\n",
    "sum(((Y_beam - Y_true) / Y_true) > 0.25) #, \\\n",
    "#sum(((Y_greedy - Y_true) / Y_true) > 0.2), \\\n",
    "#sum(((Y_rnd - Y_true) / Y_true) > 0.2), \\\n",
    "#sum(((Y_ls - Y_true) / Y_true) > 0.2), \\\n",
    "#sum(((Y_sa - Y_true) / Y_true) > 0.2)"
   ]
  },
  {
   "cell_type": "code",
   "execution_count": null,
   "id": "a19c42d3-6a57-41f4-952d-84d770f29da9",
   "metadata": {},
   "outputs": [],
   "source": [
    "%timeit predict_beam_search(solver, a, beam_width=4)"
   ]
  },
  {
   "cell_type": "code",
   "execution_count": null,
   "id": "c1c70e7e-8c11-464e-be47-2bfc51640c3a",
   "metadata": {},
   "outputs": [],
   "source": [
    "%timeit predict_geedy_route(a)"
   ]
  },
  {
   "cell_type": "code",
   "execution_count": null,
   "id": "58ba83b6-4aa1-402e-9bc2-69df8c20f20a",
   "metadata": {},
   "outputs": [],
   "source": [
    "%timeit predict_route(solver, a, False, 500)"
   ]
  },
  {
   "cell_type": "code",
   "execution_count": null,
   "id": "fa8e82b1-0f8d-47d8-89fe-2817f73866af",
   "metadata": {},
   "outputs": [],
   "source": [
    "%timeit solve_tsp_dynamic_programming(a)"
   ]
  },
  {
   "cell_type": "code",
   "execution_count": null,
   "id": "89c149d9-dbb1-4f73-a667-1138709614af",
   "metadata": {},
   "outputs": [],
   "source": [
    "%timeit solve_tsp_branch_and_bound(a)"
   ]
  },
  {
   "cell_type": "code",
   "execution_count": null,
   "id": "1107a9b3-c5aa-4226-b2c8-61b68f2948ba",
   "metadata": {},
   "outputs": [],
   "source": [
    "%timeit solve_tsp_local_search(a)"
   ]
  },
  {
   "cell_type": "code",
   "execution_count": null,
   "id": "db205318-629b-40e8-9d10-47b8e5b81488",
   "metadata": {},
   "outputs": [],
   "source": [
    "%timeit solve_tsp_simulated_annealing(a)"
   ]
  },
  {
   "cell_type": "code",
   "execution_count": null,
   "id": "d2f36e6a-0bf1-4054-8807-5417225975ee",
   "metadata": {},
   "outputs": [],
   "source": []
  },
  {
   "cell_type": "code",
   "execution_count": null,
   "id": "a4e3cb63-d9f5-443e-baed-b681b527c610",
   "metadata": {},
   "outputs": [],
   "source": []
  },
  {
   "cell_type": "code",
   "execution_count": null,
   "id": "9c9c936d-230e-4ed3-9c55-731878fba693",
   "metadata": {},
   "outputs": [],
   "source": []
  }
 ],
 "metadata": {
  "kernelspec": {
   "display_name": "Python 3 (ipykernel)",
   "language": "python",
   "name": "python3"
  },
  "language_info": {
   "codemirror_mode": {
    "name": "ipython",
    "version": 3
   },
   "file_extension": ".py",
   "mimetype": "text/x-python",
   "name": "python",
   "nbconvert_exporter": "python",
   "pygments_lexer": "ipython3",
   "version": "3.12.9"
  }
 },
 "nbformat": 4,
 "nbformat_minor": 5
}
