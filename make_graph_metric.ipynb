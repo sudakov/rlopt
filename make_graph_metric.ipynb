{
 "cells": [
  {
   "cell_type": "code",
   "execution_count": 30,
   "id": "7ddc76fa-f0ea-4b32-b6ac-540c3f5654bf",
   "metadata": {},
   "outputs": [],
   "source": [
    "import networkx as nx\n",
    "import numpy as np\n",
    "import matplotlib.pyplot as plt\n",
    "from tqdm import tqdm"
   ]
  },
  {
   "cell_type": "code",
   "execution_count": 64,
   "id": "954c9024-ec69-467c-aab1-b73e0550fa02",
   "metadata": {},
   "outputs": [],
   "source": [
    "X = np.abs(np.load('X_20x20.npy'))"
   ]
  },
  {
   "cell_type": "code",
   "execution_count": 6,
   "id": "6696d5fe-c02f-49f3-a5fe-d985297748c3",
   "metadata": {},
   "outputs": [],
   "source": [
    "#G = nx.from_numpy_matrix(np.matrix(X[0]), create_using=nx.DiGraph)"
   ]
  },
  {
   "cell_type": "code",
   "execution_count": null,
   "id": "4dffb0f3-449a-45e4-8817-689baacb1052",
   "metadata": {},
   "outputs": [],
   "source": [
    "#GS = G.subgraph([0,1,2,3,4])\n",
    "#layout = nx.spring_layout(GS)\n",
    "#nx.draw(GS) # , layout\n",
    "#nx.draw_networkx_edge_labels(GS, pos=layout)\n",
    "#plt.show()"
   ]
  },
  {
   "cell_type": "code",
   "execution_count": 65,
   "id": "eb0b794c-66e5-40f5-a7e1-13bc0a1929e7",
   "metadata": {},
   "outputs": [
    {
     "name": "stderr",
     "output_type": "stream",
     "text": [
      "100%|████████████████████████████████████| 63000/63000 [01:34<00:00, 667.01it/s]\n"
     ]
    }
   ],
   "source": [
    "a = np.zeros_like(X)\n",
    "for i in tqdm(range(X.shape[0])):\n",
    "    G = nx.from_numpy_matrix(np.matrix(X[i]), create_using=nx.DiGraph)\n",
    "    for s, tt in dict(nx.shortest_path_length(G, weight = 'weight')).items():\n",
    "        for t, v in tt.items():\n",
    "            a[i,s,t] = v"
   ]
  },
  {
   "cell_type": "code",
   "execution_count": null,
   "id": "0b8c8839-e2c4-4432-80ff-e7deba9942ea",
   "metadata": {},
   "outputs": [],
   "source": [
    "i = 102\n",
    "G = nx.from_numpy_matrix(np.matrix(X[i]), create_using=nx.DiGraph)\n",
    "G.add_weighted_edges_from([(j, j, 0.0) for j in range(20)])\n",
    "print(nx.is_negatively_weighted(G, weight='weight'))\n",
    "for i in range(20):\n",
    "    for j in range(20): \n",
    "        if G.get_edge_data(i, j)['weight'] < 0:\n",
    "            G.get_edge_data(i, j)['weight'] = abs()\n",
    "            print(i, j, G.get_edge_data(i, j)['weight']) \n",
    "dict(nx.shortest_path_length(G, weight = 'weight'))"
   ]
  },
  {
   "cell_type": "code",
   "execution_count": 79,
   "id": "a694d728-4ac2-443d-aa26-84a9e34485b6",
   "metadata": {},
   "outputs": [],
   "source": [
    "np.save('X_20x20_fixed', a_fix)"
   ]
  },
  {
   "cell_type": "code",
   "execution_count": 78,
   "id": "0643cf79-fe85-42fb-83b7-09b93ec9bdc5",
   "metadata": {},
   "outputs": [],
   "source": [
    "a_fix = a/a.max(axis=(1,2))[:,np.newaxis,np.newaxis]"
   ]
  },
  {
   "cell_type": "code",
   "execution_count": null,
   "id": "a009d1ff-c5d8-472b-bad9-c3965afab674",
   "metadata": {},
   "outputs": [],
   "source": []
  }
 ],
 "metadata": {
  "kernelspec": {
   "display_name": "Python 3 (ipykernel)",
   "language": "python",
   "name": "python3"
  },
  "language_info": {
   "codemirror_mode": {
    "name": "ipython",
    "version": 3
   },
   "file_extension": ".py",
   "mimetype": "text/x-python",
   "name": "python",
   "nbconvert_exporter": "python",
   "pygments_lexer": "ipython3",
   "version": "3.12.9"
  }
 },
 "nbformat": 4,
 "nbformat_minor": 5
}
