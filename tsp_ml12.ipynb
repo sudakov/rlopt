{
 "cells": [
  {
   "cell_type": "markdown",
   "id": "e0b76303-0641-468a-94b2-2b1414759fce",
   "metadata": {},
   "source": [
    "# Обучение с учителем для решения задач коммивояжера\n"
   ]
  },
  {
   "cell_type": "code",
   "execution_count": 1,
   "id": "3ae68ec8-1737-4490-ae49-1139d3c815e6",
   "metadata": {
    "collapsed": true,
    "jupyter": {
     "outputs_hidden": true,
     "source_hidden": true
    }
   },
   "outputs": [
    {
     "name": "stderr",
     "output_type": "stream",
     "text": [
      "2025-04-09 10:24:32.273951: E external/local_xla/xla/stream_executor/cuda/cuda_fft.cc:467] Unable to register cuFFT factory: Attempting to register factory for plugin cuFFT when one has already been registered\n",
      "WARNING: All log messages before absl::InitializeLog() is called are written to STDERR\n",
      "E0000 00:00:1744194272.339325    1632 cuda_dnn.cc:8579] Unable to register cuDNN factory: Attempting to register factory for plugin cuDNN when one has already been registered\n",
      "E0000 00:00:1744194272.354116    1632 cuda_blas.cc:1407] Unable to register cuBLAS factory: Attempting to register factory for plugin cuBLAS when one has already been registered\n",
      "W0000 00:00:1744194272.454527    1632 computation_placer.cc:177] computation placer already registered. Please check linkage and avoid linking the same target more than once.\n",
      "W0000 00:00:1744194272.454541    1632 computation_placer.cc:177] computation placer already registered. Please check linkage and avoid linking the same target more than once.\n",
      "W0000 00:00:1744194272.454543    1632 computation_placer.cc:177] computation placer already registered. Please check linkage and avoid linking the same target more than once.\n",
      "W0000 00:00:1744194272.454545    1632 computation_placer.cc:177] computation placer already registered. Please check linkage and avoid linking the same target more than once.\n",
      "2025-04-09 10:24:32.466628: I tensorflow/core/platform/cpu_feature_guard.cc:210] This TensorFlow binary is optimized to use available CPU instructions in performance-critical operations.\n",
      "To enable the following instructions: AVX2 FMA, in other operations, rebuild TensorFlow with the appropriate compiler flags.\n"
     ]
    }
   ],
   "source": [
    "import os\n",
    "import tensorflow as tf\n",
    "os.environ['TF_CPP_MIN_LOG_LEVEL'] = '2'  # Скрывает INFO-логи (оставляет WARNING и ERROR)\n",
    "tf.get_logger().setLevel('ERROR')  # Скрывает большинство логов TensorFlow\n",
    "import logging\n",
    "logging.getLogger('tensorflow').setLevel(logging.ERROR)\n",
    "\n",
    "import absl.logging\n",
    "absl.logging.set_verbosity(absl.logging.ERROR)"
   ]
  },
  {
   "cell_type": "code",
   "execution_count": 2,
   "id": "58cef161-e45d-43f9-8a3e-8b407265b3f7",
   "metadata": {
    "jupyter": {
     "source_hidden": true
    }
   },
   "outputs": [],
   "source": [
    "import numpy as np\n",
    "from tensorflow.keras.layers import Input, Dense, LayerNormalization\n",
    "from tensorflow.keras.models import Model\n",
    "from tensorflow.keras.optimizers import Adam\n",
    "from tensorflow.keras import backend as K\n",
    "from tqdm import tqdm\n",
    "from python_tsp.exact import solve_tsp_dynamic_programming\n",
    "from sklearn.metrics import mean_absolute_percentage_error"
   ]
  },
  {
   "cell_type": "markdown",
   "id": "374ecaac-3813-49bb-9ce1-cbae15403042",
   "metadata": {},
   "source": [
    "### Модель предсказывает какие дуги входят в маршрут, но не их последовательность"
   ]
  },
  {
   "cell_type": "code",
   "execution_count": 180,
   "id": "2431ebc5-3df5-48c8-b68c-713e2eebb9e5",
   "metadata": {
    "editable": true,
    "jupyter": {
     "source_hidden": true
    },
    "slideshow": {
     "slide_type": ""
    },
    "tags": []
   },
   "outputs": [],
   "source": [
    "class TSPSolver:\n",
    "    def __init__(self, num_cities, hidden_dim=256):\n",
    "        self.num_cities = num_cities\n",
    "        self.hidden_dim = hidden_dim\n",
    "        self.model = self._build_model()\n",
    "    \n",
    "    def _build_model(self):\n",
    "        # Вход: матрица расстояний (batch, cities, cities)\n",
    "        inputs = Input(shape=(self.num_cities, self.num_cities))\n",
    "        \n",
    "        # Кодировщик на основе полносвязных слоев\n",
    "        x = Dense(self.hidden_dim, activation='relu')(inputs)\n",
    "        x = LayerNormalization()(x)\n",
    "        x = Dense(self.hidden_dim, activation='relu')(x)\n",
    "        x = LayerNormalization()(x)\n",
    "\n",
    "        x = Dense(self.hidden_dim, activation='relu')(x)\n",
    "        x = LayerNormalization()(x)\n",
    "        \n",
    "        # Выходной слой - вероятности переходов\n",
    "        logits = Dense(self.num_cities)(x)\n",
    "        outputs = tf.keras.activations.softmax(logits)\n",
    "        \n",
    "        model = Model(inputs=inputs, outputs=outputs)\n",
    "        model.compile(optimizer=Adam(0.001), loss=self._custom_loss)\n",
    "        return model\n",
    "    \n",
    "    def _custom_loss(self, y_true, y_pred):\n",
    "        # y_true: маска посещенных городов (batch, cities, cities)\n",
    "        # y_pred: вероятности переходов (batch, cities, cities)\n",
    "        \n",
    "        # Применяем маску к предсказаниям\n",
    "        masked_pred = y_pred * y_true\n",
    "        \n",
    "        # Нормализуем вероятности\n",
    "        masked_pred = masked_pred / (K.sum(masked_pred, axis=-1, keepdims=True) + K.epsilon())\n",
    "        \n",
    "        # Вычисляем кросс-энтропию\n",
    "        loss = -K.sum(y_true * K.log(masked_pred + K.epsilon()), axis=-1)\n",
    "        return K.mean(loss)\n",
    "    \n",
    "    def train(self, X_train, routes, epochs=50, batch_size=128):\n",
    "        \"\"\"\n",
    "        X_train: матрицы расстояний (samples, cities, cities)\n",
    "        routes: оптимальные маршруты (samples, cities)\n",
    "        \"\"\"\n",
    "        # Создаем маски переходов для обучения\n",
    "        y_masks = np.zeros_like(X_train)\n",
    "        \n",
    "        for i, route in enumerate(routes):\n",
    "            for j in range(len(route)-1):\n",
    "                from_city = route[j]\n",
    "                to_city = route[j+1]\n",
    "                y_masks[i, from_city, to_city] = 1\n",
    "        \n",
    "        self.model.fit(\n",
    "            X_train,\n",
    "            y_masks,\n",
    "            epochs=epochs,\n",
    "            batch_size=batch_size,\n",
    "            validation_split=0.1\n",
    "        )"
   ]
  },
  {
   "cell_type": "code",
   "execution_count": 3,
   "id": "a65f130e-800f-4d72-87da-b3100843220a",
   "metadata": {},
   "outputs": [
    {
     "name": "stdout",
     "output_type": "stream",
     "text": [
      "[PhysicalDevice(name='/physical_device:GPU:0', device_type='GPU'), PhysicalDevice(name='/physical_device:GPU:1', device_type='GPU')]\n"
     ]
    }
   ],
   "source": [
    "print(tf.config.list_physical_devices('GPU'))"
   ]
  },
  {
   "cell_type": "markdown",
   "id": "e55d57fd-4da0-4a2b-ae67-8b99ecd3a419",
   "metadata": {},
   "source": [
    "### Подготовка исходных данных и поиск точного решения методом динамического программирования занимает час"
   ]
  },
  {
   "cell_type": "code",
   "execution_count": 10,
   "id": "4df6d68d-af3b-4bb4-ae30-f03fe064820a",
   "metadata": {},
   "outputs": [],
   "source": [
    "N = 12\n",
    "nlen = N*N\n",
    "rand = np.random.RandomState(1)"
   ]
  },
  {
   "cell_type": "code",
   "execution_count": null,
   "id": "3e398efc-1edc-4d1e-95e6-93220b9e38db",
   "metadata": {
    "jupyter": {
     "source_hidden": true
    }
   },
   "outputs": [],
   "source": [
    "cnt = 50000\n",
    "lx = []\n",
    "ly = []\n",
    "ld = []\n",
    "for i in tqdm(range(cnt)):\n",
    "    a = rand.normal(20, 5, size=(N, N))\n",
    "    #a = np.round((a + a.T)/2,2)\n",
    "    a[np.eye(N)==1] = 0\n",
    "    permutation, distance = solve_tsp_dynamic_programming(a)\n",
    "    lx.append(a)\n",
    "    ly.append(permutation)\n",
    "    ld.append(distance)\n",
    "X_train = np.array(lx)\n",
    "Y_train = np.array(ly)\n",
    "D_train = np.array(ld)"
   ]
  },
  {
   "cell_type": "code",
   "execution_count": 62,
   "id": "d69cb6ae-d699-4036-942e-5abee4a31725",
   "metadata": {
    "jupyter": {
     "source_hidden": true
    }
   },
   "outputs": [],
   "source": [
    "#np.save('X_train', X_train)\n",
    "#np.save('Y_train', Y_train)\n",
    "X_train = np.load('X_train.npy')\n",
    "Y_train = np.load('Y_train.npy')\n"
   ]
  },
  {
   "cell_type": "markdown",
   "id": "8819257c-10db-429e-8256-d6a0f0a12f14",
   "metadata": {},
   "source": [
    "### Инициализируем и обучаем модель"
   ]
  },
  {
   "cell_type": "code",
   "execution_count": 181,
   "id": "203e797d-0656-447f-8232-51506e904c6b",
   "metadata": {
    "collapsed": true,
    "jupyter": {
     "outputs_hidden": true,
     "source_hidden": true
    }
   },
   "outputs": [
    {
     "name": "stdout",
     "output_type": "stream",
     "text": [
      "Epoch 1/40\n",
      "\u001b[1m352/352\u001b[0m \u001b[32m━━━━━━━━━━━━━━━━━━━━\u001b[0m\u001b[37m\u001b[0m \u001b[1m5s\u001b[0m 7ms/step - loss: 1.0552e-06 - val_loss: 6.5155e-07\n",
      "Epoch 2/40\n",
      "\u001b[1m352/352\u001b[0m \u001b[32m━━━━━━━━━━━━━━━━━━━━\u001b[0m\u001b[37m\u001b[0m \u001b[1m1s\u001b[0m 2ms/step - loss: 6.1037e-07 - val_loss: 4.9647e-07\n",
      "Epoch 3/40\n",
      "\u001b[1m352/352\u001b[0m \u001b[32m━━━━━━━━━━━━━━━━━━━━\u001b[0m\u001b[37m\u001b[0m \u001b[1m1s\u001b[0m 2ms/step - loss: 4.6749e-07 - val_loss: 4.0588e-07\n",
      "Epoch 4/40\n",
      "\u001b[1m352/352\u001b[0m \u001b[32m━━━━━━━━━━━━━━━━━━━━\u001b[0m\u001b[37m\u001b[0m \u001b[1m1s\u001b[0m 2ms/step - loss: 3.9230e-07 - val_loss: 3.6841e-07\n",
      "Epoch 5/40\n",
      "\u001b[1m352/352\u001b[0m \u001b[32m━━━━━━━━━━━━━━━━━━━━\u001b[0m\u001b[37m\u001b[0m \u001b[1m1s\u001b[0m 2ms/step - loss: 3.6084e-07 - val_loss: 3.5061e-07\n",
      "Epoch 6/40\n",
      "\u001b[1m352/352\u001b[0m \u001b[32m━━━━━━━━━━━━━━━━━━━━\u001b[0m\u001b[37m\u001b[0m \u001b[1m1s\u001b[0m 2ms/step - loss: 3.4573e-07 - val_loss: 3.4328e-07\n",
      "Epoch 7/40\n",
      "\u001b[1m352/352\u001b[0m \u001b[32m━━━━━━━━━━━━━━━━━━━━\u001b[0m\u001b[37m\u001b[0m \u001b[1m1s\u001b[0m 2ms/step - loss: 3.3793e-07 - val_loss: 3.3438e-07\n",
      "Epoch 8/40\n",
      "\u001b[1m352/352\u001b[0m \u001b[32m━━━━━━━━━━━━━━━━━━━━\u001b[0m\u001b[37m\u001b[0m \u001b[1m1s\u001b[0m 2ms/step - loss: 3.3204e-07 - val_loss: 3.3095e-07\n",
      "Epoch 9/40\n",
      "\u001b[1m352/352\u001b[0m \u001b[32m━━━━━━━━━━━━━━━━━━━━\u001b[0m\u001b[37m\u001b[0m \u001b[1m1s\u001b[0m 2ms/step - loss: 3.2887e-07 - val_loss: 3.3150e-07\n",
      "Epoch 10/40\n",
      "\u001b[1m352/352\u001b[0m \u001b[32m━━━━━━━━━━━━━━━━━━━━\u001b[0m\u001b[37m\u001b[0m \u001b[1m1s\u001b[0m 2ms/step - loss: 3.2493e-07 - val_loss: 3.2483e-07\n",
      "Epoch 11/40\n",
      "\u001b[1m352/352\u001b[0m \u001b[32m━━━━━━━━━━━━━━━━━━━━\u001b[0m\u001b[37m\u001b[0m \u001b[1m1s\u001b[0m 2ms/step - loss: 3.2349e-07 - val_loss: 3.2510e-07\n",
      "Epoch 12/40\n",
      "\u001b[1m352/352\u001b[0m \u001b[32m━━━━━━━━━━━━━━━━━━━━\u001b[0m\u001b[37m\u001b[0m \u001b[1m1s\u001b[0m 2ms/step - loss: 3.2162e-07 - val_loss: 3.2359e-07\n",
      "Epoch 13/40\n",
      "\u001b[1m352/352\u001b[0m \u001b[32m━━━━━━━━━━━━━━━━━━━━\u001b[0m\u001b[37m\u001b[0m \u001b[1m1s\u001b[0m 2ms/step - loss: 3.1946e-07 - val_loss: 3.2104e-07\n",
      "Epoch 14/40\n",
      "\u001b[1m352/352\u001b[0m \u001b[32m━━━━━━━━━━━━━━━━━━━━\u001b[0m\u001b[37m\u001b[0m \u001b[1m1s\u001b[0m 2ms/step - loss: 3.1756e-07 - val_loss: 3.2057e-07\n",
      "Epoch 15/40\n",
      "\u001b[1m352/352\u001b[0m \u001b[32m━━━━━━━━━━━━━━━━━━━━\u001b[0m\u001b[37m\u001b[0m \u001b[1m1s\u001b[0m 2ms/step - loss: 3.1694e-07 - val_loss: 3.2016e-07\n",
      "Epoch 16/40\n",
      "\u001b[1m352/352\u001b[0m \u001b[32m━━━━━━━━━━━━━━━━━━━━\u001b[0m\u001b[37m\u001b[0m \u001b[1m1s\u001b[0m 2ms/step - loss: 3.1494e-07 - val_loss: 3.1891e-07\n",
      "Epoch 17/40\n",
      "\u001b[1m352/352\u001b[0m \u001b[32m━━━━━━━━━━━━━━━━━━━━\u001b[0m\u001b[37m\u001b[0m \u001b[1m1s\u001b[0m 2ms/step - loss: 3.1491e-07 - val_loss: 3.1675e-07\n",
      "Epoch 18/40\n",
      "\u001b[1m352/352\u001b[0m \u001b[32m━━━━━━━━━━━━━━━━━━━━\u001b[0m\u001b[37m\u001b[0m \u001b[1m1s\u001b[0m 2ms/step - loss: 3.1292e-07 - val_loss: 3.1509e-07\n",
      "Epoch 19/40\n",
      "\u001b[1m352/352\u001b[0m \u001b[32m━━━━━━━━━━━━━━━━━━━━\u001b[0m\u001b[37m\u001b[0m \u001b[1m1s\u001b[0m 2ms/step - loss: 3.1319e-07 - val_loss: 3.1483e-07\n",
      "Epoch 20/40\n",
      "\u001b[1m352/352\u001b[0m \u001b[32m━━━━━━━━━━━━━━━━━━━━\u001b[0m\u001b[37m\u001b[0m \u001b[1m1s\u001b[0m 2ms/step - loss: 3.1199e-07 - val_loss: 3.1491e-07\n",
      "Epoch 21/40\n",
      "\u001b[1m352/352\u001b[0m \u001b[32m━━━━━━━━━━━━━━━━━━━━\u001b[0m\u001b[37m\u001b[0m \u001b[1m1s\u001b[0m 2ms/step - loss: 3.1116e-07 - val_loss: 3.1435e-07\n",
      "Epoch 22/40\n",
      "\u001b[1m352/352\u001b[0m \u001b[32m━━━━━━━━━━━━━━━━━━━━\u001b[0m\u001b[37m\u001b[0m \u001b[1m1s\u001b[0m 2ms/step - loss: 3.1071e-07 - val_loss: 3.1419e-07\n",
      "Epoch 23/40\n",
      "\u001b[1m352/352\u001b[0m \u001b[32m━━━━━━━━━━━━━━━━━━━━\u001b[0m\u001b[37m\u001b[0m \u001b[1m1s\u001b[0m 2ms/step - loss: 3.1026e-07 - val_loss: 3.1277e-07\n",
      "Epoch 24/40\n",
      "\u001b[1m352/352\u001b[0m \u001b[32m━━━━━━━━━━━━━━━━━━━━\u001b[0m\u001b[37m\u001b[0m \u001b[1m1s\u001b[0m 2ms/step - loss: 3.0893e-07 - val_loss: 3.1337e-07\n",
      "Epoch 25/40\n",
      "\u001b[1m352/352\u001b[0m \u001b[32m━━━━━━━━━━━━━━━━━━━━\u001b[0m\u001b[37m\u001b[0m \u001b[1m1s\u001b[0m 2ms/step - loss: 3.0974e-07 - val_loss: 3.1417e-07\n",
      "Epoch 26/40\n",
      "\u001b[1m352/352\u001b[0m \u001b[32m━━━━━━━━━━━━━━━━━━━━\u001b[0m\u001b[37m\u001b[0m \u001b[1m1s\u001b[0m 2ms/step - loss: 3.0898e-07 - val_loss: 3.1320e-07\n",
      "Epoch 27/40\n",
      "\u001b[1m352/352\u001b[0m \u001b[32m━━━━━━━━━━━━━━━━━━━━\u001b[0m\u001b[37m\u001b[0m \u001b[1m1s\u001b[0m 2ms/step - loss: 3.0812e-07 - val_loss: 3.1241e-07\n",
      "Epoch 28/40\n",
      "\u001b[1m352/352\u001b[0m \u001b[32m━━━━━━━━━━━━━━━━━━━━\u001b[0m\u001b[37m\u001b[0m \u001b[1m1s\u001b[0m 2ms/step - loss: 3.0791e-07 - val_loss: 3.1172e-07\n",
      "Epoch 29/40\n",
      "\u001b[1m352/352\u001b[0m \u001b[32m━━━━━━━━━━━━━━━━━━━━\u001b[0m\u001b[37m\u001b[0m \u001b[1m1s\u001b[0m 2ms/step - loss: 3.0687e-07 - val_loss: 3.1107e-07\n",
      "Epoch 30/40\n",
      "\u001b[1m352/352\u001b[0m \u001b[32m━━━━━━━━━━━━━━━━━━━━\u001b[0m\u001b[37m\u001b[0m \u001b[1m1s\u001b[0m 2ms/step - loss: 3.0686e-07 - val_loss: 3.1431e-07\n",
      "Epoch 31/40\n",
      "\u001b[1m352/352\u001b[0m \u001b[32m━━━━━━━━━━━━━━━━━━━━\u001b[0m\u001b[37m\u001b[0m \u001b[1m1s\u001b[0m 2ms/step - loss: 3.0662e-07 - val_loss: 3.1080e-07\n",
      "Epoch 32/40\n",
      "\u001b[1m352/352\u001b[0m \u001b[32m━━━━━━━━━━━━━━━━━━━━\u001b[0m\u001b[37m\u001b[0m \u001b[1m1s\u001b[0m 2ms/step - loss: 3.0643e-07 - val_loss: 3.1044e-07\n",
      "Epoch 33/40\n",
      "\u001b[1m352/352\u001b[0m \u001b[32m━━━━━━━━━━━━━━━━━━━━\u001b[0m\u001b[37m\u001b[0m \u001b[1m1s\u001b[0m 2ms/step - loss: 3.0590e-07 - val_loss: 3.1068e-07\n",
      "Epoch 34/40\n",
      "\u001b[1m352/352\u001b[0m \u001b[32m━━━━━━━━━━━━━━━━━━━━\u001b[0m\u001b[37m\u001b[0m \u001b[1m1s\u001b[0m 2ms/step - loss: 3.0643e-07 - val_loss: 3.0999e-07\n",
      "Epoch 35/40\n",
      "\u001b[1m352/352\u001b[0m \u001b[32m━━━━━━━━━━━━━━━━━━━━\u001b[0m\u001b[37m\u001b[0m \u001b[1m1s\u001b[0m 2ms/step - loss: 3.0532e-07 - val_loss: 3.0892e-07\n",
      "Epoch 36/40\n",
      "\u001b[1m352/352\u001b[0m \u001b[32m━━━━━━━━━━━━━━━━━━━━\u001b[0m\u001b[37m\u001b[0m \u001b[1m1s\u001b[0m 2ms/step - loss: 3.0538e-07 - val_loss: 3.0976e-07\n",
      "Epoch 37/40\n",
      "\u001b[1m352/352\u001b[0m \u001b[32m━━━━━━━━━━━━━━━━━━━━\u001b[0m\u001b[37m\u001b[0m \u001b[1m1s\u001b[0m 2ms/step - loss: 3.0554e-07 - val_loss: 3.0896e-07\n",
      "Epoch 38/40\n",
      "\u001b[1m352/352\u001b[0m \u001b[32m━━━━━━━━━━━━━━━━━━━━\u001b[0m\u001b[37m\u001b[0m \u001b[1m1s\u001b[0m 2ms/step - loss: 3.0419e-07 - val_loss: 3.0929e-07\n",
      "Epoch 39/40\n",
      "\u001b[1m352/352\u001b[0m \u001b[32m━━━━━━━━━━━━━━━━━━━━\u001b[0m\u001b[37m\u001b[0m \u001b[1m1s\u001b[0m 2ms/step - loss: 3.0430e-07 - val_loss: 3.0805e-07\n",
      "Epoch 40/40\n",
      "\u001b[1m352/352\u001b[0m \u001b[32m━━━━━━━━━━━━━━━━━━━━\u001b[0m\u001b[37m\u001b[0m \u001b[1m1s\u001b[0m 2ms/step - loss: 3.0457e-07 - val_loss: 3.1046e-07\n"
     ]
    }
   ],
   "source": [
    "solver = TSPSolver(num_cities=N)\n",
    "solver.train(X_train, Y_train, epochs=40)"
   ]
  },
  {
   "cell_type": "markdown",
   "id": "9e54e75b-d252-47e7-85b9-12b19b07673a",
   "metadata": {},
   "source": [
    "### Проверка обученной модели"
   ]
  },
  {
   "cell_type": "code",
   "execution_count": 289,
   "id": "1ace715c-70d6-4fdd-ae43-2c3161e2aa5a",
   "metadata": {},
   "outputs": [],
   "source": [
    "def predict_route(solver, dist_matrix, is_rnd = False):\n",
    "    ap = solver.model.predict(dist_matrix[np.newaxis, ...], verbose=0)[0]\n",
    "    num_cities = dist_matrix.shape[0]\n",
    "    best_route = []\n",
    "    best_dist = np.inf\n",
    "    for _ in range(500):\n",
    "        p = np.max(ap, axis=1)\n",
    "        if is_rnd: p = np.full_like(p, 1)\n",
    "        p = p / np.sum(p)\n",
    "        current = rand.choice(range(num_cities), p=p)\n",
    "        visited = {current}\n",
    "        route = [current]\n",
    "        total_dist = 0\n",
    "        for _ in range(num_cities-1):\n",
    "            probs = ap[current].copy()\n",
    "            if is_rnd: probs = np.full_like(probs, 1) \n",
    "            # Маскируем посещенные города\n",
    "            probs[list(visited)] = 0\n",
    "            # Выбираем следующий город\n",
    "            next_city = rand.choice(range(num_cities), p=(probs / np.sum(probs)))\n",
    "            # next_city = np.argmax(probs)\n",
    "            route.append(next_city)\n",
    "            visited.add(next_city)\n",
    "            total_dist += dist_matrix[current, next_city]\n",
    "            current = next_city\n",
    "        total_dist += dist_matrix[route[-1], route[0]]\n",
    "        if total_dist < best_dist:\n",
    "            best_dist = total_dist\n",
    "            best_route = route\n",
    "    return np.array(best_route)"
   ]
  },
  {
   "cell_type": "code",
   "execution_count": 290,
   "id": "24b74467-17e5-44e2-8948-59f8a4c57e2f",
   "metadata": {},
   "outputs": [
    {
     "name": "stderr",
     "output_type": "stream",
     "text": [
      "100%|██████████| 50/50 [00:19<00:00,  2.52it/s]\n"
     ]
    }
   ],
   "source": [
    "cnt = 50\n",
    "ld = []\n",
    "lp = []\n",
    "lr = []\n",
    "for i in tqdm(range(cnt)):\n",
    "    a = rand.normal(20, 5, size=(N, N))\n",
    "    # a = np.round((a + a.T)/2,2)\n",
    "    a[np.eye(N)==1] = 0\n",
    "    permutation, distance = solve_tsp_dynamic_programming(a)\n",
    "    route = predict_route(solver, a)\n",
    "    total_dist = sum(a[route[i], route[i+1]] for i in range(N-1))\n",
    "    total_dist += a[route[-1], route[0]]\n",
    "    ld.append(distance)\n",
    "    lp.append(total_dist)\n",
    "Y_predict = np.array(lp)\n",
    "Y_true = np.array(ld)"
   ]
  },
  {
   "cell_type": "code",
   "execution_count": 291,
   "id": "71f20ce5-7641-4f84-8079-a407ea5a2fdb",
   "metadata": {},
   "outputs": [
    {
     "data": {
      "text/plain": [
       "0.052357125615434645"
      ]
     },
     "execution_count": 291,
     "metadata": {},
     "output_type": "execute_result"
    }
   ],
   "source": [
    "mean_absolute_percentage_error(Y_true, Y_predict)"
   ]
  },
  {
   "cell_type": "code",
   "execution_count": 292,
   "id": "25a2cd21-dc07-4901-96d9-a773d3272aa4",
   "metadata": {},
   "outputs": [
    {
     "data": {
      "text/plain": [
       "np.int64(0)"
      ]
     },
     "execution_count": 292,
     "metadata": {},
     "output_type": "execute_result"
    }
   ],
   "source": [
    "# Сколько случаев действительно плохого прогноза\n",
    "sum(((Y_predict - Y_true) / Y_true) > 0.2)"
   ]
  },
  {
   "cell_type": "code",
   "execution_count": null,
   "id": "c1c70e7e-8c11-464e-be47-2bfc51640c3a",
   "metadata": {},
   "outputs": [],
   "source": []
  }
 ],
 "metadata": {
  "kernelspec": {
   "display_name": "Python 3 (ipykernel)",
   "language": "python",
   "name": "python3"
  },
  "language_info": {
   "codemirror_mode": {
    "name": "ipython",
    "version": 3
   },
   "file_extension": ".py",
   "mimetype": "text/x-python",
   "name": "python",
   "nbconvert_exporter": "python",
   "pygments_lexer": "ipython3",
   "version": "3.12.9"
  }
 },
 "nbformat": 4,
 "nbformat_minor": 5
}
