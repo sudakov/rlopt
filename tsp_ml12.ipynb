{
 "cells": [
  {
   "cell_type": "markdown",
   "id": "e0b76303-0641-468a-94b2-2b1414759fce",
   "metadata": {},
   "source": [
    "# Обучение с учителем для решения задач коммивояжера\n"
   ]
  },
  {
   "cell_type": "code",
   "execution_count": 8,
   "id": "3ae68ec8-1737-4490-ae49-1139d3c815e6",
   "metadata": {
    "collapsed": true,
    "jupyter": {
     "outputs_hidden": true,
     "source_hidden": true
    }
   },
   "outputs": [
    {
     "name": "stderr",
     "output_type": "stream",
     "text": [
      "2025-04-15 05:59:31.598935: E external/local_xla/xla/stream_executor/cuda/cuda_fft.cc:467] Unable to register cuFFT factory: Attempting to register factory for plugin cuFFT when one has already been registered\n",
      "WARNING: All log messages before absl::InitializeLog() is called are written to STDERR\n",
      "E0000 00:00:1744696771.658939    1407 cuda_dnn.cc:8579] Unable to register cuDNN factory: Attempting to register factory for plugin cuDNN when one has already been registered\n",
      "E0000 00:00:1744696771.673498    1407 cuda_blas.cc:1407] Unable to register cuBLAS factory: Attempting to register factory for plugin cuBLAS when one has already been registered\n",
      "W0000 00:00:1744696771.773146    1407 computation_placer.cc:177] computation placer already registered. Please check linkage and avoid linking the same target more than once.\n",
      "W0000 00:00:1744696771.773161    1407 computation_placer.cc:177] computation placer already registered. Please check linkage and avoid linking the same target more than once.\n",
      "W0000 00:00:1744696771.773163    1407 computation_placer.cc:177] computation placer already registered. Please check linkage and avoid linking the same target more than once.\n",
      "W0000 00:00:1744696771.773165    1407 computation_placer.cc:177] computation placer already registered. Please check linkage and avoid linking the same target more than once.\n",
      "2025-04-15 05:59:31.784867: I tensorflow/core/platform/cpu_feature_guard.cc:210] This TensorFlow binary is optimized to use available CPU instructions in performance-critical operations.\n",
      "To enable the following instructions: AVX2 FMA, in other operations, rebuild TensorFlow with the appropriate compiler flags.\n"
     ]
    }
   ],
   "source": [
    "import os\n",
    "import tensorflow as tf\n",
    "os.environ['TF_CPP_MIN_LOG_LEVEL'] = '2'  # Скрывает INFO-логи (оставляет WARNING и ERROR)\n",
    "tf.get_logger().setLevel('ERROR')  # Скрывает большинство логов TensorFlow\n",
    "import logging\n",
    "logging.getLogger('tensorflow').setLevel(logging.ERROR)\n",
    "\n",
    "import absl.logging\n",
    "absl.logging.set_verbosity(absl.logging.ERROR)"
   ]
  },
  {
   "cell_type": "code",
   "execution_count": 9,
   "id": "58cef161-e45d-43f9-8a3e-8b407265b3f7",
   "metadata": {
    "jupyter": {
     "source_hidden": true
    }
   },
   "outputs": [],
   "source": [
    "import numpy as np\n",
    "from tensorflow.keras.layers import Input, Dense, LayerNormalization\n",
    "from tensorflow.keras.models import Model\n",
    "from tensorflow.keras.optimizers import Adam\n",
    "from tensorflow.keras import backend as K\n",
    "from tqdm import tqdm\n",
    "from python_tsp.exact import solve_tsp_dynamic_programming, solve_tsp_branch_and_bound\n",
    "from python_tsp.heuristics import solve_tsp_local_search, solve_tsp_simulated_annealing\n",
    "from python_tsp.heuristics import solve_tsp_lin_kernighan, solve_tsp_record_to_record\n",
    "from sklearn.metrics import mean_absolute_percentage_error"
   ]
  },
  {
   "cell_type": "markdown",
   "id": "374ecaac-3813-49bb-9ce1-cbae15403042",
   "metadata": {},
   "source": [
    "### Модель предсказывает какие дуги входят в маршрут, но не их последовательность"
   ]
  },
  {
   "cell_type": "code",
   "execution_count": 10,
   "id": "2431ebc5-3df5-48c8-b68c-713e2eebb9e5",
   "metadata": {
    "editable": true,
    "jupyter": {
     "source_hidden": true
    },
    "slideshow": {
     "slide_type": ""
    },
    "tags": []
   },
   "outputs": [],
   "source": [
    "class TSPSolver:\n",
    "    def __init__(self, num_cities, hidden_dim=256):\n",
    "        self.num_cities = num_cities\n",
    "        self.hidden_dim = hidden_dim\n",
    "        self.model = self._build_model()\n",
    "    \n",
    "    def _build_model(self):\n",
    "        # Вход: матрица расстояний (batch, cities, cities)\n",
    "        inputs = Input(shape=(self.num_cities, self.num_cities))\n",
    "        \n",
    "        # Кодировщик на основе полносвязных слоев\n",
    "        x = Dense(self.hidden_dim, activation='relu')(inputs)\n",
    "        x = LayerNormalization()(x)\n",
    "        x = Dense(self.hidden_dim, activation='relu')(x)\n",
    "        x = LayerNormalization()(x)\n",
    "\n",
    "        x = Dense(self.hidden_dim, activation='relu')(x)\n",
    "        x = LayerNormalization()(x)\n",
    "        \n",
    "        # Выходной слой - вероятности переходов\n",
    "        logits = Dense(self.num_cities)(x)\n",
    "        outputs = tf.keras.activations.softmax(logits)\n",
    "        \n",
    "        model = Model(inputs=inputs, outputs=outputs)\n",
    "        model.compile(optimizer=Adam(0.001), loss=self._custom_loss)\n",
    "        return model\n",
    "    \n",
    "    def _custom_loss(self, y_true, y_pred):\n",
    "        # y_true: маска посещенных городов (batch, cities, cities)\n",
    "        # y_pred: вероятности переходов (batch, cities, cities)\n",
    "        \n",
    "        # Применяем маску к предсказаниям\n",
    "        masked_pred = y_pred * y_true\n",
    "        \n",
    "        # Нормализуем вероятности\n",
    "        masked_pred = masked_pred / (K.sum(masked_pred, axis=-1, keepdims=True) + K.epsilon())\n",
    "        \n",
    "        # Вычисляем кросс-энтропию\n",
    "        loss = -K.sum(y_true * K.log(masked_pred + K.epsilon()), axis=-1)\n",
    "        return K.mean(loss)\n",
    "    \n",
    "    def train(self, X_train, routes, epochs=50, batch_size=128):\n",
    "        \"\"\"\n",
    "        X_train: матрицы расстояний (samples, cities, cities)\n",
    "        routes: оптимальные маршруты (samples, cities)\n",
    "        \"\"\"\n",
    "        # Создаем маски переходов для обучения\n",
    "        y_masks = np.zeros_like(X_train)\n",
    "        \n",
    "        for i, route in enumerate(routes):\n",
    "            for j in range(len(route)-1):\n",
    "                from_city = route[j]\n",
    "                to_city = route[j+1]\n",
    "                y_masks[i, from_city, to_city] = 1\n",
    "        \n",
    "        self.model.fit(\n",
    "            X_train,\n",
    "            y_masks,\n",
    "            epochs=epochs,\n",
    "            batch_size=batch_size,\n",
    "            validation_split=0.1\n",
    "        )"
   ]
  },
  {
   "cell_type": "code",
   "execution_count": 11,
   "id": "a65f130e-800f-4d72-87da-b3100843220a",
   "metadata": {},
   "outputs": [
    {
     "name": "stdout",
     "output_type": "stream",
     "text": [
      "[PhysicalDevice(name='/physical_device:GPU:0', device_type='GPU'), PhysicalDevice(name='/physical_device:GPU:1', device_type='GPU')]\n"
     ]
    }
   ],
   "source": [
    "print(tf.config.list_physical_devices('GPU'))"
   ]
  },
  {
   "cell_type": "markdown",
   "id": "e55d57fd-4da0-4a2b-ae67-8b99ecd3a419",
   "metadata": {},
   "source": [
    "### Подготовка исходных данных и поиск точного решения методом динамического программирования занимает час"
   ]
  },
  {
   "cell_type": "code",
   "execution_count": 12,
   "id": "4df6d68d-af3b-4bb4-ae30-f03fe064820a",
   "metadata": {},
   "outputs": [],
   "source": [
    "N = 12\n",
    "nlen = N*N\n",
    "rand = np.random.RandomState(1)"
   ]
  },
  {
   "cell_type": "code",
   "execution_count": null,
   "id": "3e398efc-1edc-4d1e-95e6-93220b9e38db",
   "metadata": {},
   "outputs": [],
   "source": [
    "cnt = 50000\n",
    "lx = []\n",
    "ly = []\n",
    "ld = []\n",
    "for i in tqdm(range(cnt)):\n",
    "    a = rand.normal(20, 5, size=(N, N))\n",
    "    #a = np.round((a + a.T)/2,2)\n",
    "    a[np.eye(N)==1] = 0\n",
    "    permutation, distance = solve_tsp_dynamic_programming(a)\n",
    "    lx.append(a)\n",
    "    ly.append(permutation)\n",
    "    ld.append(distance)\n",
    "X_train = np.array(lx)\n",
    "Y_train = np.array(ly)\n",
    "D_train = np.array(ld)"
   ]
  },
  {
   "cell_type": "code",
   "execution_count": 13,
   "id": "d69cb6ae-d699-4036-942e-5abee4a31725",
   "metadata": {},
   "outputs": [],
   "source": [
    "#np.save('X_train', X_train)\n",
    "#np.save('Y_train', Y_train)\n",
    "X_train = np.load('X_train.npy')\n",
    "Y_train = np.load('Y_train.npy')"
   ]
  },
  {
   "cell_type": "markdown",
   "id": "8819257c-10db-429e-8256-d6a0f0a12f14",
   "metadata": {},
   "source": [
    "### Инициализируем и обучаем модель"
   ]
  },
  {
   "cell_type": "code",
   "execution_count": 14,
   "id": "203e797d-0656-447f-8232-51506e904c6b",
   "metadata": {
    "collapsed": true,
    "jupyter": {
     "outputs_hidden": true
    }
   },
   "outputs": [
    {
     "name": "stderr",
     "output_type": "stream",
     "text": [
      "I0000 00:00:1744696828.794888    1407 gpu_device.cc:2019] Created device /job:localhost/replica:0/task:0/device:GPU:0 with 22335 MB memory:  -> device: 0, name: NVIDIA GeForce RTX 3090, pci bus id: 0000:01:00.0, compute capability: 8.6\n",
      "I0000 00:00:1744696828.796204    1407 gpu_device.cc:2019] Created device /job:localhost/replica:0/task:0/device:GPU:1 with 22335 MB memory:  -> device: 1, name: NVIDIA GeForce RTX 3090, pci bus id: 0000:06:00.0, compute capability: 8.6\n"
     ]
    },
    {
     "name": "stdout",
     "output_type": "stream",
     "text": [
      "Epoch 1/40\n"
     ]
    },
    {
     "name": "stderr",
     "output_type": "stream",
     "text": [
      "WARNING: All log messages before absl::InitializeLog() is called are written to STDERR\n",
      "I0000 00:00:1744696831.120421    1987 service.cc:152] XLA service 0x7730c000d1a0 initialized for platform CUDA (this does not guarantee that XLA will be used). Devices:\n",
      "I0000 00:00:1744696831.120434    1987 service.cc:160]   StreamExecutor device (0): NVIDIA GeForce RTX 3090, Compute Capability 8.6\n",
      "I0000 00:00:1744696831.120436    1987 service.cc:160]   StreamExecutor device (1): NVIDIA GeForce RTX 3090, Compute Capability 8.6\n",
      "2025-04-15 06:00:31.160406: I tensorflow/compiler/mlir/tensorflow/utils/dump_mlir_util.cc:269] disabling MLIR crash reproducer, set env var `MLIR_CRASH_REPRODUCER_DIRECTORY` to enable.\n",
      "I0000 00:00:1744696831.369804    1987 cuda_dnn.cc:529] Loaded cuDNN version 90800\n"
     ]
    },
    {
     "name": "stdout",
     "output_type": "stream",
     "text": [
      "\u001b[1m 81/352\u001b[0m \u001b[32m━━━━\u001b[0m\u001b[37m━━━━━━━━━━━━━━━━\u001b[0m \u001b[1m0s\u001b[0m 1ms/step - loss: 1.4199e-06"
     ]
    },
    {
     "name": "stderr",
     "output_type": "stream",
     "text": [
      "I0000 00:00:1744696832.629446    1987 device_compiler.h:188] Compiled cluster using XLA!  This line is logged at most once for the lifetime of the process.\n"
     ]
    },
    {
     "name": "stdout",
     "output_type": "stream",
     "text": [
      "\u001b[1m352/352\u001b[0m \u001b[32m━━━━━━━━━━━━━━━━━━━━\u001b[0m\u001b[37m\u001b[0m \u001b[1m5s\u001b[0m 7ms/step - loss: 1.0054e-06 - val_loss: 6.6365e-07\n",
      "Epoch 2/40\n",
      "\u001b[1m352/352\u001b[0m \u001b[32m━━━━━━━━━━━━━━━━━━━━\u001b[0m\u001b[37m\u001b[0m \u001b[1m1s\u001b[0m 2ms/step - loss: 6.3021e-07 - val_loss: 5.1824e-07\n",
      "Epoch 3/40\n",
      "\u001b[1m352/352\u001b[0m \u001b[32m━━━━━━━━━━━━━━━━━━━━\u001b[0m\u001b[37m\u001b[0m \u001b[1m1s\u001b[0m 1ms/step - loss: 4.8540e-07 - val_loss: 4.1293e-07\n",
      "Epoch 4/40\n",
      "\u001b[1m352/352\u001b[0m \u001b[32m━━━━━━━━━━━━━━━━━━━━\u001b[0m\u001b[37m\u001b[0m \u001b[1m1s\u001b[0m 1ms/step - loss: 3.9838e-07 - val_loss: 3.6991e-07\n",
      "Epoch 5/40\n",
      "\u001b[1m352/352\u001b[0m \u001b[32m━━━━━━━━━━━━━━━━━━━━\u001b[0m\u001b[37m\u001b[0m \u001b[1m1s\u001b[0m 1ms/step - loss: 3.6449e-07 - val_loss: 3.5174e-07\n",
      "Epoch 6/40\n",
      "\u001b[1m352/352\u001b[0m \u001b[32m━━━━━━━━━━━━━━━━━━━━\u001b[0m\u001b[37m\u001b[0m \u001b[1m1s\u001b[0m 1ms/step - loss: 3.4959e-07 - val_loss: 3.4313e-07\n",
      "Epoch 7/40\n",
      "\u001b[1m352/352\u001b[0m \u001b[32m━━━━━━━━━━━━━━━━━━━━\u001b[0m\u001b[37m\u001b[0m \u001b[1m1s\u001b[0m 1ms/step - loss: 3.4033e-07 - val_loss: 3.3671e-07\n",
      "Epoch 8/40\n",
      "\u001b[1m352/352\u001b[0m \u001b[32m━━━━━━━━━━━━━━━━━━━━\u001b[0m\u001b[37m\u001b[0m \u001b[1m1s\u001b[0m 1ms/step - loss: 3.3416e-07 - val_loss: 3.3214e-07\n",
      "Epoch 9/40\n",
      "\u001b[1m352/352\u001b[0m \u001b[32m━━━━━━━━━━━━━━━━━━━━\u001b[0m\u001b[37m\u001b[0m \u001b[1m1s\u001b[0m 1ms/step - loss: 3.2995e-07 - val_loss: 3.2879e-07\n",
      "Epoch 10/40\n",
      "\u001b[1m352/352\u001b[0m \u001b[32m━━━━━━━━━━━━━━━━━━━━\u001b[0m\u001b[37m\u001b[0m \u001b[1m1s\u001b[0m 1ms/step - loss: 3.2648e-07 - val_loss: 3.2590e-07\n",
      "Epoch 11/40\n",
      "\u001b[1m352/352\u001b[0m \u001b[32m━━━━━━━━━━━━━━━━━━━━\u001b[0m\u001b[37m\u001b[0m \u001b[1m1s\u001b[0m 2ms/step - loss: 3.2478e-07 - val_loss: 3.2481e-07\n",
      "Epoch 12/40\n",
      "\u001b[1m352/352\u001b[0m \u001b[32m━━━━━━━━━━━━━━━━━━━━\u001b[0m\u001b[37m\u001b[0m \u001b[1m1s\u001b[0m 1ms/step - loss: 3.2375e-07 - val_loss: 3.2300e-07\n",
      "Epoch 13/40\n",
      "\u001b[1m352/352\u001b[0m \u001b[32m━━━━━━━━━━━━━━━━━━━━\u001b[0m\u001b[37m\u001b[0m \u001b[1m1s\u001b[0m 1ms/step - loss: 3.2086e-07 - val_loss: 3.2096e-07\n",
      "Epoch 14/40\n",
      "\u001b[1m352/352\u001b[0m \u001b[32m━━━━━━━━━━━━━━━━━━━━\u001b[0m\u001b[37m\u001b[0m \u001b[1m1s\u001b[0m 1ms/step - loss: 3.1923e-07 - val_loss: 3.1966e-07\n",
      "Epoch 15/40\n",
      "\u001b[1m352/352\u001b[0m \u001b[32m━━━━━━━━━━━━━━━━━━━━\u001b[0m\u001b[37m\u001b[0m \u001b[1m1s\u001b[0m 1ms/step - loss: 3.1610e-07 - val_loss: 3.1798e-07\n",
      "Epoch 16/40\n",
      "\u001b[1m352/352\u001b[0m \u001b[32m━━━━━━━━━━━━━━━━━━━━\u001b[0m\u001b[37m\u001b[0m \u001b[1m1s\u001b[0m 1ms/step - loss: 3.1629e-07 - val_loss: 3.1852e-07\n",
      "Epoch 17/40\n",
      "\u001b[1m352/352\u001b[0m \u001b[32m━━━━━━━━━━━━━━━━━━━━\u001b[0m\u001b[37m\u001b[0m \u001b[1m1s\u001b[0m 2ms/step - loss: 3.1561e-07 - val_loss: 3.1689e-07\n",
      "Epoch 18/40\n",
      "\u001b[1m352/352\u001b[0m \u001b[32m━━━━━━━━━━━━━━━━━━━━\u001b[0m\u001b[37m\u001b[0m \u001b[1m1s\u001b[0m 1ms/step - loss: 3.1464e-07 - val_loss: 3.1525e-07\n",
      "Epoch 19/40\n",
      "\u001b[1m352/352\u001b[0m \u001b[32m━━━━━━━━━━━━━━━━━━━━\u001b[0m\u001b[37m\u001b[0m \u001b[1m1s\u001b[0m 2ms/step - loss: 3.1401e-07 - val_loss: 3.1518e-07\n",
      "Epoch 20/40\n",
      "\u001b[1m352/352\u001b[0m \u001b[32m━━━━━━━━━━━━━━━━━━━━\u001b[0m\u001b[37m\u001b[0m \u001b[1m1s\u001b[0m 1ms/step - loss: 3.1336e-07 - val_loss: 3.1437e-07\n",
      "Epoch 21/40\n",
      "\u001b[1m352/352\u001b[0m \u001b[32m━━━━━━━━━━━━━━━━━━━━\u001b[0m\u001b[37m\u001b[0m \u001b[1m1s\u001b[0m 2ms/step - loss: 3.1199e-07 - val_loss: 3.1411e-07\n",
      "Epoch 22/40\n",
      "\u001b[1m352/352\u001b[0m \u001b[32m━━━━━━━━━━━━━━━━━━━━\u001b[0m\u001b[37m\u001b[0m \u001b[1m1s\u001b[0m 2ms/step - loss: 3.1114e-07 - val_loss: 3.1402e-07\n",
      "Epoch 23/40\n",
      "\u001b[1m352/352\u001b[0m \u001b[32m━━━━━━━━━━━━━━━━━━━━\u001b[0m\u001b[37m\u001b[0m \u001b[1m1s\u001b[0m 2ms/step - loss: 3.1050e-07 - val_loss: 3.1190e-07\n",
      "Epoch 24/40\n",
      "\u001b[1m352/352\u001b[0m \u001b[32m━━━━━━━━━━━━━━━━━━━━\u001b[0m\u001b[37m\u001b[0m \u001b[1m1s\u001b[0m 2ms/step - loss: 3.0990e-07 - val_loss: 3.1358e-07\n",
      "Epoch 25/40\n",
      "\u001b[1m352/352\u001b[0m \u001b[32m━━━━━━━━━━━━━━━━━━━━\u001b[0m\u001b[37m\u001b[0m \u001b[1m1s\u001b[0m 2ms/step - loss: 3.0940e-07 - val_loss: 3.1177e-07\n",
      "Epoch 26/40\n",
      "\u001b[1m352/352\u001b[0m \u001b[32m━━━━━━━━━━━━━━━━━━━━\u001b[0m\u001b[37m\u001b[0m \u001b[1m1s\u001b[0m 2ms/step - loss: 3.0865e-07 - val_loss: 3.1251e-07\n",
      "Epoch 27/40\n",
      "\u001b[1m352/352\u001b[0m \u001b[32m━━━━━━━━━━━━━━━━━━━━\u001b[0m\u001b[37m\u001b[0m \u001b[1m1s\u001b[0m 2ms/step - loss: 3.0876e-07 - val_loss: 3.1232e-07\n",
      "Epoch 28/40\n",
      "\u001b[1m352/352\u001b[0m \u001b[32m━━━━━━━━━━━━━━━━━━━━\u001b[0m\u001b[37m\u001b[0m \u001b[1m1s\u001b[0m 2ms/step - loss: 3.0835e-07 - val_loss: 3.1068e-07\n",
      "Epoch 29/40\n",
      "\u001b[1m352/352\u001b[0m \u001b[32m━━━━━━━━━━━━━━━━━━━━\u001b[0m\u001b[37m\u001b[0m \u001b[1m1s\u001b[0m 2ms/step - loss: 3.0803e-07 - val_loss: 3.1259e-07\n",
      "Epoch 30/40\n",
      "\u001b[1m352/352\u001b[0m \u001b[32m━━━━━━━━━━━━━━━━━━━━\u001b[0m\u001b[37m\u001b[0m \u001b[1m1s\u001b[0m 2ms/step - loss: 3.0871e-07 - val_loss: 3.1215e-07\n",
      "Epoch 31/40\n",
      "\u001b[1m352/352\u001b[0m \u001b[32m━━━━━━━━━━━━━━━━━━━━\u001b[0m\u001b[37m\u001b[0m \u001b[1m1s\u001b[0m 2ms/step - loss: 3.0631e-07 - val_loss: 3.0955e-07\n",
      "Epoch 32/40\n",
      "\u001b[1m352/352\u001b[0m \u001b[32m━━━━━━━━━━━━━━━━━━━━\u001b[0m\u001b[37m\u001b[0m \u001b[1m1s\u001b[0m 2ms/step - loss: 3.0768e-07 - val_loss: 3.1008e-07\n",
      "Epoch 33/40\n",
      "\u001b[1m352/352\u001b[0m \u001b[32m━━━━━━━━━━━━━━━━━━━━\u001b[0m\u001b[37m\u001b[0m \u001b[1m1s\u001b[0m 2ms/step - loss: 3.0650e-07 - val_loss: 3.0968e-07\n",
      "Epoch 34/40\n",
      "\u001b[1m352/352\u001b[0m \u001b[32m━━━━━━━━━━━━━━━━━━━━\u001b[0m\u001b[37m\u001b[0m \u001b[1m1s\u001b[0m 2ms/step - loss: 3.0582e-07 - val_loss: 3.1105e-07\n",
      "Epoch 35/40\n",
      "\u001b[1m352/352\u001b[0m \u001b[32m━━━━━━━━━━━━━━━━━━━━\u001b[0m\u001b[37m\u001b[0m \u001b[1m1s\u001b[0m 2ms/step - loss: 3.0590e-07 - val_loss: 3.1032e-07\n",
      "Epoch 36/40\n",
      "\u001b[1m352/352\u001b[0m \u001b[32m━━━━━━━━━━━━━━━━━━━━\u001b[0m\u001b[37m\u001b[0m \u001b[1m1s\u001b[0m 2ms/step - loss: 3.0534e-07 - val_loss: 3.0859e-07\n",
      "Epoch 37/40\n",
      "\u001b[1m352/352\u001b[0m \u001b[32m━━━━━━━━━━━━━━━━━━━━\u001b[0m\u001b[37m\u001b[0m \u001b[1m1s\u001b[0m 2ms/step - loss: 3.0563e-07 - val_loss: 3.0785e-07\n",
      "Epoch 38/40\n",
      "\u001b[1m352/352\u001b[0m \u001b[32m━━━━━━━━━━━━━━━━━━━━\u001b[0m\u001b[37m\u001b[0m \u001b[1m1s\u001b[0m 2ms/step - loss: 3.0491e-07 - val_loss: 3.0840e-07\n",
      "Epoch 39/40\n",
      "\u001b[1m352/352\u001b[0m \u001b[32m━━━━━━━━━━━━━━━━━━━━\u001b[0m\u001b[37m\u001b[0m \u001b[1m1s\u001b[0m 2ms/step - loss: 3.0511e-07 - val_loss: 3.0863e-07\n",
      "Epoch 40/40\n",
      "\u001b[1m352/352\u001b[0m \u001b[32m━━━━━━━━━━━━━━━━━━━━\u001b[0m\u001b[37m\u001b[0m \u001b[1m1s\u001b[0m 2ms/step - loss: 3.0437e-07 - val_loss: 3.0790e-07\n"
     ]
    }
   ],
   "source": [
    "solver = TSPSolver(num_cities=N)\n",
    "solver.train(X_train, Y_train, epochs=40)"
   ]
  },
  {
   "cell_type": "markdown",
   "id": "9e54e75b-d252-47e7-85b9-12b19b07673a",
   "metadata": {},
   "source": [
    "### Проверка обученной модели"
   ]
  },
  {
   "cell_type": "code",
   "execution_count": 15,
   "id": "1ace715c-70d6-4fdd-ae43-2c3161e2aa5a",
   "metadata": {
    "jupyter": {
     "source_hidden": true
    }
   },
   "outputs": [],
   "source": [
    "def predict_route(solver, dist_matrix, is_rnd = False, num_iter = 500):\n",
    "    ap = solver.model.predict(dist_matrix[np.newaxis, ...], verbose=0)[0]\n",
    "    num_cities = dist_matrix.shape[0]\n",
    "    best_route = []\n",
    "    best_dist = np.inf\n",
    "    for _ in range(num_iter):\n",
    "        current = 0\n",
    "        route = [current]\n",
    "        total_dist = 0\n",
    "        for _ in range(num_cities-1):\n",
    "            probs = ap[current].copy()\n",
    "            if is_rnd: probs = np.full_like(probs, 1) \n",
    "            # Маскируем посещенные города\n",
    "            probs[route] = 0\n",
    "            # Выбираем следующий город\n",
    "            next_city = rand.choice(range(num_cities), p=(probs / np.sum(probs)))\n",
    "            route.append(next_city)\n",
    "            total_dist += dist_matrix[current, next_city]\n",
    "            current = next_city\n",
    "        total_dist += dist_matrix[route[-1], route[0]]\n",
    "        if total_dist < best_dist:\n",
    "            best_dist = total_dist\n",
    "            best_route = route\n",
    "    return np.array(best_route), best_dist"
   ]
  },
  {
   "cell_type": "code",
   "execution_count": 16,
   "id": "ccbb483f-f33a-4802-aba9-618090ae7034",
   "metadata": {
    "jupyter": {
     "source_hidden": true
    }
   },
   "outputs": [],
   "source": [
    "def predict_geedy_route(dist_matrix):\n",
    "    num_cities = dist_matrix.shape[0]\n",
    "    current = 0\n",
    "    route = [current]\n",
    "    next_city = np.argmax(dist_matrix[current])\n",
    "    route.append(next_city)\n",
    "    total_dist = dist_matrix[current, next_city]\n",
    "    current = next_city\n",
    "    for _ in range(num_cities-2):\n",
    "        a = dist_matrix[current].copy()\n",
    "        # Маскируем посещенные города\n",
    "        a[route] = np.inf\n",
    "        # Выбираем следующий город\n",
    "        next_city = np.argmin(a)\n",
    "        route.append(next_city)\n",
    "        total_dist += dist_matrix[current, next_city]\n",
    "        current = next_city\n",
    "    total_dist += dist_matrix[route[-1], route[0]]\n",
    "    return np.array(route), total_dist"
   ]
  },
  {
   "cell_type": "code",
   "execution_count": 99,
   "id": "35e3caef-5686-4b9a-ae45-64b4c032f4e1",
   "metadata": {
    "jupyter": {
     "source_hidden": true
    }
   },
   "outputs": [],
   "source": [
    "def predict_beam_search(solver, distance_matrix, beam_width=3):\n",
    "    ap = solver.model.predict(distance_matrix[np.newaxis, ...], verbose=0)[0]\n",
    "    num_cities = distance_matrix.shape[0]\n",
    "    beams = [([0], set(range(0, num_cities)) - {0}, 0)]\n",
    "    \n",
    "    for i in range(1, num_cities):\n",
    "        new_beams = []\n",
    "        for route, remaining, dist in beams:\n",
    "            # Топ-K городов \n",
    "            top_cities = sorted(remaining, key=lambda x: ap[route[-1],x], reverse=True)[:beam_width]\n",
    "            for city in top_cities:\n",
    "                new_route = route + [city]\n",
    "                if next((x for x in new_beams if x[0] == new_route), False):\n",
    "                   continue\n",
    "                new_remaining = remaining - {city}\n",
    "                new_dist = dist + distance_matrix[route[-1], city]\n",
    "                if i == num_cities-1:\n",
    "                    dist += distance_matrix[route[-1], route[0]]\n",
    "                new_beams.append((new_route, new_remaining, new_dist))\n",
    "        # Выбираем лучшие beam_width вариантов\n",
    "        beams = sorted(new_beams, key=lambda x: x[2])[:beam_width]\n",
    "        \n",
    "    # Лучший маршрут\n",
    "    best_route, _, best_dist = min(beams, key=lambda x: x[2])\n",
    "    \n",
    "    return best_route, best_dist\n"
   ]
  },
  {
   "cell_type": "code",
   "execution_count": 114,
   "id": "24b74467-17e5-44e2-8948-59f8a4c57e2f",
   "metadata": {},
   "outputs": [
    {
     "name": "stderr",
     "output_type": "stream",
     "text": [
      "100%|██████████| 50/50 [00:11<00:00,  4.39it/s]\n"
     ]
    }
   ],
   "source": [
    "cnt = 50\n",
    "ld = []\n",
    "lp = []\n",
    "lg = []\n",
    "lr = []\n",
    "lb = []\n",
    "for i in tqdm(range(cnt)):\n",
    "    a = rand.normal(20, 5, size=(N, N))\n",
    "    # a = np.round((a + a.T)/2,2)\n",
    "    a[np.eye(N)==1] = 0\n",
    "    permutation, distance = solve_tsp_dynamic_programming(a)\n",
    "    route, total_dist = predict_route(solver, a, False, 500)\n",
    "    #route, dist = predict_geedy_route(a)\n",
    "    #route, rdist = predict_route(solver, a, True, 500)\n",
    "    route, bdist = predict_beam_search(solver, a, beam_width=3)\n",
    "    ld.append(distance)\n",
    "    lp.append(total_dist)\n",
    "    #lg.append(dist)\n",
    "    #lr.append(rdist)\n",
    "    lb.append(bdist)\n",
    "Y_predict = np.array(lp)\n",
    "Y_true = np.array(ld)\n",
    "#Y_greedy = np.array(lg)\n",
    "#Y_rnd = np.array(lr)\n",
    "Y_beam = np.array(lb)"
   ]
  },
  {
   "cell_type": "code",
   "execution_count": 115,
   "id": "71f20ce5-7641-4f84-8079-a407ea5a2fdb",
   "metadata": {},
   "outputs": [
    {
     "data": {
      "text/plain": [
       "(0.09942739773855434, 0.05523299747119058)"
      ]
     },
     "execution_count": 115,
     "metadata": {},
     "output_type": "execute_result"
    }
   ],
   "source": [
    "mean_absolute_percentage_error(Y_true, Y_predict), \\\n",
    "mean_absolute_percentage_error(Y_true, Y_beam)\n",
    "#mean_absolute_percentage_error(Y_true, Y_greedy), \\\n",
    "#mean_absolute_percentage_error(Y_true, Y_rnd), \\"
   ]
  },
  {
   "cell_type": "code",
   "execution_count": 77,
   "id": "25a2cd21-dc07-4901-96d9-a773d3272aa4",
   "metadata": {},
   "outputs": [
    {
     "data": {
      "text/plain": [
       "(np.int64(0), np.int64(0))"
      ]
     },
     "execution_count": 77,
     "metadata": {},
     "output_type": "execute_result"
    }
   ],
   "source": [
    "# Сколько случаев действительно плохого прогноза\n",
    "sum(((Y_predict - Y_true) / Y_true) > 0.2), \\\n",
    "sum(((Y_beam - Y_true) / Y_true) > 0.2)\n",
    "#sum(((Y_greedy - Y_true) / Y_true) > 0.2), \\\n",
    "#sum(((Y_rnd - Y_true) / Y_true) > 0.2), \\\n"
   ]
  },
  {
   "cell_type": "code",
   "execution_count": null,
   "id": "a19c42d3-6a57-41f4-952d-84d770f29da9",
   "metadata": {},
   "outputs": [],
   "source": [
    "%timeit predict_beam_search(solver, a)"
   ]
  },
  {
   "cell_type": "code",
   "execution_count": 37,
   "id": "c1c70e7e-8c11-464e-be47-2bfc51640c3a",
   "metadata": {},
   "outputs": [
    {
     "name": "stdout",
     "output_type": "stream",
     "text": [
      "49 μs ± 3.68 μs per loop (mean ± std. dev. of 7 runs, 10,000 loops each)\n"
     ]
    }
   ],
   "source": [
    "%timeit predict_geedy_route(a)"
   ]
  },
  {
   "cell_type": "code",
   "execution_count": 113,
   "id": "58ba83b6-4aa1-402e-9bc2-69df8c20f20a",
   "metadata": {},
   "outputs": [
    {
     "name": "stdout",
     "output_type": "stream",
     "text": [
      "73.1 ms ± 512 μs per loop (mean ± std. dev. of 7 runs, 10 loops each)\n"
     ]
    }
   ],
   "source": [
    "%timeit predict_route(solver, a, False, 25)"
   ]
  },
  {
   "cell_type": "code",
   "execution_count": 39,
   "id": "fa8e82b1-0f8d-47d8-89fe-2817f73866af",
   "metadata": {},
   "outputs": [
    {
     "name": "stdout",
     "output_type": "stream",
     "text": [
      "52.7 ms ± 582 μs per loop (mean ± std. dev. of 7 runs, 10 loops each)\n"
     ]
    }
   ],
   "source": [
    "%timeit solve_tsp_dynamic_programming(a)"
   ]
  },
  {
   "cell_type": "code",
   "execution_count": 52,
   "id": "263a8060-a738-4941-ae8e-32ec9937ca9c",
   "metadata": {},
   "outputs": [
    {
     "name": "stdout",
     "output_type": "stream",
     "text": [
      "105 ms ± 323 μs per loop (mean ± std. dev. of 7 runs, 10 loops each)\n"
     ]
    }
   ],
   "source": [
    "%timeit predict_route(solver, a, True)"
   ]
  },
  {
   "cell_type": "code",
   "execution_count": 70,
   "id": "89c149d9-dbb1-4f73-a667-1138709614af",
   "metadata": {},
   "outputs": [
    {
     "name": "stdout",
     "output_type": "stream",
     "text": [
      "13 ms ± 142 μs per loop (mean ± std. dev. of 7 runs, 100 loops each)\n"
     ]
    }
   ],
   "source": [
    "%timeit solve_tsp_branch_and_bound(a)"
   ]
  },
  {
   "cell_type": "code",
   "execution_count": 82,
   "id": "1107a9b3-c5aa-4226-b2c8-61b68f2948ba",
   "metadata": {},
   "outputs": [
    {
     "name": "stdout",
     "output_type": "stream",
     "text": [
      "1.58 ms ± 22.9 μs per loop (mean ± std. dev. of 7 runs, 1,000 loops each)\n"
     ]
    }
   ],
   "source": [
    "%timeit solve_tsp_local_search(a)"
   ]
  },
  {
   "cell_type": "code",
   "execution_count": 86,
   "id": "db205318-629b-40e8-9d10-47b8e5b81488",
   "metadata": {},
   "outputs": [
    {
     "name": "stdout",
     "output_type": "stream",
     "text": [
      "51.2 ms ± 12.9 ms per loop (mean ± std. dev. of 7 runs, 10 loops each)\n"
     ]
    }
   ],
   "source": [
    "%timeit solve_tsp_simulated_annealing(a)"
   ]
  },
  {
   "cell_type": "code",
   "execution_count": null,
   "id": "5cc95984-b01c-4298-93fb-038485885c37",
   "metadata": {},
   "outputs": [],
   "source": [
    "# Не стабильно\n",
    "# solve_tsp_lin_kernighan(a), solve_tsp_record_to_record(a[:5,:5])"
   ]
  },
  {
   "cell_type": "code",
   "execution_count": null,
   "id": "170c04b9-d5a1-4342-957b-4b6f302be6f4",
   "metadata": {},
   "outputs": [],
   "source": []
  }
 ],
 "metadata": {
  "kernelspec": {
   "display_name": "Python 3 (ipykernel)",
   "language": "python",
   "name": "python3"
  },
  "language_info": {
   "codemirror_mode": {
    "name": "ipython",
    "version": 3
   },
   "file_extension": ".py",
   "mimetype": "text/x-python",
   "name": "python",
   "nbconvert_exporter": "python",
   "pygments_lexer": "ipython3",
   "version": "3.12.9"
  }
 },
 "nbformat": 4,
 "nbformat_minor": 5
}
