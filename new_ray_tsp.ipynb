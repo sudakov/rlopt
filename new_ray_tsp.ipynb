{
 "cells": [
  {
   "cell_type": "code",
   "execution_count": 1,
   "id": "cba29f49-1317-42de-b1f8-73f989529ab9",
   "metadata": {},
   "outputs": [
    {
     "name": "stderr",
     "output_type": "stream",
     "text": [
      "WARNING: All log messages before absl::InitializeLog() is called are written to STDERR\n",
      "E0000 00:00:1747585013.112253  221195 cuda_dnn.cc:8579] Unable to register cuDNN factory: Attempting to register factory for plugin cuDNN when one has already been registered\n",
      "E0000 00:00:1747585013.115834  221195 cuda_blas.cc:1407] Unable to register cuBLAS factory: Attempting to register factory for plugin cuBLAS when one has already been registered\n",
      "W0000 00:00:1747585013.124880  221195 computation_placer.cc:177] computation placer already registered. Please check linkage and avoid linking the same target more than once.\n",
      "W0000 00:00:1747585013.124888  221195 computation_placer.cc:177] computation placer already registered. Please check linkage and avoid linking the same target more than once.\n",
      "W0000 00:00:1747585013.124889  221195 computation_placer.cc:177] computation placer already registered. Please check linkage and avoid linking the same target more than once.\n",
      "W0000 00:00:1747585013.124890  221195 computation_placer.cc:177] computation placer already registered. Please check linkage and avoid linking the same target more than once.\n"
     ]
    }
   ],
   "source": [
    "import numpy as np\n",
    "import gymnasium as gym\n",
    "from ray.rllib.algorithms.ppo import PPOConfig\n",
    "from ray.rllib.models.catalog import MODEL_DEFAULTS\n",
    "from ray.rllib.algorithms.algorithm import Algorithm\n",
    "from ray.rllib.env.env_context import EnvContext\n",
    "from ray.rllib.utils.typing import MultiAgentDict, PolicyID\n",
    "from ray.rllib.connectors.env_to_module import FlattenObservations\n",
    "from ray.rllib.core.rl_module.default_model_config import DefaultModelConfig\n",
    "from ray.tune.registry import register_env\n",
    "import ray\n",
    "import torch\n",
    "from pprint import pprint\n",
    "from ray.rllib.core.rl_module import RLModule\n",
    "import pathlib\n",
    "from python_tsp.exact import solve_tsp_branch_and_bound"
   ]
  },
  {
   "cell_type": "code",
   "execution_count": 2,
   "id": "b28751c8-49ba-4c42-9627-d333815f9acf",
   "metadata": {},
   "outputs": [],
   "source": [
    "class TspObsEnv(gym.Env):\n",
    "    def __init__(self, config: EnvContext):\n",
    "        super().__init__()\n",
    "        self.n = config['n']\n",
    "        self.pa = config['a'][:self.n,:self.n]\n",
    "        self.a = np.array(self.pa, dtype=np.float32)\n",
    "        self.action_space = gym.spaces.Discrete(self.n-1, start=1)\n",
    "        self.observation_space = gym.spaces.Box(low=0.0, high=1.0, \n",
    "                                                shape=(self.n,self.n), dtype=np.float32)\n",
    "\n",
    "    def reset(self, seed=None, options=None):\n",
    "        super().reset(seed=seed)\n",
    "        self.a = np.array(self.pa, dtype=np.float32)\n",
    "        return self.a, {}\n",
    "\n",
    "    def step(self, action):     \n",
    "        terminated = False\n",
    "        truncated = False\n",
    "        if self.a[0,action] > 0.0:\n",
    "            reward = - self.a[0,action]\n",
    "            self.a[:, 0] = self.a[:, action]\n",
    "            self.a[0, :] = self.a[action, :]\n",
    "            self.a[:, action:-1] = self.a[:, action+1:]\n",
    "            self.a[action:-1, :] = self.a[action+1:, :]\n",
    "            self.a[:,-1] = 0.0\n",
    "            self.a[-1:] = 0.0\n",
    "            if np.sum(self.a) == 0.0:\n",
    "                terminated = True\n",
    "        else:\n",
    "            reward = -0.1\n",
    "        info = {}\n",
    "        \n",
    "        return self.a, reward, terminated, truncated, info\n",
    "# Регистрация среды\n",
    "def env_creator(config):\n",
    "    return TspObsEnv(config)\n",
    "register_env(\"TSPObsEnv\", env_creator)\n",
    "\n",
    "gym.register(\n",
    "    id=\"gymnasium_env/TspObsEnv\",\n",
    "    entry_point=TspObsEnv,\n",
    ")"
   ]
  },
  {
   "cell_type": "code",
   "execution_count": 3,
   "id": "8780d44f-0bd8-4490-aca1-f76b59818ff9",
   "metadata": {},
   "outputs": [],
   "source": [
    "X = np.load('X_20x20_fixed.npy')[0]\n",
    "n = 5"
   ]
  },
  {
   "cell_type": "code",
   "execution_count": 4,
   "id": "c3c81759-faa4-491c-9706-d6ccc3b931fb",
   "metadata": {},
   "outputs": [
    {
     "name": "stdout",
     "output_type": "stream",
     "text": [
      "0 2 [0, 2, 1, 3, 4]\n",
      "1 3 [0, 2, 4, 1, 3]\n",
      "2 4 [0, 2, 4, 1, 3]\n",
      "3 4 [0, 2, 4, 1, 3]\n",
      "4 1 [0, 2, 4, 1, 3]\n",
      "5 1 [0, 2, 4, 1, 3]\n"
     ]
    }
   ],
   "source": [
    "env = gym.make(\"gymnasium_env/TspObsEnv\", config = {'n': n, 'a': X})\n",
    "env.action_space.seed(1)\n",
    "observation, info = env.reset(seed = 1)\n",
    "episode_over = False\n",
    "i = 0\n",
    "path = list(range(n))\n",
    "curr_i = 0\n",
    "while not episode_over and i < 30:\n",
    "    action = env.action_space.sample()\n",
    "    if curr_i + action < n:\n",
    "        v = path.pop(curr_i + action)\n",
    "        curr_i += 1\n",
    "        path.insert(curr_i, v)\n",
    "    print(i, action, path)\n",
    "    observation, reward, terminated, truncated, info = env.step(action)\n",
    "    \n",
    "    i += 1\n",
    "    episode_over = terminated or truncated\n",
    "env.close()"
   ]
  },
  {
   "cell_type": "code",
   "execution_count": 5,
   "id": "4a799f88-ffcf-498e-ab9f-074cf5c0eefa",
   "metadata": {},
   "outputs": [],
   "source": [
    "# Configure the algorithm.\n",
    "config = (\n",
    "    PPOConfig()\n",
    "    .environment(\"TSPObsEnv\", env_config = {'n': n, 'a': X})\n",
    "    .env_runners(\n",
    "        num_env_runners=7,\n",
    "        # Observations are discrete (ints) -> We need to flatten (one-hot) them.\n",
    "        env_to_module_connector=lambda env: FlattenObservations(),\n",
    "    )\n",
    "    #.evaluation(evaluation_num_env_runners=1)\n",
    ")"
   ]
  },
  {
   "cell_type": "code",
   "execution_count": 6,
   "id": "a8550012-3880-475e-be10-eca3cb166e7d",
   "metadata": {
    "scrolled": true
   },
   "outputs": [
    {
     "name": "stderr",
     "output_type": "stream",
     "text": [
      "2025-05-18 16:16:56,740\tWARNING algorithm_config.py:4968 -- You are running PPO on the new API stack! This is the new default behavior for this algorithm. If you don't want to use the new API stack, set `config.api_stack(enable_rl_module_and_learner=False,enable_env_runner_and_connector_v2=False)`. For a detailed migration guide, see here: https://docs.ray.io/en/master/rllib/new-api-stack-migration-guide.html\n",
      "/home/vladimir/.pyenv/versions/3.12.9/lib/python3.12/site-packages/ray/rllib/algorithms/algorithm.py:521: RayDeprecationWarning: This API is deprecated and may be removed in future Ray releases. You could suppress this warning by setting env variable PYTHONWARNINGS=\"ignore::DeprecationWarning\"\n",
      "`UnifiedLogger` will be removed in Ray 2.7.\n",
      "  return UnifiedLogger(config, logdir, loggers=None)\n",
      "/home/vladimir/.pyenv/versions/3.12.9/lib/python3.12/site-packages/ray/tune/logger/unified.py:53: RayDeprecationWarning: This API is deprecated and may be removed in future Ray releases. You could suppress this warning by setting env variable PYTHONWARNINGS=\"ignore::DeprecationWarning\"\n",
      "The `JsonLogger interface is deprecated in favor of the `ray.tune.json.JsonLoggerCallback` interface and will be removed in Ray 2.7.\n",
      "  self._loggers.append(cls(self.config, self.logdir, self.trial))\n",
      "/home/vladimir/.pyenv/versions/3.12.9/lib/python3.12/site-packages/ray/tune/logger/unified.py:53: RayDeprecationWarning: This API is deprecated and may be removed in future Ray releases. You could suppress this warning by setting env variable PYTHONWARNINGS=\"ignore::DeprecationWarning\"\n",
      "The `CSVLogger interface is deprecated in favor of the `ray.tune.csv.CSVLoggerCallback` interface and will be removed in Ray 2.7.\n",
      "  self._loggers.append(cls(self.config, self.logdir, self.trial))\n",
      "/home/vladimir/.pyenv/versions/3.12.9/lib/python3.12/site-packages/ray/tune/logger/unified.py:53: RayDeprecationWarning: This API is deprecated and may be removed in future Ray releases. You could suppress this warning by setting env variable PYTHONWARNINGS=\"ignore::DeprecationWarning\"\n",
      "The `TBXLogger interface is deprecated in favor of the `ray.tune.tensorboardx.TBXLoggerCallback` interface and will be removed in Ray 2.7.\n",
      "  self._loggers.append(cls(self.config, self.logdir, self.trial))\n",
      "2025-05-18 16:16:58,651\tINFO worker.py:1879 -- Started a local Ray instance. View the dashboard at \u001b[1m\u001b[32mhttp://127.0.0.1:8265 \u001b[39m\u001b[22m\n",
      "\u001b[36m(pid=221971)\u001b[0m WARNING: All log messages before absl::InitializeLog() is called are written to STDERR\n",
      "\u001b[36m(pid=221971)\u001b[0m E0000 00:00:1747585019.793778  221971 cuda_dnn.cc:8579] Unable to register cuDNN factory: Attempting to register factory for plugin cuDNN when one has already been registered\n",
      "\u001b[36m(pid=221971)\u001b[0m E0000 00:00:1747585019.797519  221971 cuda_blas.cc:1407] Unable to register cuBLAS factory: Attempting to register factory for plugin cuBLAS when one has already been registered\n",
      "\u001b[36m(pid=221971)\u001b[0m W0000 00:00:1747585019.806947  221971 computation_placer.cc:177] computation placer already registered. Please check linkage and avoid linking the same target more than once.\n",
      "\u001b[36m(pid=221971)\u001b[0m W0000 00:00:1747585019.806971  221971 computation_placer.cc:177] computation placer already registered. Please check linkage and avoid linking the same target more than once.\n",
      "\u001b[36m(pid=221971)\u001b[0m W0000 00:00:1747585019.806973  221971 computation_placer.cc:177] computation placer already registered. Please check linkage and avoid linking the same target more than once.\n",
      "\u001b[36m(pid=221971)\u001b[0m W0000 00:00:1747585019.806974  221971 computation_placer.cc:177] computation placer already registered. Please check linkage and avoid linking the same target more than once.\n",
      "\u001b[36m(SingleAgentEnvRunner pid=221971)\u001b[0m 2025-05-18 16:17:04,025\tWARNING deprecation.py:50 -- DeprecationWarning: `RLModule(config=[RLModuleConfig object])` has been deprecated. Use `RLModule(observation_space=.., action_space=.., inference_only=.., model_config=.., catalog_class=..)` instead. This will raise an error in the future!\n",
      "2025-05-18 16:17:04,398\tWARNING deprecation.py:50 -- DeprecationWarning: `RLModule(config=[RLModuleConfig object])` has been deprecated. Use `RLModule(observation_space=.., action_space=.., inference_only=.., model_config=.., catalog_class=..)` instead. This will raise an error in the future!\n",
      "2025-05-18 16:17:05,248\tWARNING util.py:61 -- Install gputil for GPU system monitoring.\n"
     ]
    }
   ],
   "source": [
    "algo = config.build_algo()"
   ]
  },
  {
   "cell_type": "code",
   "execution_count": 7,
   "id": "d0d834d7-d751-486b-a348-102a9127d8f6",
   "metadata": {},
   "outputs": [
    {
     "name": "stdout",
     "output_type": "stream",
     "text": [
      "0\n",
      "Checkpoint saved in directory /tmp/8cf2a34c-bbd5-48cb-81d6-3c6322137b1e\n",
      "1\n",
      "Checkpoint saved in directory /tmp/8309267a-d8c7-4e12-8400-33306c568434\n",
      "2\n",
      "Checkpoint saved in directory /tmp/2b6b5fcb-a692-42a8-875a-c3c3b17a3fa5\n",
      "3\n",
      "Checkpoint saved in directory /tmp/99283a3a-b1df-4007-a202-7e3c20e610af\n",
      "4\n",
      "Checkpoint saved in directory /tmp/2821c964-2d79-4db3-97c4-4dadd370abfe\n"
     ]
    }
   ],
   "source": [
    "for i in range(5):\n",
    "    algo.train()\n",
    "    print(i)\n",
    "    checkpoint_dir = algo.save_to_path()\n",
    "    print(f\"Checkpoint saved in directory {checkpoint_dir}\")"
   ]
  },
  {
   "cell_type": "code",
   "execution_count": 8,
   "id": "1c3db175-4eb2-4a80-9c59-0d098ced47f0",
   "metadata": {},
   "outputs": [],
   "source": [
    "#rl_module = algo.get_module()\n",
    "rl_module = RLModule.from_checkpoint(\n",
    "    pathlib.Path(checkpoint_dir ) / \"learner_group\" / \"learner\" / \"rl_module\" #best_checkpoint.path\n",
    ")[\"default_policy\"]"
   ]
  },
  {
   "cell_type": "code",
   "execution_count": 9,
   "id": "c1ad4046-720b-486b-9f21-10dfc5ad6962",
   "metadata": {},
   "outputs": [
    {
     "name": "stdout",
     "output_type": "stream",
     "text": [
      "0 3 [0, 3, 1, 2, 4] -0.45384774\n",
      "1 3 [0, 3, 4, 1, 2] -0.6959624\n",
      "2 2 [0, 3, 4, 2, 1] -0.6491428\n",
      "3 1 [0, 3, 4, 2, 1] -0.48258537\n",
      "-2.2815385\n"
     ]
    }
   ],
   "source": [
    "env = gym.make(\"gymnasium_env/TspObsEnv\", config = {'n': n, 'a': X})\n",
    "observation, info = env.reset()\n",
    "episode_over = False\n",
    "i = 0\n",
    "path = list(range(n))\n",
    "curr_i = 0\n",
    "s = 0\n",
    "while not episode_over and i < 30:\n",
    "    action_logits = rl_module.forward_inference({'obs': \n",
    "       torch.from_numpy(gym.spaces.flatten(env.observation_space, \n",
    "                                           observation)).unsqueeze(0)})[\n",
    "        \"action_dist_inputs\"\n",
    "    ]\n",
    "    action = torch.argmax(action_logits[0]).numpy()\n",
    "    observation, reward, terminated, truncated, info = env.step(action)\n",
    "    if curr_i + action < n:\n",
    "        v = path.pop(curr_i + action)\n",
    "        curr_i += 1\n",
    "        path.insert(curr_i, v)\n",
    "        s += reward\n",
    "    print(i, action, path, reward)\n",
    "    i += 1\n",
    "    episode_over = terminated or truncated\n",
    "env.close()\n",
    "print(s)"
   ]
  },
  {
   "cell_type": "code",
   "execution_count": 10,
   "id": "c8a168ae-5924-452f-9c3b-fc0784806392",
   "metadata": {},
   "outputs": [
    {
     "data": {
      "text/plain": [
       "np.float64(2.2815383570027787)"
      ]
     },
     "execution_count": 10,
     "metadata": {},
     "output_type": "execute_result"
    }
   ],
   "source": [
    "sum(X[i,j] for i,j in zip(path[:-1],path[1:]))"
   ]
  },
  {
   "cell_type": "code",
   "execution_count": 11,
   "id": "702eecf9-8b97-43f4-aff7-a23f8df27c67",
   "metadata": {},
   "outputs": [
    {
     "data": {
      "text/plain": [
       "([0, 3, 4, 2, 1], np.float64(2.281538357002779))"
      ]
     },
     "execution_count": 11,
     "metadata": {},
     "output_type": "execute_result"
    }
   ],
   "source": [
    "distance_matrix = X[:n,:n].copy()\n",
    "distance_matrix[:, 0] = 0\n",
    "solve_tsp_branch_and_bound(distance_matrix)"
   ]
  },
  {
   "cell_type": "code",
   "execution_count": null,
   "id": "d8180436-fd89-4327-85db-4c6fd67a7558",
   "metadata": {},
   "outputs": [],
   "source": []
  }
 ],
 "metadata": {
  "kernelspec": {
   "display_name": "Python 3 (ipykernel)",
   "language": "python",
   "name": "python3"
  },
  "language_info": {
   "codemirror_mode": {
    "name": "ipython",
    "version": 3
   },
   "file_extension": ".py",
   "mimetype": "text/x-python",
   "name": "python",
   "nbconvert_exporter": "python",
   "pygments_lexer": "ipython3",
   "version": "3.12.9"
  }
 },
 "nbformat": 4,
 "nbformat_minor": 5
}
