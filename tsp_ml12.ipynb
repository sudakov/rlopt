{
 "cells": [
  {
   "cell_type": "markdown",
   "id": "e0b76303-0641-468a-94b2-2b1414759fce",
   "metadata": {},
   "source": [
    "# Обучение с учителем для решения задач коммивояжера\n"
   ]
  },
  {
   "cell_type": "code",
   "execution_count": null,
   "id": "3ae68ec8-1737-4490-ae49-1139d3c815e6",
   "metadata": {
    "jupyter": {
     "source_hidden": true
    }
   },
   "outputs": [],
   "source": [
    "import os\n",
    "import tensorflow as tf\n",
    "os.environ['TF_CPP_MIN_LOG_LEVEL'] = '2'  # Скрывает INFO-логи (оставляет WARNING и ERROR)\n",
    "tf.get_logger().setLevel('ERROR')  # Скрывает большинство логов TensorFlow\n",
    "import logging\n",
    "logging.getLogger('tensorflow').setLevel(logging.ERROR)\n",
    "\n",
    "import absl.logging\n",
    "absl.logging.set_verbosity(absl.logging.ERROR)"
   ]
  },
  {
   "cell_type": "code",
   "execution_count": 2,
   "id": "58cef161-e45d-43f9-8a3e-8b407265b3f7",
   "metadata": {},
   "outputs": [],
   "source": [
    "import numpy as np\n",
    "from tensorflow.keras.layers import Input, Dense, LayerNormalization\n",
    "from tensorflow.keras.models import Model\n",
    "from tensorflow.keras.optimizers import Adam\n",
    "from tensorflow.keras import backend as K\n",
    "from tqdm import tqdm\n",
    "from python_tsp.exact import solve_tsp_dynamic_programming\n",
    "from sklearn.metrics import mean_absolute_percentage_error"
   ]
  },
  {
   "cell_type": "markdown",
   "id": "374ecaac-3813-49bb-9ce1-cbae15403042",
   "metadata": {
    "jp-MarkdownHeadingCollapsed": true
   },
   "source": [
    "### Модель предсказывает какие дуги входят в маршрут, но не их последовательность"
   ]
  },
  {
   "cell_type": "code",
   "execution_count": 3,
   "id": "2431ebc5-3df5-48c8-b68c-713e2eebb9e5",
   "metadata": {
    "editable": true,
    "jupyter": {
     "source_hidden": true
    },
    "slideshow": {
     "slide_type": ""
    },
    "tags": []
   },
   "outputs": [],
   "source": [
    "class TSPSolver:\n",
    "    def __init__(self, num_cities, hidden_dim=128):\n",
    "        self.num_cities = num_cities\n",
    "        self.hidden_dim = hidden_dim\n",
    "        self.model = self._build_model()\n",
    "    \n",
    "    def _build_model(self):\n",
    "        # Вход: матрица расстояний (batch, cities, cities)\n",
    "        inputs = Input(shape=(self.num_cities, self.num_cities))\n",
    "        \n",
    "        # Кодировщик на основе полносвязных слоев\n",
    "        x = Dense(self.hidden_dim, activation='relu')(inputs)\n",
    "        x = LayerNormalization()(x)\n",
    "        x = Dense(self.hidden_dim, activation='relu')(x)\n",
    "        x = LayerNormalization()(x)\n",
    "        \n",
    "        # Выходной слой - вероятности переходов\n",
    "        logits = Dense(self.num_cities)(x)\n",
    "        outputs = tf.keras.activations.softmax(logits)\n",
    "        \n",
    "        model = Model(inputs=inputs, outputs=outputs)\n",
    "        model.compile(optimizer=Adam(0.001), loss=self._custom_loss)\n",
    "        return model\n",
    "    \n",
    "    def _custom_loss(self, y_true, y_pred):\n",
    "        # y_true: маска посещенных городов (batch, cities, cities)\n",
    "        # y_pred: вероятности переходов (batch, cities, cities)\n",
    "        \n",
    "        # Применяем маску к предсказаниям\n",
    "        masked_pred = y_pred * y_true\n",
    "        \n",
    "        # Нормализуем вероятности\n",
    "        masked_pred = masked_pred / (K.sum(masked_pred, axis=-1, keepdims=True) + K.epsilon())\n",
    "        \n",
    "        # Вычисляем кросс-энтропию\n",
    "        loss = -K.sum(y_true * K.log(masked_pred + K.epsilon()), axis=-1)\n",
    "        return K.mean(loss)\n",
    "    \n",
    "    def train(self, X_train, routes, epochs=50, batch_size=32):\n",
    "        \"\"\"\n",
    "        X_train: матрицы расстояний (samples, cities, cities)\n",
    "        routes: оптимальные маршруты (samples, cities)\n",
    "        \"\"\"\n",
    "        # Создаем маски переходов для обучения\n",
    "        y_masks = np.zeros_like(X_train)\n",
    "        \n",
    "        for i, route in enumerate(routes):\n",
    "            for j in range(len(route)-1):\n",
    "                from_city = route[j]\n",
    "                to_city = route[j+1]\n",
    "                y_masks[i, from_city, to_city] = 1\n",
    "        \n",
    "        self.model.fit(\n",
    "            X_train,\n",
    "            y_masks,\n",
    "            epochs=epochs,\n",
    "            batch_size=batch_size,\n",
    "            validation_split=0.1\n",
    "        )\n",
    "    \n",
    "    def predict_route(self, dist_matrix):\n",
    "        current = 0\n",
    "        visited = {current}\n",
    "        route = [current]\n",
    "        \n",
    "        for _ in range(self.num_cities-1):\n",
    "            # Получаем предсказания\n",
    "            probs = self.model.predict(dist_matrix[np.newaxis, ...], verbose=0)[0, current]\n",
    "            \n",
    "            # Маскируем посещенные города\n",
    "            probs[list(visited)] = -np.inf\n",
    "            \n",
    "            # Выбираем следующий город\n",
    "            next_city = np.argmax(probs)\n",
    "            route.append(next_city)\n",
    "            visited.add(next_city)\n",
    "            current = next_city\n",
    "        \n",
    "        return np.array(route)"
   ]
  },
  {
   "cell_type": "code",
   "execution_count": 4,
   "id": "a65f130e-800f-4d72-87da-b3100843220a",
   "metadata": {},
   "outputs": [
    {
     "name": "stdout",
     "output_type": "stream",
     "text": [
      "[PhysicalDevice(name='/physical_device:GPU:0', device_type='GPU'), PhysicalDevice(name='/physical_device:GPU:1', device_type='GPU')]\n"
     ]
    }
   ],
   "source": [
    "print(tf.config.list_physical_devices('GPU'))"
   ]
  },
  {
   "cell_type": "markdown",
   "id": "e55d57fd-4da0-4a2b-ae67-8b99ecd3a419",
   "metadata": {},
   "source": [
    "### Подготовка исходных данных и поиск точного решения методом динамического программирования занимает час"
   ]
  },
  {
   "cell_type": "code",
   "execution_count": 36,
   "id": "4df6d68d-af3b-4bb4-ae30-f03fe064820a",
   "metadata": {},
   "outputs": [],
   "source": [
    "N = 12\n",
    "nlen = N*N\n",
    "rand = np.random.RandomState(1)"
   ]
  },
  {
   "cell_type": "code",
   "execution_count": null,
   "id": "3e398efc-1edc-4d1e-95e6-93220b9e38db",
   "metadata": {},
   "outputs": [],
   "source": [
    "cnt = 50000\n",
    "lx = []\n",
    "ly = []\n",
    "ld = []\n",
    "for i in tqdm(range(cnt)):\n",
    "    a = rand.normal(20, 5, size=(N, N))\n",
    "    #a = np.round((a + a.T)/2,2)\n",
    "    a[np.eye(N)==1] = 0\n",
    "    permutation, distance = solve_tsp_dynamic_programming(a)\n",
    "    lx.append(a)\n",
    "    ly.append(permutation)\n",
    "    ld.append(distance)\n",
    "X_train = np.array(lx)\n",
    "Y_train = np.array(ly)\n",
    "D_train = np.array(ld)"
   ]
  },
  {
   "cell_type": "code",
   "execution_count": 45,
   "id": "d69cb6ae-d699-4036-942e-5abee4a31725",
   "metadata": {},
   "outputs": [],
   "source": [
    "#np.save('X_train', X_train)\n",
    "#np.save('Y_train', Y_train)"
   ]
  },
  {
   "cell_type": "markdown",
   "id": "8819257c-10db-429e-8256-d6a0f0a12f14",
   "metadata": {},
   "source": [
    "### Инициализируем и обучаем модель"
   ]
  },
  {
   "cell_type": "code",
   "execution_count": 52,
   "id": "203e797d-0656-447f-8232-51506e904c6b",
   "metadata": {},
   "outputs": [
    {
     "name": "stdout",
     "output_type": "stream",
     "text": [
      "Epoch 1/40\n",
      "\u001b[1m1407/1407\u001b[0m \u001b[32m━━━━━━━━━━━━━━━━━━━━\u001b[0m\u001b[37m\u001b[0m \u001b[1m5s\u001b[0m 2ms/step - loss: 9.4134e-07 - val_loss: 5.9144e-07\n",
      "Epoch 2/40\n",
      "\u001b[1m1407/1407\u001b[0m \u001b[32m━━━━━━━━━━━━━━━━━━━━\u001b[0m\u001b[37m\u001b[0m \u001b[1m1s\u001b[0m 993us/step - loss: 5.2172e-07 - val_loss: 3.9544e-07\n",
      "Epoch 3/40\n",
      "\u001b[1m1407/1407\u001b[0m \u001b[32m━━━━━━━━━━━━━━━━━━━━\u001b[0m\u001b[37m\u001b[0m \u001b[1m1s\u001b[0m 1ms/step - loss: 3.7994e-07 - val_loss: 3.5521e-07\n",
      "Epoch 4/40\n",
      "\u001b[1m1407/1407\u001b[0m \u001b[32m━━━━━━━━━━━━━━━━━━━━\u001b[0m\u001b[37m\u001b[0m \u001b[1m1s\u001b[0m 1ms/step - loss: 3.4963e-07 - val_loss: 3.4190e-07\n",
      "Epoch 5/40\n",
      "\u001b[1m1407/1407\u001b[0m \u001b[32m━━━━━━━━━━━━━━━━━━━━\u001b[0m\u001b[37m\u001b[0m \u001b[1m1s\u001b[0m 990us/step - loss: 3.3694e-07 - val_loss: 3.3089e-07\n",
      "Epoch 6/40\n",
      "\u001b[1m1407/1407\u001b[0m \u001b[32m━━━━━━━━━━━━━━━━━━━━\u001b[0m\u001b[37m\u001b[0m \u001b[1m1s\u001b[0m 983us/step - loss: 3.3046e-07 - val_loss: 3.2723e-07\n",
      "Epoch 7/40\n",
      "\u001b[1m1407/1407\u001b[0m \u001b[32m━━━━━━━━━━━━━━━━━━━━\u001b[0m\u001b[37m\u001b[0m \u001b[1m1s\u001b[0m 963us/step - loss: 3.2611e-07 - val_loss: 3.2397e-07\n",
      "Epoch 8/40\n",
      "\u001b[1m1407/1407\u001b[0m \u001b[32m━━━━━━━━━━━━━━━━━━━━\u001b[0m\u001b[37m\u001b[0m \u001b[1m1s\u001b[0m 964us/step - loss: 3.2214e-07 - val_loss: 3.2043e-07\n",
      "Epoch 9/40\n",
      "\u001b[1m1407/1407\u001b[0m \u001b[32m━━━━━━━━━━━━━━━━━━━━\u001b[0m\u001b[37m\u001b[0m \u001b[1m1s\u001b[0m 971us/step - loss: 3.1957e-07 - val_loss: 3.2054e-07\n",
      "Epoch 10/40\n",
      "\u001b[1m1407/1407\u001b[0m \u001b[32m━━━━━━━━━━━━━━━━━━━━\u001b[0m\u001b[37m\u001b[0m \u001b[1m1s\u001b[0m 1ms/step - loss: 3.1901e-07 - val_loss: 3.2030e-07\n",
      "Epoch 11/40\n",
      "\u001b[1m1407/1407\u001b[0m \u001b[32m━━━━━━━━━━━━━━━━━━━━\u001b[0m\u001b[37m\u001b[0m \u001b[1m1s\u001b[0m 1ms/step - loss: 3.1691e-07 - val_loss: 3.1578e-07\n",
      "Epoch 12/40\n",
      "\u001b[1m1407/1407\u001b[0m \u001b[32m━━━━━━━━━━━━━━━━━━━━\u001b[0m\u001b[37m\u001b[0m \u001b[1m1s\u001b[0m 954us/step - loss: 3.1572e-07 - val_loss: 3.1893e-07\n",
      "Epoch 13/40\n",
      "\u001b[1m1407/1407\u001b[0m \u001b[32m━━━━━━━━━━━━━━━━━━━━\u001b[0m\u001b[37m\u001b[0m \u001b[1m1s\u001b[0m 974us/step - loss: 3.1462e-07 - val_loss: 3.1838e-07\n",
      "Epoch 14/40\n",
      "\u001b[1m1407/1407\u001b[0m \u001b[32m━━━━━━━━━━━━━━━━━━━━\u001b[0m\u001b[37m\u001b[0m \u001b[1m1s\u001b[0m 952us/step - loss: 3.1376e-07 - val_loss: 3.1414e-07\n",
      "Epoch 15/40\n",
      "\u001b[1m1407/1407\u001b[0m \u001b[32m━━━━━━━━━━━━━━━━━━━━\u001b[0m\u001b[37m\u001b[0m \u001b[1m1s\u001b[0m 959us/step - loss: 3.1227e-07 - val_loss: 3.1631e-07\n",
      "Epoch 16/40\n",
      "\u001b[1m1407/1407\u001b[0m \u001b[32m━━━━━━━━━━━━━━━━━━━━\u001b[0m\u001b[37m\u001b[0m \u001b[1m1s\u001b[0m 951us/step - loss: 3.1222e-07 - val_loss: 3.1432e-07\n",
      "Epoch 17/40\n",
      "\u001b[1m1407/1407\u001b[0m \u001b[32m━━━━━━━━━━━━━━━━━━━━\u001b[0m\u001b[37m\u001b[0m \u001b[1m1s\u001b[0m 953us/step - loss: 3.1175e-07 - val_loss: 3.1250e-07\n",
      "Epoch 18/40\n",
      "\u001b[1m1407/1407\u001b[0m \u001b[32m━━━━━━━━━━━━━━━━━━━━\u001b[0m\u001b[37m\u001b[0m \u001b[1m1s\u001b[0m 949us/step - loss: 3.1167e-07 - val_loss: 3.1163e-07\n",
      "Epoch 19/40\n",
      "\u001b[1m1407/1407\u001b[0m \u001b[32m━━━━━━━━━━━━━━━━━━━━\u001b[0m\u001b[37m\u001b[0m \u001b[1m1s\u001b[0m 946us/step - loss: 3.1166e-07 - val_loss: 3.1031e-07\n",
      "Epoch 20/40\n",
      "\u001b[1m1407/1407\u001b[0m \u001b[32m━━━━━━━━━━━━━━━━━━━━\u001b[0m\u001b[37m\u001b[0m \u001b[1m1s\u001b[0m 945us/step - loss: 3.0966e-07 - val_loss: 3.1181e-07\n",
      "Epoch 21/40\n",
      "\u001b[1m1407/1407\u001b[0m \u001b[32m━━━━━━━━━━━━━━━━━━━━\u001b[0m\u001b[37m\u001b[0m \u001b[1m1s\u001b[0m 955us/step - loss: 3.0974e-07 - val_loss: 3.1201e-07\n",
      "Epoch 22/40\n",
      "\u001b[1m1407/1407\u001b[0m \u001b[32m━━━━━━━━━━━━━━━━━━━━\u001b[0m\u001b[37m\u001b[0m \u001b[1m1s\u001b[0m 943us/step - loss: 3.0884e-07 - val_loss: 3.1112e-07\n",
      "Epoch 23/40\n",
      "\u001b[1m1407/1407\u001b[0m \u001b[32m━━━━━━━━━━━━━━━━━━━━\u001b[0m\u001b[37m\u001b[0m \u001b[1m1s\u001b[0m 963us/step - loss: 3.0733e-07 - val_loss: 3.1038e-07\n",
      "Epoch 24/40\n",
      "\u001b[1m1407/1407\u001b[0m \u001b[32m━━━━━━━━━━━━━━━━━━━━\u001b[0m\u001b[37m\u001b[0m \u001b[1m1s\u001b[0m 967us/step - loss: 3.0886e-07 - val_loss: 3.1159e-07\n",
      "Epoch 25/40\n",
      "\u001b[1m1407/1407\u001b[0m \u001b[32m━━━━━━━━━━━━━━━━━━━━\u001b[0m\u001b[37m\u001b[0m \u001b[1m1s\u001b[0m 975us/step - loss: 3.0864e-07 - val_loss: 3.0906e-07\n",
      "Epoch 26/40\n",
      "\u001b[1m1407/1407\u001b[0m \u001b[32m━━━━━━━━━━━━━━━━━━━━\u001b[0m\u001b[37m\u001b[0m \u001b[1m1s\u001b[0m 988us/step - loss: 3.0660e-07 - val_loss: 3.0903e-07\n",
      "Epoch 27/40\n",
      "\u001b[1m1407/1407\u001b[0m \u001b[32m━━━━━━━━━━━━━━━━━━━━\u001b[0m\u001b[37m\u001b[0m \u001b[1m1s\u001b[0m 990us/step - loss: 3.0694e-07 - val_loss: 3.0964e-07\n",
      "Epoch 28/40\n",
      "\u001b[1m1407/1407\u001b[0m \u001b[32m━━━━━━━━━━━━━━━━━━━━\u001b[0m\u001b[37m\u001b[0m \u001b[1m1s\u001b[0m 988us/step - loss: 3.0644e-07 - val_loss: 3.0926e-07\n",
      "Epoch 29/40\n",
      "\u001b[1m1407/1407\u001b[0m \u001b[32m━━━━━━━━━━━━━━━━━━━━\u001b[0m\u001b[37m\u001b[0m \u001b[1m1s\u001b[0m 997us/step - loss: 3.0811e-07 - val_loss: 3.0861e-07\n",
      "Epoch 30/40\n",
      "\u001b[1m1407/1407\u001b[0m \u001b[32m━━━━━━━━━━━━━━━━━━━━\u001b[0m\u001b[37m\u001b[0m \u001b[1m1s\u001b[0m 1ms/step - loss: 3.0717e-07 - val_loss: 3.0819e-07\n",
      "Epoch 31/40\n",
      "\u001b[1m1407/1407\u001b[0m \u001b[32m━━━━━━━━━━━━━━━━━━━━\u001b[0m\u001b[37m\u001b[0m \u001b[1m1s\u001b[0m 972us/step - loss: 3.0632e-07 - val_loss: 3.0680e-07\n",
      "Epoch 32/40\n",
      "\u001b[1m1407/1407\u001b[0m \u001b[32m━━━━━━━━━━━━━━━━━━━━\u001b[0m\u001b[37m\u001b[0m \u001b[1m1s\u001b[0m 961us/step - loss: 3.0578e-07 - val_loss: 3.0744e-07\n",
      "Epoch 33/40\n",
      "\u001b[1m1407/1407\u001b[0m \u001b[32m━━━━━━━━━━━━━━━━━━━━\u001b[0m\u001b[37m\u001b[0m \u001b[1m1s\u001b[0m 975us/step - loss: 3.0515e-07 - val_loss: 3.0697e-07\n",
      "Epoch 34/40\n",
      "\u001b[1m1407/1407\u001b[0m \u001b[32m━━━━━━━━━━━━━━━━━━━━\u001b[0m\u001b[37m\u001b[0m \u001b[1m1s\u001b[0m 987us/step - loss: 3.0537e-07 - val_loss: 3.0734e-07\n",
      "Epoch 35/40\n",
      "\u001b[1m1407/1407\u001b[0m \u001b[32m━━━━━━━━━━━━━━━━━━━━\u001b[0m\u001b[37m\u001b[0m \u001b[1m1s\u001b[0m 951us/step - loss: 3.0452e-07 - val_loss: 3.0881e-07\n",
      "Epoch 36/40\n",
      "\u001b[1m1407/1407\u001b[0m \u001b[32m━━━━━━━━━━━━━━━━━━━━\u001b[0m\u001b[37m\u001b[0m \u001b[1m1s\u001b[0m 947us/step - loss: 3.0636e-07 - val_loss: 3.0654e-07\n",
      "Epoch 37/40\n",
      "\u001b[1m1407/1407\u001b[0m \u001b[32m━━━━━━━━━━━━━━━━━━━━\u001b[0m\u001b[37m\u001b[0m \u001b[1m1s\u001b[0m 946us/step - loss: 3.0517e-07 - val_loss: 3.0885e-07\n",
      "Epoch 38/40\n",
      "\u001b[1m1407/1407\u001b[0m \u001b[32m━━━━━━━━━━━━━━━━━━━━\u001b[0m\u001b[37m\u001b[0m \u001b[1m1s\u001b[0m 954us/step - loss: 3.0528e-07 - val_loss: 3.0745e-07\n",
      "Epoch 39/40\n",
      "\u001b[1m1407/1407\u001b[0m \u001b[32m━━━━━━━━━━━━━━━━━━━━\u001b[0m\u001b[37m\u001b[0m \u001b[1m1s\u001b[0m 963us/step - loss: 3.0474e-07 - val_loss: 3.0724e-07\n",
      "Epoch 40/40\n",
      "\u001b[1m1407/1407\u001b[0m \u001b[32m━━━━━━━━━━━━━━━━━━━━\u001b[0m\u001b[37m\u001b[0m \u001b[1m1s\u001b[0m 971us/step - loss: 3.0468e-07 - val_loss: 3.0763e-07\n"
     ]
    }
   ],
   "source": [
    "solver = TSPSolver(num_cities=N)\n",
    "solver.train(X_train, Y_train, epochs=40)"
   ]
  },
  {
   "cell_type": "markdown",
   "id": "9e54e75b-d252-47e7-85b9-12b19b07673a",
   "metadata": {},
   "source": [
    "### Проверка обученной модели"
   ]
  },
  {
   "cell_type": "code",
   "execution_count": 53,
   "id": "24b74467-17e5-44e2-8948-59f8a4c57e2f",
   "metadata": {},
   "outputs": [
    {
     "name": "stderr",
     "output_type": "stream",
     "text": [
      "100%|██████████| 30/30 [00:24<00:00,  1.25it/s]\n"
     ]
    }
   ],
   "source": [
    "cnt = 30\n",
    "ld = []\n",
    "lp = []\n",
    "lr = []\n",
    "for i in tqdm(range(cnt)):\n",
    "    a = rand.normal(20, 5, size=(N, N))\n",
    "    # a = np.round((a + a.T)/2,2)\n",
    "    a[np.eye(N)==1] = 0\n",
    "    permutation, distance = solve_tsp_dynamic_programming(a)\n",
    "    route = solver.predict_route(a)\n",
    "    total_dist = sum(a[route[i], route[i+1]] for i in range(N-1))\n",
    "    total_dist += a[route[-1], route[0]]\n",
    "    ld.append(distance)\n",
    "    lp.append(total_dist)\n",
    "Y_predict = np.array(lp)\n",
    "Y_true = np.array(ld)"
   ]
  },
  {
   "cell_type": "code",
   "execution_count": 54,
   "id": "71f20ce5-7641-4f84-8079-a407ea5a2fdb",
   "metadata": {},
   "outputs": [
    {
     "data": {
      "text/plain": [
       "0.11158602195485692"
      ]
     },
     "execution_count": 54,
     "metadata": {},
     "output_type": "execute_result"
    }
   ],
   "source": [
    "mean_absolute_percentage_error(Y_true,Y_predict)"
   ]
  },
  {
   "cell_type": "code",
   "execution_count": 61,
   "id": "25a2cd21-dc07-4901-96d9-a773d3272aa4",
   "metadata": {},
   "outputs": [
    {
     "data": {
      "text/plain": [
       "np.int64(4)"
      ]
     },
     "execution_count": 61,
     "metadata": {},
     "output_type": "execute_result"
    }
   ],
   "source": [
    "# Сколько случаев действительно плохого прогноза\n",
    "sum(((Y_predict - Y_true) / Y_true) > 0.2)"
   ]
  },
  {
   "cell_type": "code",
   "execution_count": null,
   "id": "a434ed47-41d7-498f-9a72-bca6a5a6f5e0",
   "metadata": {},
   "outputs": [],
   "source": []
  }
 ],
 "metadata": {
  "kernelspec": {
   "display_name": "Python 3 (ipykernel)",
   "language": "python",
   "name": "python3"
  },
  "language_info": {
   "codemirror_mode": {
    "name": "ipython",
    "version": 3
   },
   "file_extension": ".py",
   "mimetype": "text/x-python",
   "name": "python",
   "nbconvert_exporter": "python",
   "pygments_lexer": "ipython3",
   "version": "3.12.9"
  }
 },
 "nbformat": 4,
 "nbformat_minor": 5
}
