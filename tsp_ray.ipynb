{
 "cells": [
  {
   "cell_type": "markdown",
   "id": "e6e5e1bc-f88a-45f6-8a87-6db5882c76da",
   "metadata": {},
   "source": [
    "# Draft"
   ]
  },
  {
   "cell_type": "code",
   "execution_count": null,
   "id": "514c6cc4-e3a9-46af-8868-e8f76d6816bd",
   "metadata": {},
   "outputs": [],
   "source": [
    "from pprint import pprint\n",
    "from ray.rllib.algorithms.ppo import PPOConfig\n",
    "from ray import train, tune\n",
    "from ray.rllib.algorithms.algorithm import Algorithm\n",
    "import gymnasium as gym\n",
    "import pathlib\n",
    "import numpy as np\n",
    "import torch\n",
    "from ray.rllib.core.rl_module import RLModule"
   ]
  },
  {
   "cell_type": "code",
   "execution_count": null,
   "id": "4466d4e1-e52e-49a1-b940-cee8661d65f5",
   "metadata": {},
   "outputs": [],
   "source": [
    "N = 5\n",
    "rand = np.random.RandomState(1)\n",
    "a = np.round(rand.normal(5, 1.5, size=(N, N)),2)\n",
    "a[np.eye(N)==1] = 0\n",
    "a = -(a / a.max())\n",
    "a"
   ]
  },
  {
   "cell_type": "code",
   "execution_count": null,
   "id": "70c58f1f-4aa4-4567-9b19-4a914c258f4f",
   "metadata": {},
   "outputs": [],
   "source": [
    "class MyEnv(gym.Env):\n",
    "    def __init__(self, env_config):\n",
    "        self.n = env_config['n']\n",
    "        self.a = env_config['a']\n",
    "        self.action_space = gym.spaces.Discrete(self.n)\n",
    "        self.observation_space = gym.spaces.Box(low=-2.0, \n",
    "                                                high=0.0, \n",
    "                                                shape=(self.n,), dtype=np.float32)\n",
    "    def reset(self, seed=None, options=None):\n",
    "        self.obs = self.a[0].copy()\n",
    "        return self.obs, {}\n",
    "        \n",
    "    def step(self, action):\n",
    "        reward = self.obs[action]\n",
    "        self.obs[action] = -2.0\n",
    "        terminated = False\n",
    "        truncated = False\n",
    "        if np.all(self.obs<=-2.0):\n",
    "            terminated = True\n",
    "        else:\n",
    "            # переставляем\n",
    "            pass\n",
    "        #print(f\"action = {action} reward = {reward} terminated = {terminated}\")\n",
    "        return self.obs, reward, terminated, truncated, {}"
   ]
  },
  {
   "cell_type": "code",
   "execution_count": null,
   "id": "7dc0c233-ceee-4f68-b906-03bd07fa8874",
   "metadata": {},
   "outputs": [],
   "source": [
    "config = (\n",
    "    PPOConfig()\n",
    "    .api_stack(\n",
    "        enable_rl_module_and_learner=True,\n",
    "        enable_env_runner_and_connector_v2=True,\n",
    "    )\n",
    "    .training(gamma=0.9, lr=0.01, mini_batch_size_per_learner = 128, train_batch_size_per_learner=1024)\n",
    "    .environment(env=MyEnv,\n",
    "        env_config={\"n\": N, \"a\": a}) \n",
    "    .env_runners(num_env_runners=1)\n",
    ")\n",
    "algo = config.build()\n",
    "for i in range(6):\n",
    "    result = algo.train()\n",
    "    if i % 5 == 0:\n",
    "        print(i)\n",
    "        checkpoint_dir = algo.save_to_path()\n",
    "        print(f\"Checkpoint saved in directory {checkpoint_dir}\")"
   ]
  },
  {
   "cell_type": "code",
   "execution_count": null,
   "id": "91a97dbc-278b-492f-9a9f-61551e702ff9",
   "metadata": {},
   "outputs": [],
   "source": [
    "config = (\n",
    "    PPOConfig()\n",
    "    .api_stack(\n",
    "        enable_rl_module_and_learner=True,\n",
    "        enable_env_runner_and_connector_v2=True,\n",
    "    )\n",
    "    .environment(env=MyEnv,\n",
    "        env_config={\"n\": N, \"a\": a})\n",
    "    .training(\n",
    "        lr=tune.grid_search([0.01, 0.001, 0.0001]),\n",
    "    )\n",
    ")"
   ]
  },
  {
   "cell_type": "code",
   "execution_count": null,
   "id": "a712b946-fa98-47c9-ad6d-0085b9643fa1",
   "metadata": {},
   "outputs": [],
   "source": [
    "tuner = tune.Tuner(\n",
    "    \"PPO\",\n",
    "    param_space=config,\n",
    "    run_config=train.RunConfig(\n",
    "        stop={\"num_env_steps_sampled_lifetime\": 20000},\n",
    "        checkpoint_config=train.CheckpointConfig(checkpoint_at_end=True),\n",
    "    ),\n",
    ")\n",
    "results = tuner.fit()\n",
    "# Get the best result based on a particular metric.\n",
    "best_result = results.get_best_result(\n",
    "    metric=\"env_runners/episode_return_mean\", mode=\"max\"\n",
    ")\n",
    "# Get the best checkpoint corresponding to the best result.\n",
    "best_checkpoint = best_result.checkpoint"
   ]
  },
  {
   "cell_type": "code",
   "execution_count": null,
   "id": "8bb6d7c5-3388-4bac-9886-2c82162ae8b6",
   "metadata": {},
   "outputs": [],
   "source": [
    "env = MyEnv(env_config = {\"n\": N, \"a\": a} )"
   ]
  },
  {
   "cell_type": "code",
   "execution_count": null,
   "id": "6ec7da0e-7272-4025-9419-742724884f5f",
   "metadata": {},
   "outputs": [],
   "source": [
    "rl_module = RLModule.from_checkpoint(\n",
    "    pathlib.Path(checkpoint_dir ) / \"learner_group\" / \"learner\" / \"rl_module\" #best_checkpoint.path\n",
    ")[\"default_policy\"]\n",
    "\n",
    "episode_return = 0\n",
    "terminated = truncated = False\n",
    "obs, info = env.reset()\n",
    "i = 0\n",
    "while not terminated and not truncated and i < 15:\n",
    "    i += 1\n",
    "    torch_obs_batch = torch.from_numpy(np.array([obs]))\n",
    "    torch_obs_batch = torch_obs_batch.to(torch.float32)\n",
    "    action_logits = rl_module.forward_inference({\"obs\": torch_obs_batch})[\n",
    "        \"action_dist_inputs\"\n",
    "    ]\n",
    "    action = torch.argmax(action_logits[0]).numpy()\n",
    "    obs, reward, terminated, truncated, info = env.step(action)\n",
    "    episode_return += reward\n",
    "    print(action, terminated, truncated)\n",
    "print(f\"Reached episode return of {episode_return}.\")"
   ]
  },
  {
   "cell_type": "code",
   "execution_count": null,
   "id": "7be460ba-b1f4-41a5-a70b-7011e021e4b4",
   "metadata": {},
   "outputs": [],
   "source": []
  }
 ],
 "metadata": {
  "kernelspec": {
   "display_name": "Python 3 (ipykernel)",
   "language": "python",
   "name": "python3"
  },
  "language_info": {
   "codemirror_mode": {
    "name": "ipython",
    "version": 3
   },
   "file_extension": ".py",
   "mimetype": "text/x-python",
   "name": "python",
   "nbconvert_exporter": "python",
   "pygments_lexer": "ipython3",
   "version": "3.11.10"
  }
 },
 "nbformat": 4,
 "nbformat_minor": 5
}
