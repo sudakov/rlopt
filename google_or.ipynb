{
 "cells": [
  {
   "cell_type": "code",
   "execution_count": 1,
   "id": "78db2f99-3661-4129-abce-c0c41ba04d35",
   "metadata": {},
   "outputs": [],
   "source": [
    "from ortools.constraint_solver import pywrapcp\n",
    "from ortools.constraint_solver import routing_enums_pb2\n",
    "from ortools.sat.python import cp_model\n",
    "import numpy as np\n",
    "from tqdm import tqdm\n",
    "from sklearn.metrics import mean_absolute_percentage_error"
   ]
  },
  {
   "cell_type": "code",
   "execution_count": 2,
   "id": "4ed87413-5db2-4bfb-8daf-e562738a65ad",
   "metadata": {},
   "outputs": [],
   "source": [
    "X = np.load('X_20x20.npy')\n",
    "Y = np.load('Y_20x20.npy')\n",
    "a = (X[0]* 10000.00).astype(int)"
   ]
  },
  {
   "cell_type": "code",
   "execution_count": 3,
   "id": "9bdbfc33-e8d5-462c-9256-e33c27c9a87c",
   "metadata": {},
   "outputs": [],
   "source": [
    "def get_solution(manager, routing, solution):\n",
    "    index = routing.Start(0)\n",
    "    route = []\n",
    "    while not routing.IsEnd(index):\n",
    "        route.append(manager.IndexToNode(index))\n",
    "        index = solution.Value(routing.NextVar(index))\n",
    "    return solution.ObjectiveValue(), route"
   ]
  },
  {
   "cell_type": "code",
   "execution_count": 4,
   "id": "052fb4c7-4f01-4632-88d8-2a70e412d47f",
   "metadata": {},
   "outputs": [
    {
     "name": "stdout",
     "output_type": "stream",
     "text": [
      "Route: 0 5 17 19 2 12 3 10 6 4 13 16 18 7 11 15 1 14 8 9 0\n",
      "distance: 244.5748\n"
     ]
    }
   ],
   "source": [
    "DISTANCE_MATRIX = a\n",
    "num_nodes = len(DISTANCE_MATRIX)\n",
    "all_nodes = range(num_nodes)\n",
    "\n",
    "# Model.\n",
    "model = cp_model.CpModel()\n",
    "\n",
    "obj_vars = []\n",
    "obj_coeffs = []\n",
    "\n",
    "# Create the circuit constraint.\n",
    "arcs = []\n",
    "arc_literals = {}\n",
    "for i in all_nodes:\n",
    "    for j in all_nodes:\n",
    "        if i == j:\n",
    "            continue\n",
    "\n",
    "        lit = model.new_bool_var(\"%i follows %i\" % (j, i))\n",
    "        arcs.append((i, j, lit))\n",
    "        arc_literals[i, j] = lit\n",
    "\n",
    "        obj_vars.append(lit)\n",
    "        obj_coeffs.append(DISTANCE_MATRIX[i][j])\n",
    "\n",
    "model.add_circuit(arcs)\n",
    "\n",
    "# Minimize weighted sum of arcs. Because this s\n",
    "model.minimize(sum(obj_vars[i] * obj_coeffs[i] for i in range(len(obj_vars))))\n",
    "\n",
    "# Solve and print out the solution.\n",
    "solver = cp_model.CpSolver()\n",
    "#solver.parameters.log_search_progress = True\n",
    "# To benefit from the linearization of the circuit constraint.\n",
    "solver.parameters.linearization_level = 2\n",
    "\n",
    "solver.solve(model)\n",
    "# print(solver.response_stats())\n",
    "\n",
    "current_node = 0\n",
    "str_route = \"%i\" % current_node\n",
    "route_is_finished = False\n",
    "route_distance = 0\n",
    "while not route_is_finished:\n",
    "    for i in all_nodes:\n",
    "        if i == current_node:\n",
    "            continue\n",
    "        if solver.boolean_value(arc_literals[current_node, i]):\n",
    "            str_route += \" %i\" % i\n",
    "            route_distance += DISTANCE_MATRIX[current_node][i]\n",
    "            current_node = i\n",
    "            if current_node == 0:\n",
    "                route_is_finished = True\n",
    "            break\n",
    "\n",
    "print(\"Route:\", str_route)\n",
    "print(\"distance:\", route_distance/10000)\n"
   ]
  },
  {
   "cell_type": "code",
   "execution_count": 5,
   "id": "80700150-d4ba-40ca-acce-ff65c0e5a71b",
   "metadata": {},
   "outputs": [
    {
     "name": "stdout",
     "output_type": "stream",
     "text": [
      "23 ms ± 7.71 ms per loop (mean ± std. dev. of 7 runs, 10 loops each)\n"
     ]
    }
   ],
   "source": [
    "%timeit solver.solve(model)"
   ]
  },
  {
   "cell_type": "code",
   "execution_count": 6,
   "id": "88e0dbb0-80c1-477b-a3b9-82ff5ea4b1c4",
   "metadata": {},
   "outputs": [],
   "source": [
    "border = 60000\n",
    "X_test = X[border:]\n",
    "Y_test = Y[border:]"
   ]
  },
  {
   "cell_type": "code",
   "execution_count": 7,
   "id": "d1b83023-9c6b-4478-926e-c5b6faec109b",
   "metadata": {},
   "outputs": [],
   "source": [
    "def solve_google(a):\n",
    "    data = {}\n",
    "    data[\"distance_matrix\"] = a\n",
    "    data[\"num_vehicles\"] = 1\n",
    "    data[\"depot\"] = 0\n",
    "    manager = pywrapcp.RoutingIndexManager(\n",
    "        len(data[\"distance_matrix\"]), data[\"num_vehicles\"], data[\"depot\"]\n",
    "    )\n",
    "    routing = pywrapcp.RoutingModel(manager)\n",
    "    def distance_callback(from_index, to_index):\n",
    "        from_node = manager.IndexToNode(from_index)\n",
    "        to_node = manager.IndexToNode(to_index)\n",
    "        return data[\"distance_matrix\"][from_node][to_node]\n",
    "    transit_callback_index = routing.RegisterTransitCallback(distance_callback)\n",
    "    routing.SetArcCostEvaluatorOfAllVehicles(transit_callback_index)\n",
    "    search_parameters = pywrapcp.DefaultRoutingSearchParameters()\n",
    "    search_parameters.first_solution_strategy = (\n",
    "        routing_enums_pb2.FirstSolutionStrategy.PATH_CHEAPEST_ARC\n",
    "    )\n",
    "    solution = routing.SolveWithParameters(search_parameters)\n",
    "    return get_solution(manager, routing, solution)"
   ]
  },
  {
   "cell_type": "code",
   "execution_count": 8,
   "id": "4289cd59-c121-4109-9c7c-5dfa934cd2e9",
   "metadata": {},
   "outputs": [
    {
     "name": "stderr",
     "output_type": "stream",
     "text": [
      "100%|██████████| 3000/3000 [00:25<00:00, 118.29it/s]\n"
     ]
    }
   ],
   "source": [
    "ld = []\n",
    "ll = []\n",
    "N = X_test.shape[1]\n",
    "for i in tqdm(range(X_test.shape[0])):\n",
    "    a = (X_test[i] * 10000.00).astype(int)\n",
    "    route = Y_test[i]\n",
    "    distance = sum(a[route[j],route[j+1]] for j in range(N-1))+a[route[-1],route[0]]\n",
    "    ldist, _ = solve_google(a)\n",
    "    ld.append(distance)\n",
    "    ll.append(ldist)"
   ]
  },
  {
   "cell_type": "code",
   "execution_count": 9,
   "id": "87c87bbf-2e24-4508-9c74-177c0c801c3f",
   "metadata": {},
   "outputs": [
    {
     "data": {
      "text/plain": [
       "0.031011210607327238"
      ]
     },
     "execution_count": 9,
     "metadata": {},
     "output_type": "execute_result"
    }
   ],
   "source": [
    "Y_true = np.array(ld)\n",
    "Y_l = np.array(ll)\n",
    "mean_absolute_percentage_error(Y_true, Y_l)"
   ]
  },
  {
   "cell_type": "code",
   "execution_count": 10,
   "id": "55e0d367-fae7-4a6a-b2bc-bfe3ba59751a",
   "metadata": {},
   "outputs": [
    {
     "name": "stdout",
     "output_type": "stream",
     "text": [
      "7.7 ms ± 11.5 μs per loop (mean ± std. dev. of 7 runs, 100 loops each)\n"
     ]
    }
   ],
   "source": [
    "%timeit solve_google(a)"
   ]
  },
  {
   "cell_type": "code",
   "execution_count": null,
   "id": "46cc45d6-6c8c-485d-8357-82795fc6ac70",
   "metadata": {},
   "outputs": [],
   "source": []
  }
 ],
 "metadata": {
  "kernelspec": {
   "display_name": "Python 3 (ipykernel)",
   "language": "python",
   "name": "python3"
  },
  "language_info": {
   "codemirror_mode": {
    "name": "ipython",
    "version": 3
   },
   "file_extension": ".py",
   "mimetype": "text/x-python",
   "name": "python",
   "nbconvert_exporter": "python",
   "pygments_lexer": "ipython3",
   "version": "3.12.9"
  }
 },
 "nbformat": 4,
 "nbformat_minor": 5
}
