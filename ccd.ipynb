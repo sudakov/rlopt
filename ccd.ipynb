{
 "cells": [
  {
   "cell_type": "code",
   "execution_count": 18,
   "id": "13417727-1696-4871-bc53-4104b7aa5443",
   "metadata": {},
   "outputs": [],
   "source": [
    "from concorde.problem import Problem\n",
    "from concorde.concorde import Concorde\n",
    "import numpy as np\n",
    "from python_tsp.exact import solve_tsp_branch_and_bound\n",
    "from python_tsp.heuristics import solve_tsp_lin_kernighan, solve_tsp_record_to_record\n",
    "from tqdm import tqdm\n",
    "from sklearn.metrics import mean_absolute_percentage_error"
   ]
  },
  {
   "cell_type": "code",
   "execution_count": 7,
   "id": "b10c752d-8aa9-4da2-95a7-d27b29c03dc1",
   "metadata": {},
   "outputs": [],
   "source": [
    "X = np.load('X_20x20.npy')\n",
    "Y = np.load('Y_20x20.npy')"
   ]
  },
  {
   "cell_type": "code",
   "execution_count": 8,
   "id": "d07f2250-5c07-4540-8fa4-ec2572a7ce53",
   "metadata": {},
   "outputs": [],
   "source": [
    "def reformulate_ATSP_as_TSP(x, inf=99, neg_inf=0):\n",
    "    np.fill_diagonal(x, neg_inf)\n",
    "    a = np.concatenate((np.full(x.shape, inf), np.transpose(x)), axis=1)\n",
    "    b = np.concatenate((x, np.full(x.shape, inf)), axis=1)\n",
    "    return np.concatenate((a, b), axis=0)\n",
    "\n",
    "def route_ATSP_from_TSP(a, route):\n",
    "    n = a.shape[0]//2\n",
    "    route1 = [x for x in route if x < n]\n",
    "    route2 = [x for x in route[::-1] if x < n]\n",
    "    dist1 = sum(a[route1[i]+n,route1[(i+1)%n]] for i in range(n))\n",
    "    dist2 = sum(a[route2[i]+n,route2[(i+1)%n]] for i in range(n))\n",
    "    if dist2 > dist1:\n",
    "        return route1, dist1\n",
    "    else:\n",
    "        return route2, dist2"
   ]
  },
  {
   "cell_type": "code",
   "execution_count": 4,
   "id": "48664cda-841e-4001-a5ae-2850d19002d9",
   "metadata": {},
   "outputs": [],
   "source": [
    "a = (reformulate_ATSP_as_TSP(X[-1]) * 10000).astype(int)\n",
    "problem = Problem.from_matrix(a)\n",
    "#problem.to_tsp('my_tsp.tsp')"
   ]
  },
  {
   "cell_type": "code",
   "execution_count": 5,
   "id": "84219cfb-d8a2-4156-b250-cac0cc9dd6fb",
   "metadata": {},
   "outputs": [],
   "source": [
    "c = Concorde()\n",
    "solution = c.solve(problem, concorde_exe = '/home/vladimir/src/concorde/TSP/concorde')"
   ]
  },
  {
   "cell_type": "code",
   "execution_count": 6,
   "id": "eb394b6f-3488-4ef6-ae43-cf6d759a38de",
   "metadata": {},
   "outputs": [
    {
     "name": "stdout",
     "output_type": "stream",
     "text": [
      "15.7 ms ± 743 μs per loop (mean ± std. dev. of 7 runs, 100 loops each)\n"
     ]
    }
   ],
   "source": [
    "%timeit c.solve(problem, concorde_exe = '/home/vladimir/src/concorde/TSP/concorde')"
   ]
  },
  {
   "cell_type": "code",
   "execution_count": 6,
   "id": "ce4dae69-c11f-4bb5-a73d-55539bd184e1",
   "metadata": {},
   "outputs": [
    {
     "data": {
      "text/plain": [
       "([19, 6, 3, 2, 15, 8, 1, 10, 9, 4, 17, 7, 18, 5, 12, 14, 16, 11, 13, 0],\n",
       " np.float64(244.58890000000005))"
      ]
     },
     "execution_count": 6,
     "metadata": {},
     "output_type": "execute_result"
    }
   ],
   "source": [
    "route_ATSP_from_TSP(a/10000, solution.tour)"
   ]
  },
  {
   "cell_type": "code",
   "execution_count": 7,
   "id": "541de715-f582-46fd-afe7-6f6f92aad086",
   "metadata": {},
   "outputs": [
    {
     "data": {
      "text/plain": [
       "([0, 19, 6, 3, 2, 15, 8, 1, 10, 9, 4, 17, 7, 18, 5, 12, 14, 16, 11, 13],\n",
       " np.float64(244.59001031102923))"
      ]
     },
     "execution_count": 7,
     "metadata": {},
     "output_type": "execute_result"
    }
   ],
   "source": [
    "solve_tsp_branch_and_bound(X[-1])"
   ]
  },
  {
   "cell_type": "code",
   "execution_count": 9,
   "id": "1882b5ef-0291-4a1a-a454-a75e4d75caed",
   "metadata": {},
   "outputs": [
    {
     "name": "stdout",
     "output_type": "stream",
     "text": [
      "155 ms ± 1.08 ms per loop (mean ± std. dev. of 7 runs, 10 loops each)\n"
     ]
    }
   ],
   "source": [
    "%timeit solve_tsp_branch_and_bound(X[0])"
   ]
  },
  {
   "cell_type": "code",
   "execution_count": 8,
   "id": "514adb92-2174-4e4a-888c-4cdf2122b0f8",
   "metadata": {},
   "outputs": [
    {
     "data": {
      "text/plain": [
       "([0, 19, 9, 12, 15, 18, 11, 13, 4, 8, 1, 10, 16, 14, 17, 7, 5, 6, 3, 2],\n",
       " np.float64(278.88660000000004))"
      ]
     },
     "execution_count": 8,
     "metadata": {},
     "output_type": "execute_result"
    }
   ],
   "source": [
    "route, _ = solve_tsp_lin_kernighan(a)\n",
    "route_ATSP_from_TSP(a/10000, route)"
   ]
  },
  {
   "cell_type": "code",
   "execution_count": 11,
   "id": "5a84ebe7-078f-4a24-a3e0-650509a9f262",
   "metadata": {},
   "outputs": [
    {
     "name": "stdout",
     "output_type": "stream",
     "text": [
      "4.39 ms ± 73.2 μs per loop (mean ± std. dev. of 7 runs, 100 loops each)\n"
     ]
    }
   ],
   "source": [
    "%timeit solve_tsp_lin_kernighan(a)"
   ]
  },
  {
   "cell_type": "code",
   "execution_count": 9,
   "id": "78b34b9b-852f-4e33-9eb1-1e5f11a7bfaf",
   "metadata": {},
   "outputs": [
    {
     "data": {
      "text/plain": [
       "([0, 16, 14, 7, 18, 5, 19, 8, 6, 3, 4, 1, 10, 9, 12, 2, 15, 17, 11, 13],\n",
       " np.float64(247.68540000000002))"
      ]
     },
     "execution_count": 9,
     "metadata": {},
     "output_type": "execute_result"
    }
   ],
   "source": [
    "route, _ = solve_tsp_record_to_record(a)\n",
    "route_ATSP_from_TSP(a/10000, route)"
   ]
  },
  {
   "cell_type": "code",
   "execution_count": 20,
   "id": "bf7e9736-107e-458a-87b2-04494043f22b",
   "metadata": {},
   "outputs": [
    {
     "name": "stdout",
     "output_type": "stream",
     "text": [
      "76 ms ± 2.55 ms per loop (mean ± std. dev. of 7 runs, 10 loops each)\n"
     ]
    }
   ],
   "source": [
    "%timeit solve_tsp_record_to_record(a)"
   ]
  },
  {
   "cell_type": "code",
   "execution_count": 10,
   "id": "481c0861-bc17-4f3a-88ef-c828c9f32628",
   "metadata": {},
   "outputs": [],
   "source": [
    "border = 60000\n",
    "X_test = X[border:]\n",
    "Y_test = Y[border:]"
   ]
  },
  {
   "cell_type": "code",
   "execution_count": 16,
   "id": "6cd7bd63-7c8e-4b3c-9c9b-9e253b3a59ba",
   "metadata": {},
   "outputs": [
    {
     "name": "stderr",
     "output_type": "stream",
     "text": [
      "100%|██████████| 3000/3000 [00:13<00:00, 227.48it/s]\n"
     ]
    }
   ],
   "source": [
    "ld = []\n",
    "ll = []\n",
    "N = X_test.shape[1]\n",
    "for i in tqdm(range(X_test.shape[0])):\n",
    "    a = X_test[i]\n",
    "    route = Y_test[i]\n",
    "    distance = sum(a[route[j],route[j+1]] for j in range(N-1))+a[route[-1],route[0]]\n",
    "    a = (reformulate_ATSP_as_TSP(a) * 10000).astype(int)\n",
    "    _, ldist = solve_tsp_lin_kernighan(a)\n",
    "    ld.append(distance)\n",
    "    ll.append(ldist)"
   ]
  },
  {
   "cell_type": "code",
   "execution_count": 19,
   "id": "0e073660-d135-44af-809d-561ffa2de9fa",
   "metadata": {},
   "outputs": [
    {
     "data": {
      "text/plain": [
       "0.12919041027932046"
      ]
     },
     "execution_count": 19,
     "metadata": {},
     "output_type": "execute_result"
    }
   ],
   "source": [
    "Y_true = np.array(ld)\n",
    "Y_l = np.array(ll)/10000\n",
    "mean_absolute_percentage_error(Y_true, Y_l)"
   ]
  },
  {
   "cell_type": "code",
   "execution_count": null,
   "id": "b87d3eab-5704-4870-800f-64076398326b",
   "metadata": {},
   "outputs": [],
   "source": []
  }
 ],
 "metadata": {
  "kernelspec": {
   "display_name": "Python 3 (ipykernel)",
   "language": "python",
   "name": "python3"
  },
  "language_info": {
   "codemirror_mode": {
    "name": "ipython",
    "version": 3
   },
   "file_extension": ".py",
   "mimetype": "text/x-python",
   "name": "python",
   "nbconvert_exporter": "python",
   "pygments_lexer": "ipython3",
   "version": "3.12.9"
  }
 },
 "nbformat": 4,
 "nbformat_minor": 5
}
